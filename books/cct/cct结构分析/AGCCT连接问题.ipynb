{
 "metadata": {
  "language_info": {
   "codemirror_mode": {
    "name": "ipython",
    "version": 3
   },
   "file_extension": ".py",
   "mimetype": "text/x-python",
   "name": "python",
   "nbconvert_exporter": "python",
   "pygments_lexer": "ipython3",
   "version": 3
  },
  "orig_nbformat": 2
 },
 "nbformat": 4,
 "nbformat_minor": 2,
 "cells": [
  {
   "source": [
    "# AGCCT 连接问题\n",
    "\n",
    "## 问题提出\n",
    "\n",
    "两段连续的交变四极 CCT 需要连接起来，正是这种连接实现了四极场的交变\n",
    "\n",
    "<img src=\"./img/A01agcct连接.jpg\" width=40%></img>\n",
    "\n",
    "图片：博士论文\n",
    "\n"
   ],
   "cell_type": "markdown",
   "metadata": {}
  },
  {
   "source": [
    "## 连接问题的实质和要求\n",
    "\n",
    "### 问题实质\n",
    "\n",
    "空间中的两个曲线段，端点的连接\n",
    "\n",
    "### 连接要求\n",
    "\n",
    "1. 接点处平滑，即接点处切线反向连续\n",
    "\n",
    "2. 连接线不宜过长。（节约材料）\n",
    "\n",
    "3. 连接线的曲率应尽可能的小。（避免超导线断裂）"
   ],
   "cell_type": "markdown",
   "metadata": {}
  },
  {
   "source": [
    "## 连接难点\n",
    "\n",
    "不能在三维空间中直接连接，因为 cct 路径在一个曲面上的\n",
    "\n",
    "- 直线 CCT：圆柱面\n",
    "\n",
    "- 弯曲 CCT：圆环面\n",
    "\n",
    "如果在空间中连接，很可能导致连接线超出曲面外，以直线 CCT 为例\n",
    "\n",
    "<img src=\"./img/A02agcct连接.jpg\" width=40%></img>\n",
    "\n",
    "如果贸然连接：\n",
    "\n",
    "<img src=\"./img/A03agcct连接.jpg\" width=40%></img>\n",
    "\n",
    "很有可能连接段超出曲面：（黄色连接线，灰色虚线，投影）\n",
    "\n",
    "<img src=\"./img/A04agcct连接.jpg\" width=40%></img>\n",
    "\n",
    "<img src=\"./img/A05agcct连接.jpg\" width=40%></img>\n",
    "\n",
    "\n"
   ],
   "cell_type": "markdown",
   "metadata": {}
  },
  {
   "source": [
    "## 首先研究直线 CCT 的连接\n",
    "\n",
    "因为直线 CCT 缠绕在圆柱面上，圆柱面是可展曲面。因此一个简单的想法是，把圆柱面展开，在平面内完成连接。\n",
    "\n",
    "引入 z-Θ 坐标系，其中 Θ=θr。\n",
    "\n",
    "<img src=\"./img/A06agcct连接.jpg\" width=40%></img>\n",
    "\n",
    "### 进一步分析 CCT 连接点的形状\n",
    "\n",
    "结论：（错误结论）CCT 的两个连接点，他们的切向，方向相反。\n",
    "\n",
    "正确结论：对于螺线管的连接，连接点切向，大约相差 0.5 度，但因为朝向一左一右，所以看起来差别很大，对于倾斜角 30 度的 cct，连接点的情况如下，这是一个实际 cct 的数据。\n",
    "\n",
    "<img src=\"./img/A07agcct连接.jpg\" width=40%></img>\n",
    "\n",
    "\n",
    "\n"
   ],
   "cell_type": "markdown",
   "metadata": {}
  }
 ]
}