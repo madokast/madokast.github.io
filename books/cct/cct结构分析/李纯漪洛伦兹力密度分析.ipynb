{
 "metadata": {
  "language_info": {
   "codemirror_mode": {
    "name": "ipython",
    "version": 3
   },
   "file_extension": ".py",
   "mimetype": "text/x-python",
   "name": "python",
   "nbconvert_exporter": "python",
   "pygments_lexer": "ipython3",
   "version": 3
  },
  "orig_nbformat": 2
 },
 "nbformat": 4,
 "nbformat_minor": 2,
 "cells": [
  {
   "source": [
    "# 洛伦兹力密度分析\n",
    "\n",
    "问题详见博士论文第五章，和 Error1 Opera-3d估算洛伦兹力密度数值不正确 文档。\n",
    "\n"
   ],
   "cell_type": "markdown",
   "metadata": {}
  }
 ]
}