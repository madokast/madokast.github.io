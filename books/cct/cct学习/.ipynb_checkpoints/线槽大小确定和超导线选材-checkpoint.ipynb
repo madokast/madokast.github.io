{
 "cells": [
  {
   "cell_type": "markdown",
   "metadata": {},
   "source": [
    "# 线槽大小确定和超导线选材\n",
    "\n",
    "## 问题提出\n",
    "\n",
    "2020年12月18日，确定了新的 CCT 参数，开始调整线槽大小和超导线选材。\n",
    "\n",
    "### 新的 CCT 参数，二极 CCT 和四极 CCT，总电流都略微上升\n",
    "\n",
    "二极 CCT 9206A --> 9489A\n",
    "\n",
    "四极 CCT 7037A --> 7335A\n",
    "\n",
    "### 原先的槽设计（2.5mm * 11mm）和导线分布（2*11）不合理\n",
    "\n",
    "原先槽设计，导致骨架在槽位置的厚度只有 3 mm，偏低\n",
    "\n",
    "导线分布 2*11，这个 11 太多了。\n",
    "\n",
    "### 新的设计要求\n",
    "\n",
    "1. 骨架在槽位置的厚度应为 3-5 mm\n",
    "\n",
    "2. 超导线选在偏保守，原本选材的导线太细，可以选粗一点的，做到 2*8 或者 6*2，单线尺寸可以到 1.7mm。槽宽度可以到 4mm\n",
    "\n",
    "\n",
    "## 调整中出现的问题\n",
    "\n",
    "详细计算 rib 宽度后法线，当槽宽度为 4mm 时，rib 最小宽度只有 0.114mm，所以线材 1.7mm 不合适。如下"
   ]
  },
  {
   "cell_type": "code",
   "execution_count": 6,
   "metadata": {},
   "outputs": [],
   "source": [
    "# rib 宽度\n",
    "\n",
    "import rib宽度计算器"
   ]
  },
  {
   "cell_type": "markdown",
   "metadata": {},
   "source": [
    "西部超导线数据如下\n",
    "\n",
    "<img src=\"img/西部超导数据.jpg\" width=60%></img>\n",
    "\n",
    "之前选的是 11 号线材，1.1*1.1，线槽宽度 2.5mm\n",
    "\n",
    "现在选15号，1.5*1.5，初步估计工作电流 600A，裕度~30%（如下图），需要opera计算确认\n",
    "\n",
    "二极CCT需要16匝，2*8  （直接对应槽 3mm*12mm，可能还需要留一定的余量）（电流密度）\n",
    "\n",
    "四极CCT需要14匝，2*7\n",
    "\n",
    "<img src=\"img/西部超导选型.jpg\" width=50%></img>\n"
   ]
  },
  {
   "cell_type": "markdown",
   "metadata": {},
   "source": [
    "## 博士论文的启示\n",
    "\n",
    "博士论文 9 章\n",
    "\n",
    "一个弯转90度，半径0.775m，孔径250mm的上游二极CCT\n",
    "\n",
    "中心二极磁场 3.0 T，导线上最大磁场 3.93T \n",
    "\n",
    "他认为rib宽度只要大于0.381mm（只是从机械加工上限制，没有考虑洛伦兹力压强）\n",
    "\n",
    "<img src=\"img/博士论文rib极限.jpg\" width=30%></img>\n",
    "\n",
    "<img src=\"img/博士论文rib极限描述.jpg\" width=50%></img>\n"
   ]
  },
  {
   "cell_type": "markdown",
   "metadata": {},
   "source": [
    "## 补充导线上最强磁场计算数据\n",
    "\n",
    "使用 opera 得到导线上最强磁场计算数据\n",
    "\n",
    "导线几何为 3.2mm * 11mm\n",
    "\n",
    "二极 CCT 上最大磁场 4.103T\n",
    "\n",
    "四极 CCT 上最大磁场 4.597T\n",
    "\n",
    "如下图\n",
    "\n",
    "<img src=\"img/opera导线附近最大磁场_全CCT.jpg\" width=20%></img>\n",
    "\n",
    "<img src=\"img/opera导线附近最大磁场_二极CCT.jpg\" width=20%></img>\n",
    "\n",
    "<img src=\"img/opera导线附近最大磁场_四极CCT.jpg\" width=20%></img>\n"
   ]
  },
  {
   "cell_type": "markdown",
   "metadata": {},
   "source": [
    "## 选用新的超导线厂商\n",
    "\n",
    "<img src=\"img/新超导线厂商资料.jpg\" width=80%></img>\n",
    "\n",
    "1.50 的线材，带上绝缘后，直径 1.55mm，对于槽宽度 3.2mm，有点不够\n",
    "\n",
    "下面测试 1.25 线材，绝缘直接 1.3mm，工作裕度计算"
   ]
  },
  {
   "cell_type": "code",
   "execution_count": 4,
   "metadata": {},
   "outputs": [
    {
     "data": {
      "image/png": "[encoded data removed]",
      "text/plain": [
       "<Figure size 432x288 with 1 Axes>"
      ]
     },
     "metadata": {
      "needs_background": "light"
     },
     "output_type": "display_data"
    }
   ],
   "source": [
    "import matplotlib.pyplot as plt\n",
    "import math\n",
    "import numpy\n",
    "\n",
    "\n",
    "# 超导线横截面积\n",
    "line_cross_section = math.pi * ((1.25/2)**2)\n",
    "# 导线数据，电流 - 磁场\n",
    "product_data_current = [795, 620, 445, 275] # r = 1.25\n",
    "product_data_magnet = [6, 7, 8, 9] # r = 1.25\n",
    "\n",
    "# 总电流\n",
    "current_dicct = 9488.615\n",
    "current_agcct = 7334.914\n",
    "\n",
    "# 最大磁场\n",
    "max_magnet_dicct = 4.102784\n",
    "max_magnet_agcct = 4.596925\n",
    "\n",
    "def work_line(current_density, max_manget, end_current_density):\n",
    "    # 工作点\n",
    "    plt.plot([max_manget], [current_density], 'r.', markersize=10)\n",
    "    # 工作线\n",
    "    plt.plot([0, max_manget], [0, current_density], 'r-')\n",
    "    # 延长线\n",
    "    plt.plot([0, end_current_density*max_manget/current_density], [0, end_current_density], 'r--')\n",
    "    \n",
    "def product_line(product_data_magnet, product_data_current):\n",
    "    # plt.plot(product_data_magnet, product_data_current,\"k--\")\n",
    "    plt.plot(product_data_magnet, product_data_current,\"k.\", markersize=10)\n",
    "    plt.xlim(0, 10)\n",
    "    plt.ylim(0, 1200)\n",
    "    plt.xlabel('B/T')\n",
    "    plt.ylabel('I/A')\n",
    "\n",
    "    # 拟合\n",
    "    fit = numpy.polyfit(product_data_magnet, product_data_current,2)\n",
    "    f = numpy.poly1d(fit)\n",
    "    xs = numpy.linspace(0, 10,1000)\n",
    "    ys = f(xs)\n",
    "    plt.plot(xs,ys,'k--')\n",
    "\n",
    "work_line(current_agcct / line_cross_section / (2*8), max_magnet_agcct, 1000) # 640\n",
    "work_line(current_agcct / line_cross_section / (2*7), max_magnet_agcct, 1000) # 640\n",
    "work_line(current_agcct / line_cross_section / (2*6), max_magnet_agcct, 1000) # 640\n",
    "work_line(current_agcct / line_cross_section / (2*5), max_magnet_agcct, 1000) # 640\n",
    "\n",
    "product_line(product_data_magnet, product_data_current)\n",
    "plt.show()"
   ]
  },
  {
   "cell_type": "code",
   "execution_count": null,
   "metadata": {},
   "outputs": [],
   "source": []
  },
  {
   "cell_type": "code",
   "execution_count": null,
   "metadata": {},
   "outputs": [],
   "source": []
  }
 ],
 "metadata": {
  "kernelspec": {
   "display_name": "Python 3",
   "language": "python",
   "name": "python3"
  },
  "language_info": {
   "codemirror_mode": {
    "name": "ipython",
    "version": 3
   },
   "file_extension": ".py",
   "mimetype": "text/x-python",
   "name": "python",
   "nbconvert_exporter": "python",
   "pygments_lexer": "ipython3",
   "version": "3.8.0"
  }
 },
 "nbformat": 4,
 "nbformat_minor": 2
}
