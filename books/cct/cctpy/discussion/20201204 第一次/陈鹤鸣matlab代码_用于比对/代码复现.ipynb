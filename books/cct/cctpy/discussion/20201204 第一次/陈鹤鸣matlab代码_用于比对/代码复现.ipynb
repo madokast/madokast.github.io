{
 "metadata": {
  "language_info": {
   "codemirror_mode": {
    "name": "ipython",
    "version": 3
   },
   "file_extension": ".py",
   "mimetype": "text/x-python",
   "name": "python",
   "nbconvert_exporter": "python",
   "pygments_lexer": "ipython3",
   "version": 3
  },
  "orig_nbformat": 2
 },
 "nbformat": 4,
 "nbformat_minor": 2,
 "cells": [
  {
   "source": [
    "# 代码复现\n",
    "\n",
    "将陈鹤鸣师兄的 matlab 代码转为 python，并复现"
   ],
   "cell_type": "markdown",
   "metadata": {}
  },
  {
   "source": [
    "## StraightCCT_Refactory\\[V1.0-2020April15!!!\\]\n",
    "\n",
    "直线 CCT，2020年12月10日复现完毕\n",
    "\n",
    "python 输出结果\n",
    "\n",
    "<img src=\"./img/A01.jpg\" width=60%></img>\n",
    "\n",
    "原 matlab 输出为\n",
    "\n",
    "<img src=\"./img/A02.jpg\" width=45%></img>\n",
    "\n",
    "<img src=\"./img/A03.jpg\" width=45%></img>"
   ],
   "cell_type": "markdown",
   "metadata": {}
  }
 ]
}