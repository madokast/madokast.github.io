{
 "metadata": {
  "language_info": {
   "codemirror_mode": {
    "name": "ipython",
    "version": 3
   },
   "file_extension": ".py",
   "mimetype": "text/x-python",
   "name": "python",
   "nbconvert_exporter": "python",
   "pygments_lexer": "ipython3",
   "version": 3
  },
  "orig_nbformat": 2
 },
 "nbformat": 4,
 "nbformat_minor": 2,
 "cells": [
  {
   "source": [
    "# 机架优化日志"
   ],
   "cell_type": "markdown",
   "metadata": {}
  },
  {
   "source": [
    "## 20201208\n",
    "\n",
    "CUDA 代码完成，开始优化"
   ],
   "cell_type": "markdown",
   "metadata": {}
  },
  {
   "source": [
    "## 20201209 改正电流错误、租用 GPU、匹配匝数、初步的问题\n",
    "\n",
    "### 改正电流错误\n",
    "\n",
    "新的建模方案中，二极 CCT 的电流变成正数了，但是 geatpy 中的设定还没有改，导致跑了一晚上作废\n",
    "\n",
    "### 租用 GOU\n",
    "\n",
    "featurize.cn \n",
    "\n",
    "租用了一台 3090，可是发现速度不快，感觉只是用了一部分算力。但是至少能用。\n",
    "\n",
    "### 匹配匝数\n",
    "\n",
    "匹配中，加入了匝数变量"
   ],
   "cell_type": "markdown",
   "metadata": {}
  },
  {
   "cell_type": "code",
   "execution_count": null,
   "metadata": {},
   "outputs": [],
   "source": [
    "Dim = 10+3  # Dimension of the features\n",
    "varTypes = ([0] * 10)+([1] * 3)  # Type of the features, [0] for real number , [1] for integer\n",
    "# lower bounds of the features\n",
    "lb = [-10, -60, 60, 60, 80, 60, 60, 80, 9664 - 2000, -10000, 21 - 2, 50 - 5, 50 - 5]\n",
    "# upper bounds of the features\n",
    "ub = [10, 60, 120, 120, 100, 120, 120, 100, 9664 + 2000, 10000, 21 + 2, 50 + 5, 50 + 5]"
   ]
  },
  {
   "source": [
    "### 初步的问题\n",
    "\n",
    "匹配时只考虑到了 +5 0 -5 这三个动量分散，但是很可能中间有束斑变化，导致整体束斑随动量变化大，如下图\n",
    "\n",
    "<img src=\"./img/D01初步匹配20201209.jpg\" width=60%></img>\n",
    "\n",
    "<pre>\n",
    "gantry = HUST_SC_GANTRY(\n",
    "    qs3_gradient=-9.30E-01,\n",
    "    qs3_second_gradient=-3.48E+01,\n",
    "    dicct345_tilt_angles=[30, 7.80E+01, 1.01E+02, 8.58E+01],\n",
    "    agcct345_tilt_angles=[1.07E+02, 30, 7.02E+01, 8.43E+01],\n",
    "    dicct345_current=9.16E+03,\n",
    "    agcct345_current=-5.75E+03\t,\n",
    "    agcct3_winding_number=22,\n",
    "    agcct4_winding_number=49,\n",
    "    agcct5_winding_number=47,\n",
    ")\n",
    "</pre>\n",
    "\n",
    "\n",
    "<img src=\"./img/D01初步匹配20201209-3090-107.jpg\" width=60%></img>\n",
    "\n",
    "<pre>\n",
    "gantry = HUST_SC_GANTRY(\n",
    "    qs3_gradient=1.57E+00,\n",
    "    qs3_second_gradient=-5.59E+01,\n",
    "    dicct345_tilt_angles=[30, 8.57E+01, 8.39E+01, 9.80E+01],\n",
    "    agcct345_tilt_angles=[9.71E+01, 30, 8.65E+01, 9.02E+01],\n",
    "    dicct345_current=9.21E+03,\n",
    "    agcct345_current=-6.11E+03\t,\n",
    "    agcct3_winding_number=21,\n",
    "    agcct4_winding_number=47,\n",
    "    agcct5_winding_number=52,\n",
    ")\n",
    "</pre>\n",
    "\n",
    "\n",
    "\n",
    "初步考虑，下一组匹配增加动量分散数目"
   ],
   "cell_type": "markdown",
   "metadata": {}
  }
 ]
}