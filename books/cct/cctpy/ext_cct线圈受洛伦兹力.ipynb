{
 "metadata": {
  "language_info": {
   "codemirror_mode": {
    "name": "ipython",
    "version": 3
   },
   "file_extension": ".py",
   "mimetype": "text/x-python",
   "name": "python",
   "nbconvert_exporter": "python",
   "pygments_lexer": "ipython3",
   "version": "3.8.0-final"
  },
  "orig_nbformat": 2,
  "kernelspec": {
   "name": "python3",
   "display_name": "Python 3.8.0 64-bit",
   "metadata": {
    "interpreter": {
     "hash": "240654965e339d128a9bbd5be5d7766dbc7de156d15b1c12ed426f21518e5300"
    }
   }
  }
 },
 "nbformat": 4,
 "nbformat_minor": 2,
 "cells": [
  {
   "source": [
    "# 二极 CCT 内外两层洛伦兹力分布"
   ],
   "cell_type": "markdown",
   "metadata": {}
  },
  {
   "cell_type": "code",
   "execution_count": 6,
   "metadata": {},
   "outputs": [],
   "source": [
    "from cctpy import *\n",
    "from cctpy_ext import *"
   ]
  },
  {
   "cell_type": "code",
   "execution_count": 7,
   "metadata": {},
   "outputs": [],
   "source": [
    "# 建立内网两层 CCT\n",
    "R = 0.95; rin = 113*MM; rout = 128*MM;\n",
    "tain = [30]; taout = [150]; wn = 128; I = 9206;\n",
    "benda = 67.5; bendr = BaseUtils.angle_to_radian(benda);"
   ]
  },
  {
   "cell_type": "code",
   "execution_count": 8,
   "metadata": {},
   "outputs": [],
   "source": [
    "cct_in = CCT(\n",
    "    local_coordinate_system=LocalCoordinateSystem.global_coordinate_system(),\n",
    "    big_r=R, small_r=rin, bending_angle=benda,\n",
    "    tilt_angles=tain, winding_number=wn,\n",
    "    current=I, starting_point_in_ksi_phi_coordinate=P2.origin(),\n",
    "    end_point_in_ksi_phi_coordinate=P2(\n",
    "        wn*2*math.pi, bendr),\n",
    "    disperse_number_per_winding=36\n",
    ")\n",
    "\n",
    "cct_out = CCT(\n",
    "    local_coordinate_system=LocalCoordinateSystem.global_coordinate_system(),\n",
    "    big_r=R, small_r=rout, bending_angle=benda,\n",
    "    tilt_angles=taout, winding_number=wn,\n",
    "    current=I, starting_point_in_ksi_phi_coordinate=P2.origin(),\n",
    "    end_point_in_ksi_phi_coordinate=P2(\n",
    "        -wn*2*math.pi, bendr),\n",
    "    disperse_number_per_winding=36\n",
    ")"
   ]
  },
  {
   "cell_type": "code",
   "execution_count": 9,
   "metadata": {},
   "outputs": [
    {
     "output_type": "display_data",
     "data": {
      "text/plain": "<Figure size 432x288 with 1 Axes>",
      "image/svg+xml": "<?xml version=\"1.0\" encoding=\"utf-8\" standalone=\"no\"?>\r\n<!DOCTYPE svg PUBLIC \"-//W3C//DTD SVG 1.1//EN\"\r\n  \"http://www.w3.org/Graphics/SVG/1.1/DTD/svg11.dtd\">\r\n<!-- Created with matplotlib (https://matplotlib.org/) -->\r\n<svg height=\"246.965pt\" version=\"1.1\" viewBox=\"0 0 371.2 246.965\" width=\"371.2pt\" xmlns=\"http://www.w3.org/2000/svg\" xmlns:xlink=\"http://www.w3.org/1999/xlink\">\r\n <metadata>\r\n  <rdf:RDF xmlns:cc=\"http://creativecommons.org/ns#\" xmlns:dc=\"http://purl.org/dc/elements/1.1/\" xmlns:rdf=\"http://www.w3.org/1999/02/22-rdf-syntax-ns#\">\r\n   <cc:Work>\r\n    <dc:type rdf:resource=\"http://purl.org/dc/dcmitype/StillImage\"/>\r\n    <dc:date>2020-12-14T15:33:05.140619</dc:date>\r\n    <dc:format>image/svg+xml</dc:format>\r\n    <dc:creator>\r\n     <cc:Agent>\r\n      <dc:title>Matplotlib v3.3.3, https://matplotlib.org/</dc:title>\r\n     </cc:Agent>\r\n    </dc:creator>\r\n   </cc:Work>\r\n  </rdf:RDF>\r\n </metadata>\r\n <defs>\r\n  <style type=\"text/css\">*{stroke-linecap:butt;stroke-linejoin:round;}</style>\r\n </defs>\r\n <g id=\"figure_1\">\r\n  <g id=\"patch_1\">\r\n   <path d=\"M 0 246.965 \r\nL 371.2 246.965 \r\nL 371.2 0 \r\nL 0 0 \r\nz\r\n\" style=\"fill:none;\"/>\r\n  </g>\r\n  <g id=\"axes_1\">\r\n   <g id=\"patch_2\">\r\n    <path d=\"M 29.2 224.64 \r\nL 364 224.64 \r\nL 364 7.2 \r\nL 29.2 7.2 \r\nz\r\n\" style=\"fill:#ffffff;\"/>\r\n   </g>\r\n   <g id=\"matplotlib.axis_1\">\r\n    <g id=\"xtick_1\">\r\n     <g id=\"line2d_1\">\r\n      <defs>\r\n       <path d=\"M 0 0 \r\nL 0 3.5 \r\n\" id=\"mde632bd4a4\" style=\"stroke:#000000;stroke-width:0.8;\"/>\r\n      </defs>\r\n      <g>\r\n       <use style=\"stroke:#000000;stroke-width:0.8;\" x=\"44.418182\" xlink:href=\"#mde632bd4a4\" y=\"224.64\"/>\r\n      </g>\r\n     </g>\r\n     <g id=\"text_1\">\r\n      <!-- 0.0 -->\r\n      <g transform=\"translate(36.918182 238.515)scale(0.1 -0.1)\">\r\n       <defs>\r\n        <path d=\"M 3.125 29.296875 \r\nQ 3.90625 50 6.4375 56.046875 \r\nQ 8.984375 62.109375 13.671875 66.015625 \r\nQ 18.359375 69.921875 25.1875 69.921875 \r\nQ 32.03125 69.921875 37.109375 64.25 \r\nQ 42.1875 58.59375 43.75 50 \r\nQ 45.3125 41.40625 44.71875 30.265625 \r\nQ 44.140625 19.140625 40.8125 12.109375 \r\nQ 37.5 5.078125 30.859375 2.34375 \r\nQ 24.21875 -0.390625 17.578125 2.921875 \r\nQ 10.9375 6.25 8.203125 11.71875 \r\nQ 5.46875 17.1875 4.296875 23.234375 \r\nQ 3.125 29.296875 3.90625 50 \r\nz\r\nM 12.890625 52.734375 \r\nQ 10.546875 31.25 12.5 22.84375 \r\nQ 14.453125 14.453125 18.9375 10.9375 \r\nQ 23.4375 7.421875 28.125 9.5625 \r\nQ 32.8125 11.71875 34.953125 18.15625 \r\nQ 37.109375 24.609375 37.109375 32.21875 \r\nQ 37.109375 39.84375 36.515625 46.09375 \r\nQ 35.9375 52.34375 33 57.421875 \r\nQ 30.078125 62.5 25.1875 62.6875 \r\nQ 20.3125 62.890625 16.59375 57.8125 \r\nQ 12.890625 52.734375 10.546875 31.25 \r\nz\r\n\" id=\"SimHei-48\"/>\r\n        <path d=\"M 16.796875 1.953125 \r\nL 7.8125 1.953125 \r\nL 7.8125 10.546875 \r\nL 16.796875 10.546875 \r\nz\r\n\" id=\"SimHei-46\"/>\r\n       </defs>\r\n       <use xlink:href=\"#SimHei-48\"/>\r\n       <use x=\"50\" xlink:href=\"#SimHei-46\"/>\r\n       <use x=\"100\" xlink:href=\"#SimHei-48\"/>\r\n      </g>\r\n     </g>\r\n    </g>\r\n    <g id=\"xtick_2\">\r\n     <g id=\"line2d_2\">\r\n      <g>\r\n       <use style=\"stroke:#000000;stroke-width:0.8;\" x=\"93.207035\" xlink:href=\"#mde632bd4a4\" y=\"224.64\"/>\r\n      </g>\r\n     </g>\r\n     <g id=\"text_2\">\r\n      <!-- 0.5 -->\r\n      <g transform=\"translate(85.707035 238.515)scale(0.1 -0.1)\">\r\n       <defs>\r\n        <path d=\"M 8.59375 20.703125 \r\nQ 11.328125 10.15625 17.96875 8.984375 \r\nQ 24.609375 7.8125 28.703125 10.34375 \r\nQ 32.8125 12.890625 34.5625 16.984375 \r\nQ 36.328125 21.09375 36.125 26.171875 \r\nQ 35.9375 31.25 33.390625 34.765625 \r\nQ 30.859375 38.28125 26.953125 39.453125 \r\nQ 23.046875 40.625 18.15625 39.453125 \r\nQ 13.28125 38.28125 10.15625 33.984375 \r\nL 3.515625 34.765625 \r\nQ 4.296875 37.109375 10.9375 68.359375 \r\nL 41.796875 68.359375 \r\nL 41.796875 61.328125 \r\nL 16.796875 61.328125 \r\nQ 14.84375 50.78125 12.890625 44.53125 \r\nQ 18.75 47.265625 23.828125 47.0625 \r\nQ 28.90625 46.875 33.59375 44.71875 \r\nQ 38.28125 42.578125 40.421875 38.859375 \r\nQ 42.578125 35.15625 43.546875 31.4375 \r\nQ 44.53125 27.734375 44.328125 23.4375 \r\nQ 44.140625 19.140625 42.578125 14.640625 \r\nQ 41.015625 10.15625 37.890625 7.21875 \r\nQ 34.765625 4.296875 30.265625 2.53125 \r\nQ 25.78125 0.78125 19.921875 1.171875 \r\nQ 14.0625 1.5625 8.78125 5.46875 \r\nQ 3.515625 9.375 1.5625 18.75 \r\nz\r\n\" id=\"SimHei-53\"/>\r\n       </defs>\r\n       <use xlink:href=\"#SimHei-48\"/>\r\n       <use x=\"50\" xlink:href=\"#SimHei-46\"/>\r\n       <use x=\"100\" xlink:href=\"#SimHei-53\"/>\r\n      </g>\r\n     </g>\r\n    </g>\r\n    <g id=\"xtick_3\">\r\n     <g id=\"line2d_3\">\r\n      <g>\r\n       <use style=\"stroke:#000000;stroke-width:0.8;\" x=\"141.995888\" xlink:href=\"#mde632bd4a4\" y=\"224.64\"/>\r\n      </g>\r\n     </g>\r\n     <g id=\"text_3\">\r\n      <!-- 1.0 -->\r\n      <g transform=\"translate(134.495888 238.515)scale(0.1 -0.1)\">\r\n       <defs>\r\n        <path d=\"M 21.875 56.25 \r\nQ 16.796875 51.171875 8.984375 46.484375 \r\nL 8.984375 53.90625 \r\nQ 18.75 60.546875 25 69.53125 \r\nL 29.6875 69.53125 \r\nL 29.6875 2.34375 \r\nL 21.875 2.34375 \r\nz\r\n\" id=\"SimHei-49\"/>\r\n       </defs>\r\n       <use xlink:href=\"#SimHei-49\"/>\r\n       <use x=\"50\" xlink:href=\"#SimHei-46\"/>\r\n       <use x=\"100\" xlink:href=\"#SimHei-48\"/>\r\n      </g>\r\n     </g>\r\n    </g>\r\n    <g id=\"xtick_4\">\r\n     <g id=\"line2d_4\">\r\n      <g>\r\n       <use style=\"stroke:#000000;stroke-width:0.8;\" x=\"190.78474\" xlink:href=\"#mde632bd4a4\" y=\"224.64\"/>\r\n      </g>\r\n     </g>\r\n     <g id=\"text_4\">\r\n      <!-- 1.5 -->\r\n      <g transform=\"translate(183.28474 238.515)scale(0.1 -0.1)\">\r\n       <use xlink:href=\"#SimHei-49\"/>\r\n       <use x=\"50\" xlink:href=\"#SimHei-46\"/>\r\n       <use x=\"100\" xlink:href=\"#SimHei-53\"/>\r\n      </g>\r\n     </g>\r\n    </g>\r\n    <g id=\"xtick_5\">\r\n     <g id=\"line2d_5\">\r\n      <g>\r\n       <use style=\"stroke:#000000;stroke-width:0.8;\" x=\"239.573593\" xlink:href=\"#mde632bd4a4\" y=\"224.64\"/>\r\n      </g>\r\n     </g>\r\n     <g id=\"text_5\">\r\n      <!-- 2.0 -->\r\n      <g transform=\"translate(232.073593 238.515)scale(0.1 -0.1)\">\r\n       <defs>\r\n        <path d=\"M 4.6875 3.90625 \r\nQ 5.078125 9.765625 10.15625 14.453125 \r\nQ 15.234375 19.140625 23.046875 29.09375 \r\nQ 30.859375 39.0625 33.203125 44.53125 \r\nQ 35.546875 50 34.953125 53.90625 \r\nQ 34.375 57.8125 31.25 60.34375 \r\nQ 28.125 62.890625 24.015625 62.5 \r\nQ 19.921875 62.109375 16.203125 59.375 \r\nQ 12.5 56.640625 10.546875 51.171875 \r\nL 3.125 52.34375 \r\nQ 6.25 61.328125 11.125 65.421875 \r\nQ 16.015625 69.53125 22.65625 69.921875 \r\nQ 26.5625 70.3125 29.6875 69.71875 \r\nQ 32.8125 69.140625 36.125 66.984375 \r\nQ 39.453125 64.84375 41.59375 60.546875 \r\nQ 43.75 56.25 43.15625 50.1875 \r\nQ 42.578125 44.140625 37.109375 35.734375 \r\nQ 31.640625 27.34375 16.015625 9.375 \r\nL 44.140625 9.375 \r\nL 44.140625 2.34375 \r\nL 4.6875 2.34375 \r\nz\r\n\" id=\"SimHei-50\"/>\r\n       </defs>\r\n       <use xlink:href=\"#SimHei-50\"/>\r\n       <use x=\"50\" xlink:href=\"#SimHei-46\"/>\r\n       <use x=\"100\" xlink:href=\"#SimHei-48\"/>\r\n      </g>\r\n     </g>\r\n    </g>\r\n    <g id=\"xtick_6\">\r\n     <g id=\"line2d_6\">\r\n      <g>\r\n       <use style=\"stroke:#000000;stroke-width:0.8;\" x=\"288.362446\" xlink:href=\"#mde632bd4a4\" y=\"224.64\"/>\r\n      </g>\r\n     </g>\r\n     <g id=\"text_6\">\r\n      <!-- 2.5 -->\r\n      <g transform=\"translate(280.862446 238.515)scale(0.1 -0.1)\">\r\n       <use xlink:href=\"#SimHei-50\"/>\r\n       <use x=\"50\" xlink:href=\"#SimHei-46\"/>\r\n       <use x=\"100\" xlink:href=\"#SimHei-53\"/>\r\n      </g>\r\n     </g>\r\n    </g>\r\n    <g id=\"xtick_7\">\r\n     <g id=\"line2d_7\">\r\n      <g>\r\n       <use style=\"stroke:#000000;stroke-width:0.8;\" x=\"337.151299\" xlink:href=\"#mde632bd4a4\" y=\"224.64\"/>\r\n      </g>\r\n     </g>\r\n     <g id=\"text_7\">\r\n      <!-- 3.0 -->\r\n      <g transform=\"translate(329.651299 238.515)scale(0.1 -0.1)\">\r\n       <defs>\r\n        <path d=\"M 3.90625 19.140625 \r\nL 10.9375 20.3125 \r\nQ 12.5 15.234375 16.015625 11.90625 \r\nQ 19.53125 8.59375 24.796875 8.78125 \r\nQ 30.078125 8.984375 33.203125 13.078125 \r\nQ 36.328125 17.1875 35.9375 22.453125 \r\nQ 35.546875 27.734375 31.828125 30.65625 \r\nQ 28.125 33.59375 19.921875 34.765625 \r\nL 19.921875 39.84375 \r\nQ 28.125 40.625 31.828125 44.140625 \r\nQ 35.546875 47.65625 35.15625 53.3125 \r\nQ 34.765625 58.984375 30.078125 61.515625 \r\nQ 25.390625 64.0625 20.109375 62.109375 \r\nQ 14.84375 60.15625 11.71875 51.171875 \r\nL 4.6875 52.34375 \r\nQ 7.03125 59.375 11.125 64.0625 \r\nQ 15.234375 68.75 22.265625 69.53125 \r\nQ 29.296875 70.3125 34.5625 67.765625 \r\nQ 39.84375 65.234375 41.984375 59.953125 \r\nQ 44.140625 54.6875 42.578125 48.4375 \r\nQ 41.015625 42.1875 33.59375 37.5 \r\nQ 39.0625 35.15625 41.984375 30.46875 \r\nQ 44.921875 25.78125 43.9375 18.15625 \r\nQ 42.96875 10.546875 37.109375 5.859375 \r\nQ 31.25 1.171875 23.828125 1.359375 \r\nQ 16.40625 1.5625 10.9375 6.046875 \r\nQ 5.46875 10.546875 3.90625 19.140625 \r\nz\r\n\" id=\"SimHei-51\"/>\r\n       </defs>\r\n       <use xlink:href=\"#SimHei-51\"/>\r\n       <use x=\"50\" xlink:href=\"#SimHei-46\"/>\r\n       <use x=\"100\" xlink:href=\"#SimHei-48\"/>\r\n      </g>\r\n     </g>\r\n    </g>\r\n   </g>\r\n   <g id=\"matplotlib.axis_2\">\r\n    <g id=\"ytick_1\">\r\n     <g id=\"line2d_8\">\r\n      <defs>\r\n       <path d=\"M 0 0 \r\nL -3.5 0 \r\n\" id=\"m934ce78aed\" style=\"stroke:#000000;stroke-width:0.8;\"/>\r\n      </defs>\r\n      <g>\r\n       <use style=\"stroke:#000000;stroke-width:0.8;\" x=\"29.2\" xlink:href=\"#m934ce78aed\" y=\"209.940182\"/>\r\n      </g>\r\n     </g>\r\n     <g id=\"text_8\">\r\n      <!-- 0.0 -->\r\n      <g transform=\"translate(7.2 213.377682)scale(0.1 -0.1)\">\r\n       <use xlink:href=\"#SimHei-48\"/>\r\n       <use x=\"50\" xlink:href=\"#SimHei-46\"/>\r\n       <use x=\"100\" xlink:href=\"#SimHei-48\"/>\r\n      </g>\r\n     </g>\r\n    </g>\r\n    <g id=\"ytick_2\">\r\n     <g id=\"line2d_9\">\r\n      <g>\r\n       <use style=\"stroke:#000000;stroke-width:0.8;\" x=\"29.2\" xlink:href=\"#m934ce78aed\" y=\"169.277904\"/>\r\n      </g>\r\n     </g>\r\n     <g id=\"text_9\">\r\n      <!-- 0.5 -->\r\n      <g transform=\"translate(7.2 172.715404)scale(0.1 -0.1)\">\r\n       <use xlink:href=\"#SimHei-48\"/>\r\n       <use x=\"50\" xlink:href=\"#SimHei-46\"/>\r\n       <use x=\"100\" xlink:href=\"#SimHei-53\"/>\r\n      </g>\r\n     </g>\r\n    </g>\r\n    <g id=\"ytick_3\">\r\n     <g id=\"line2d_10\">\r\n      <g>\r\n       <use style=\"stroke:#000000;stroke-width:0.8;\" x=\"29.2\" xlink:href=\"#m934ce78aed\" y=\"128.615626\"/>\r\n      </g>\r\n     </g>\r\n     <g id=\"text_10\">\r\n      <!-- 1.0 -->\r\n      <g transform=\"translate(7.2 132.053126)scale(0.1 -0.1)\">\r\n       <use xlink:href=\"#SimHei-49\"/>\r\n       <use x=\"50\" xlink:href=\"#SimHei-46\"/>\r\n       <use x=\"100\" xlink:href=\"#SimHei-48\"/>\r\n      </g>\r\n     </g>\r\n    </g>\r\n    <g id=\"ytick_4\">\r\n     <g id=\"line2d_11\">\r\n      <g>\r\n       <use style=\"stroke:#000000;stroke-width:0.8;\" x=\"29.2\" xlink:href=\"#m934ce78aed\" y=\"87.953348\"/>\r\n      </g>\r\n     </g>\r\n     <g id=\"text_11\">\r\n      <!-- 1.5 -->\r\n      <g transform=\"translate(7.2 91.390848)scale(0.1 -0.1)\">\r\n       <use xlink:href=\"#SimHei-49\"/>\r\n       <use x=\"50\" xlink:href=\"#SimHei-46\"/>\r\n       <use x=\"100\" xlink:href=\"#SimHei-53\"/>\r\n      </g>\r\n     </g>\r\n    </g>\r\n    <g id=\"ytick_5\">\r\n     <g id=\"line2d_12\">\r\n      <g>\r\n       <use style=\"stroke:#000000;stroke-width:0.8;\" x=\"29.2\" xlink:href=\"#m934ce78aed\" y=\"47.29107\"/>\r\n      </g>\r\n     </g>\r\n     <g id=\"text_12\">\r\n      <!-- 2.0 -->\r\n      <g transform=\"translate(7.2 50.72857)scale(0.1 -0.1)\">\r\n       <use xlink:href=\"#SimHei-50\"/>\r\n       <use x=\"50\" xlink:href=\"#SimHei-46\"/>\r\n       <use x=\"100\" xlink:href=\"#SimHei-48\"/>\r\n      </g>\r\n     </g>\r\n    </g>\r\n   </g>\r\n   <g id=\"line2d_13\">\r\n    <path clip-path=\"url(#pa2b8b3939e)\" d=\"M 44.418182 210.439701 \r\nL 64.722106 210.795376 \r\nL 77.997749 211.238688 \r\nL 87.466406 211.765894 \r\nL 94.885148 212.394057 \r\nL 101.230124 213.152655 \r\nL 113.627232 214.756364 \r\nL 115.384302 214.641012 \r\nL 116.750913 214.337426 \r\nL 117.922293 213.865711 \r\nL 118.996058 213.210506 \r\nL 120.069823 212.292156 \r\nL 121.143589 211.06033 \r\nL 122.217354 209.466617 \r\nL 123.291119 207.468726 \r\nL 124.462499 204.790854 \r\nL 125.731495 201.277244 \r\nL 127.098105 196.778751 \r\nL 128.56233 191.170682 \r\nL 130.221786 183.915923 \r\nL 132.174086 174.327648 \r\nL 134.516846 161.616659 \r\nL 137.445297 144.397243 \r\nL 142.033203 115.8716 \r\nL 147.597259 81.608243 \r\nL 150.52571 64.971656 \r\nL 152.86847 52.901265 \r\nL 154.820771 43.95364 \r\nL 156.480226 37.302244 \r\nL 158.042067 31.942615 \r\nL 159.408677 28.013658 \r\nL 160.677672 25.007309 \r\nL 161.849052 22.762023 \r\nL 163.020433 20.98853 \r\nL 164.094198 19.734332 \r\nL 165.167963 18.788594 \r\nL 166.339343 18.052251 \r\nL 167.608339 17.533963 \r\nL 168.974949 17.222901 \r\nL 170.634404 17.087472 \r\nL 172.781935 17.155766 \r\nL 176.198461 17.520489 \r\nL 185.179043 18.54064 \r\nL 190.547869 18.886992 \r\nL 196.01431 19.018036 \r\nL 201.578366 18.929986 \r\nL 207.044807 18.620159 \r\nL 212.511248 18.08301 \r\nL 221.882291 17.086262 \r\nL 223.736976 17.159893 \r\nL 225.201201 17.422245 \r\nL 226.470197 17.865053 \r\nL 227.641577 18.511782 \r\nL 228.715342 19.35725 \r\nL 229.789107 20.493793 \r\nL 230.862872 21.968359 \r\nL 231.936638 23.82304 \r\nL 233.108018 26.318859 \r\nL 234.377013 29.609307 \r\nL 235.743624 33.845644 \r\nL 237.207849 39.160109 \r\nL 238.867304 46.083421 \r\nL 240.72199 54.820172 \r\nL 242.86952 66.033072 \r\nL 245.505126 81.031989 \r\nL 249.019266 102.418274 \r\nL 258.097463 158.273387 \r\nL 260.733069 172.804071 \r\nL 262.880599 183.461965 \r\nL 264.735285 191.568705 \r\nL 266.297125 197.465979 \r\nL 267.761351 202.145174 \r\nL 269.030346 205.510617 \r\nL 270.201726 208.055744 \r\nL 271.373106 210.09087 \r\nL 272.446872 211.547679 \r\nL 273.520637 212.659725 \r\nL 274.594402 213.476583 \r\nL 275.765782 214.089835 \r\nL 277.034778 214.495737 \r\nL 278.499003 214.716213 \r\nL 280.256073 214.742632 \r\nL 282.696449 214.531175 \r\nL 287.18674 213.867221 \r\nL 294.703096 212.797472 \r\nL 301.048073 212.134372 \r\nL 308.564429 211.582123 \r\nL 318.033086 211.12164 \r\nL 330.723039 210.74171 \r\nL 348.781818 210.439701 \r\nL 348.781818 210.439701 \r\n\" style=\"fill:none;stroke:#ff0000;stroke-linecap:square;stroke-width:1.5;\"/>\r\n   </g>\r\n   <g id=\"patch_3\">\r\n    <path d=\"M 29.2 224.64 \r\nL 29.2 7.2 \r\n\" style=\"fill:none;stroke:#000000;stroke-linecap:square;stroke-linejoin:miter;stroke-width:0.8;\"/>\r\n   </g>\r\n   <g id=\"patch_4\">\r\n    <path d=\"M 364 224.64 \r\nL 364 7.2 \r\n\" style=\"fill:none;stroke:#000000;stroke-linecap:square;stroke-linejoin:miter;stroke-width:0.8;\"/>\r\n   </g>\r\n   <g id=\"patch_5\">\r\n    <path d=\"M 29.2 224.64 \r\nL 364 224.64 \r\n\" style=\"fill:none;stroke:#000000;stroke-linecap:square;stroke-linejoin:miter;stroke-width:0.8;\"/>\r\n   </g>\r\n   <g id=\"patch_6\">\r\n    <path d=\"M 29.2 7.2 \r\nL 364 7.2 \r\n\" style=\"fill:none;stroke:#000000;stroke-linecap:square;stroke-linejoin:miter;stroke-width:0.8;\"/>\r\n   </g>\r\n  </g>\r\n </g>\r\n <defs>\r\n  <clipPath id=\"pa2b8b3939e\">\r\n   <rect height=\"217.44\" width=\"334.8\" x=\"29.2\" y=\"7.2\"/>\r\n  </clipPath>\r\n </defs>\r\n</svg>\r\n",
      "image/png": "[encoded data removed]"
     },
     "metadata": {
      "needs_background": "light"
     }
    }
   ],
   "source": [
    "# 验证磁场分布\n",
    "ccts = Magnets(cct_in,cct_out)\n",
    "\n",
    "traj = (\n",
    "    Trajectory.set_start_point(\n",
    "        P2(R, -1)).first_line(P2.y_direct(), 1.0)\n",
    "    .add_arc_line(R, False, benda).add_strait_line(1.0)\n",
    ")\n",
    "\n",
    "bz = ccts.magnetic_field_bz_along(traj)\n",
    "\n",
    "Plot2.plot(bz)"
   ]
  },
  {
   "cell_type": "code",
   "execution_count": 10,
   "metadata": {},
   "outputs": [],
   "source": [
    "# 转为 wire\n",
    "wcct_in = Wire.create_by_cct(cct_in)\n",
    "wcct_out = Wire.create_by_cct(cct_out)"
   ]
  },
  {
   "cell_type": "code",
   "execution_count": 12,
   "metadata": {},
   "outputs": [
    {
     "output_type": "stream",
     "name": "stdout",
     "text": [
      "([0.8725023185158565, 0.6062578503627913, 0.011093160551319712], [12.53556538112686, 11.37734416049091, -2.167152886686618])\n",
      "([0.8725023185158565, 0.6062578503627913, 0.011093160551319712], [12.53556538112686, 11.37734416049091, -2.167152886686618])\n",
      "([0.6381100950367931, 0.6467970500517594, 0.10513795652542966], [-21.712424380255264, 10.941459847979209, -8.599168337537215])\n",
      "([0.6381100950367931, 0.6467970500517594, 0.10513795652542966], [-21.712424380255264, 10.941459847979209, -8.599168337537215])\n",
      "处理并行任务，任务数目36，并行等级16\n"
     ]
    }
   ],
   "source": [
    "# 查看内层洛伦兹力\n",
    "def task(s):\n",
    "    fon = wcct_in.lorentz_force_on_wire(\n",
    "        s=BaseUtils.angle_to_radian(s),\n",
    "        delta_length=r * BaseUtils.angle_to_radian(5),\n",
    "        local_coordinate_point=LocalCoordinateSystem.global_coordinate_system(),\n",
    "        # local_coordinate_point=LocalCoordinateSystem(\n",
    "        #     location=wire.line3.point_at(BaseUtils.angle_to_radian(s)),\n",
    "        #     x_direction=wire.line3.direct_at(\n",
    "        #         BaseUtils.angle_to_radian(s)),\n",
    "        #     z_direction=cct.bipolar_toroidal_coordinate_system.main_normal_direction_at(\n",
    "        #         cct.p2_function(BaseUtils.angle_to_radian(s))\n",
    "        #     )\n",
    "        # ),\n",
    "        other_magnet=cct_out\n",
    "    )\n",
    "    print(fon)\n",
    "    return fon\n",
    "\n",
    "# ss = BaseUtils.linspace(5, 128*360-5, 128*36)\n",
    "ss = BaseUtils.linspace(5+64*360, 360-5+64*360, 36)\n",
    "\n",
    "print(task(ss[0]))\n",
    "print(task(ss[10]))\n",
    "\n",
    "BaseUtils.i_am_sure_my_code_closed_in_if_name_equal_main()\n",
    "fons = BaseUtils.submit_process_task(task=task, param_list=[[s] for s in ss])\n",
    "\n",
    "data = []\n",
    "for i in range(len(fons)):\n",
    "    p, f = fons[i]\n",
    "    data.append([i+1, p.x, p.y, p.z, f.x, f.y, f.z])\n",
    "\n",
    "data = numpy.array(data)\n",
    "Plot2.plot_ndarry2ds(data[:, (0, 4)], describe='r-')\n",
    "Plot2.plot_ndarry2ds(data[:, (0, 5)], describe='b-')\n",
    "Plot2.plot_ndarry2ds(data[:, (0, 6)], describe='y-')\n",
    "Plot2.show()\n",
    "\n"
   ]
  },
  {
   "cell_type": "code",
   "execution_count": null,
   "metadata": {},
   "outputs": [],
   "source": []
  }
 ]
}