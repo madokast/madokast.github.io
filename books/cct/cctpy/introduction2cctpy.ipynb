{
 "metadata": {
  "language_info": {
   "codemirror_mode": {
    "name": "ipython",
    "version": 3
   },
   "file_extension": ".py",
   "mimetype": "text/x-python",
   "name": "python",
   "nbconvert_exporter": "python",
   "pygments_lexer": "ipython3",
   "version": "3.8.0-final"
  },
  "orig_nbformat": 2,
  "kernelspec": {
   "name": "python3",
   "display_name": "Python 3.8.0 64-bit",
   "metadata": {
    "interpreter": {
     "hash": "240654965e339d128a9bbd5be5d7766dbc7de156d15b1c12ed426f21518e5300"
    }
   }
  }
 },
 "nbformat": 4,
 "nbformat_minor": 2,
 "cells": [
  {
   "source": [
    "# CCTPY 核心概念\n",
    "\n",
    "## CCTPY 是一个基于单线模型进行 CCT 磁场计算、束线建模、粒子跟踪的程序\n",
    "\n",
    "## 核心概念——坐标系\n",
    "\n",
    "**为了便于磁场建模、粒子跟踪、束流分析，CCTPY 中引入了全剧坐标系和局部坐标系的概念**\n",
    "\n",
    "粒子 / 束流运动在全局坐标系中，一般在 XZ 平面内运行，如下图所示\n",
    "\n",
    "<img src=\"./img/A01坐标_束流在XZ平面运行_三维.jpg\" width=40%></img>\n",
    "\n",
    "旋转一下示意图，只看 XZ 平面，如下图所示，可见一般而言磁铁也都放置在 XZ 平面。\n",
    "\n",
    "<img src=\"./img/A02坐标_束流在XZ平面运行_二维加上磁铁.jpg\" width=40%></img>\n",
    "\n",
    "为了便于磁铁建模，每个磁铁附上了一个局部坐标系，目的是消除磁铁移动时的开销，局部坐标系如下图所示（图中三个绿色坐标系）\n",
    "\n",
    "（因为 CCT 磁铁一般由上万个离散的点组成，如果移动 CCT 就要移动这么多的点，开销很大，但如果仅仅移动局部坐标系，则开销很小）\n",
    "\n",
    "这样一样，为了计算磁铁对粒子产生的磁场，需要进行坐标变换，将粒子的坐标（全局坐标）转为该磁铁的局部坐标，转换完成后，即可计算磁场，而磁场本身也是矢量，所以需要转换回去（局部坐标系下的磁场转为全局坐标系）\n",
    "\n",
    "<img src=\"./img/A03坐标_局部坐标系示意图.jpg\" width=40%></img>\n",
    "\n",
    "具体每种磁铁的局部坐标设置方法，详见各自介绍\n",
    "\n",
    "## CCTPY 的使用\n",
    "\n",
    "为了便于代码分发，所有 CCTPY 代码都写在了一个文件 cctpy.py 中，使用 from cctpy import * 可以如导入全部类"
   ],
   "cell_type": "markdown",
   "metadata": {}
  },
  {
   "cell_type": "code",
   "execution_count": 1,
   "metadata": {},
   "outputs": [
    {
     "output_type": "stream",
     "name": "stdout",
     "text": [
      "299792458.0\n"
     ]
    }
   ],
   "source": [
    "from cctpy import *\n",
    "print(LIGHT_SPEED)"
   ]
  },
  {
   "source": [
    "# 常量\n",
    "\n",
    "CCTPY 中内置了一些常量，共有如下 9 个"
   ],
   "cell_type": "markdown",
   "metadata": {}
  },
  {
   "cell_type": "code",
   "execution_count": 2,
   "metadata": {},
   "outputs": [
    {
     "output_type": "stream",
     "name": "stdout",
     "text": [
      "1米1.0\n1毫米0.001M\n光速299792458.0\n1弧度1.0\n1毫弧度0.001RAD\n1焦耳1.0\n1电子伏特1.6021766208e-19J\n1兆电子伏特1.6021766208000001e-13J\n1MeV/c5.3442857792e-22J\n"
     ]
    }
   ],
   "source": [
    "print(f\"1米{M}\")\n",
    "print(f\"1毫米{MM}M\")\n",
    "print(f\"光速{LIGHT_SPEED}\")\n",
    "print(f\"1弧度{RAD}\")\n",
    "print(f\"1毫弧度{MRAD}RAD\")\n",
    "print(f\"1焦耳{J}\")\n",
    "print(f\"1电子伏特{eV}J\")\n",
    "print(f\"1兆电子伏特{MeV}J\")\n",
    "print(f\"1MeV/c{MeV_PER_C}J\")"
   ]
  },
  {
   "source": [
    "# 点和矢量\n",
    "\n",
    "点和矢量是 CCTPY 中最基本的概念，粒子的位置是一个点、粒子速度是一个矢量、CCT 磁铁路径由上万个点组成、磁场也是一个矢量\n",
    "\n",
    "CCTPY 中严格区分 二维点/二维矢量 和 三维点/三维矢量，他们分别由类 P2 和类 P3 表示\n",
    "\n",
    "## P2\n",
    "\n",
    "P2 既可以表示二维坐标系中的点 (x, y)，也可以表示二维向量 (x, y)。它包含一下方便的运算操作\n",
    "\n",
    "- 各种构造器\n",
    "- length() 求矢量长度\n",
    "- normalize() 矢量长度归一\n",
    "- change_length(new_length) 改变矢量长度\n",
    "- 矢量加法、减法、相反矢量、自加自减、乘法（内积、标量积）、相等判断\n",
    "- rotate(phi) 矢量旋转(逆时针)\n",
    "- angle_to_x_axis() 矢量和 x 轴夹角\n",
    "- angle_to(other) 两个矢量夹角\n",
    "- to_p3(transformation) 通过某种规则 P2 转换到 P3\n",
    "- copy() 拷贝矢量\n"
   ],
   "cell_type": "markdown",
   "metadata": {}
  },
  {
   "cell_type": "code",
   "execution_count": 3,
   "metadata": {},
   "outputs": [
    {
     "output_type": "execute_result",
     "data": {
      "text/plain": [
       "([0.0, 0.0], [0.0, 0.0], [0.0, 0.0])"
      ]
     },
     "metadata": {},
     "execution_count": 3
    }
   ],
   "source": [
    "# 创建一个 (0,0)点/矢量\n",
    "p1 = P2()\n",
    "p2 = P2.origin()\n",
    "p3 = P2.zeros()\n",
    "\n",
    "p1, p2, p3"
   ]
  },
  {
   "cell_type": "code",
   "execution_count": 4,
   "metadata": {},
   "outputs": [
    {
     "output_type": "execute_result",
     "data": {
      "text/plain": [
       "([3.14, 0.0], [4.13, 0.0], [0.0, 6.28], [0.0, 2.68])"
      ]
     },
     "metadata": {},
     "execution_count": 4
    }
   ],
   "source": [
    "# 创建一个 x 轴上的点，或者说和 x 轴平行的矢量\n",
    "x1 = P2(x=3.14)\n",
    "x2 = P2.x_direct(4.13)\n",
    "\n",
    "# 创建一个 y 轴上的点，或者说和 y 轴平行的矢量\n",
    "y1 = P2(y=6.28)\n",
    "y2 = P2.y_direct(2.68)\n",
    "\n",
    "x1, x2, y1, y2"
   ]
  },
  {
   "cell_type": "code",
   "execution_count": 5,
   "metadata": {},
   "outputs": [
    {
     "output_type": "execute_result",
     "data": {
      "text/plain": [
       "([2.0, 3.0], [0.1, 0.2])"
      ]
     },
     "metadata": {},
     "execution_count": 5
    }
   ],
   "source": [
    "# 创建任意一个点，或矢量\n",
    "p1 = P2(2,3)\n",
    "p2 = P2(0.1,0.2)\n",
    "\n",
    "p1, p2"
   ]
  },
  {
   "cell_type": "code",
   "execution_count": 6,
   "metadata": {},
   "outputs": [
    {
     "output_type": "stream",
     "name": "stdout",
     "text": [
      "矢量长度 1.4142135623730951 2.0\n长度归一 [0.7071067811865475, 0.7071067811865475] [0.0, 1.0]\n改变矢量长度 [7.071067811865475, 7.071067811865475] [-0.0, -10.0]\n"
     ]
    }
   ],
   "source": [
    "# 求矢量 P2 的长度，或点到原点的距离\n",
    "p1 = P2(1,1)\n",
    "p2 = P2(0,2)\n",
    "p1_len = p1.length()\n",
    "p2_len = p2.length()\n",
    "\n",
    "\n",
    "# 矢量长度归一\n",
    "p1_norm = p1.normalize()\n",
    "p2_norm = p2.normalize()\n",
    "\n",
    "\n",
    "# 改变矢量长度\n",
    "p1_cl = p1.change_length(10)\n",
    "p2_cl = p2.change_length(-10) # 负数改变了矢量方向\n",
    "\n",
    "print(\"矢量长度\",p1_len,p2_len)\n",
    "print(\"长度归一\",p1_norm,p2_norm)\n",
    "print(\"改变矢量长度\",p1_cl,p2_cl)"
   ]
  },
  {
   "cell_type": "code",
   "execution_count": 7,
   "metadata": {},
   "outputs": [
    {
     "output_type": "stream",
     "name": "stdout",
     "text": [
      "p_add=[3.0, 4.0]\np_sub=[1.0, 2.0]\np1_neg=[-2.0, -3.0]\np2_neg=[-1.0, -1.0]\n自加 [3.0, 4.0]\n自减 [2.0, 3.0]\n内积 [2.0, 3.0]*[1.0, 1.0]=5.0\n内积 [1.0, 1.0]*[2.0, 3.0]=5.0\n标量积 [2.0, 3.0]*3=[6.0, 9.0]\n标量积 2*[1.0, 1.0]=[2.0, 2.0]\n相等判断 [2.0, 3.0]==[1.0, 1.0] is False\n相等判断 [2.0, 3.0]==[1.0, 1.0]+[1.0, 2.0] is True\n相等判断，默认允许 1e-6 范围误差 [0.0, 0.0]==[1e-07, 1e-08] is True\n相等判断，指定误差 [0.0, 0.0]==[1e-07, 1e-08] is False\n"
     ]
    }
   ],
   "source": [
    "# 矢量加法、减法\n",
    "p1 = P2(2,3)\n",
    "p2 = P2(1,1)\n",
    "p_add = p1+p2\n",
    "p_sub = p1-p2\n",
    "print(f\"p_add={p_add}\")\n",
    "print(f\"p_sub={p_sub}\")\n",
    "\n",
    "# 相反矢量\n",
    "p1_neg = -p1\n",
    "p2_neg = -p2\n",
    "print(f\"p1_neg={p1_neg}\")\n",
    "print(f\"p2_neg={p2_neg}\")\n",
    "\n",
    "# 自加自减，会修改自身大小\n",
    "p1+=p2\n",
    "print(\"自加\",p1)\n",
    "\n",
    "p1-=p2\n",
    "print(\"自减\",p1)\n",
    "\n",
    "# 乘法（内积、标量积）\n",
    "m1 = p1*p2\n",
    "m2 = p2*p1\n",
    "m3 = p1*3\n",
    "m4 = 2*p2\n",
    "print(\"内积\",f\"{p1}*{p2}={m1}\")\n",
    "print(\"内积\",f\"{p2}*{p1}={m2}\")\n",
    "print(\"标量积\",f\"{p1}*{3}={m3}\")\n",
    "print(\"标量积\",f\"{2}*{p2}={m4}\")\n",
    "\n",
    "\n",
    "# 相等判断\n",
    "judge1 = p1==p2\n",
    "judge2 = p1==p2+P2(1,2)\n",
    "print(\"相等判断\",f\"{p1}=={p2} is {judge1}\")\n",
    "print(\"相等判断\",f\"{p1}=={p2}+{P2(1,2)} is {judge2}\")\n",
    "\n",
    "# 注意，因为浮点数误差，默认允许 1e-6 范围误差\n",
    "print(\"相等判断，默认允许 1e-6 范围误差\",f\"{P2(0,0)}=={P2(1E-7,1E-8)} is {P2(0,0)==P2(1E-7,1E-8)}\")\n",
    "# 可以调用等号操作符 == 的原函数 __eq__ 指定误差\n",
    "print(\"相等判断，指定误差\",f\"{P2(0,0)}=={P2(1E-7,1E-8)} is {P2(0,0).__eq__(P2(1E-7,1E-8), err=1e-10)}\")\n"
   ]
  },
  {
   "cell_type": "code",
   "execution_count": 8,
   "metadata": {},
   "outputs": [
    {
     "output_type": "display_data",
     "data": {
      "text/plain": "<Figure size 432x288 with 1 Axes>",
      "image/svg+xml": "<?xml version=\"1.0\" encoding=\"utf-8\" standalone=\"no\"?>\r\n<!DOCTYPE svg PUBLIC \"-//W3C//DTD SVG 1.1//EN\"\r\n  \"http://www.w3.org/Graphics/SVG/1.1/DTD/svg11.dtd\">\r\n<!-- Created with matplotlib (https://matplotlib.org/) -->\r\n<svg height=\"246.965pt\" version=\"1.1\" viewBox=\"0 0 376.2 246.965\" width=\"376.2pt\" xmlns=\"http://www.w3.org/2000/svg\" xmlns:xlink=\"http://www.w3.org/1999/xlink\">\r\n <metadata>\r\n  <rdf:RDF xmlns:cc=\"http://creativecommons.org/ns#\" xmlns:dc=\"http://purl.org/dc/elements/1.1/\" xmlns:rdf=\"http://www.w3.org/1999/02/22-rdf-syntax-ns#\">\r\n   <cc:Work>\r\n    <dc:type rdf:resource=\"http://purl.org/dc/dcmitype/StillImage\"/>\r\n    <dc:date>2020-11-30T21:49:25.974747</dc:date>\r\n    <dc:format>image/svg+xml</dc:format>\r\n    <dc:creator>\r\n     <cc:Agent>\r\n      <dc:title>Matplotlib v3.3.3, https://matplotlib.org/</dc:title>\r\n     </cc:Agent>\r\n    </dc:creator>\r\n   </cc:Work>\r\n  </rdf:RDF>\r\n </metadata>\r\n <defs>\r\n  <style type=\"text/css\">*{stroke-linecap:butt;stroke-linejoin:round;}</style>\r\n </defs>\r\n <g id=\"figure_1\">\r\n  <g id=\"patch_1\">\r\n   <path d=\"M 0 246.965 \r\nL 376.2 246.965 \r\nL 376.2 0 \r\nL 0 0 \r\nz\r\n\" style=\"fill:none;\"/>\r\n  </g>\r\n  <g id=\"axes_1\">\r\n   <g id=\"patch_2\">\r\n    <path d=\"M 34.2 224.64 \r\nL 369 224.64 \r\nL 369 7.2 \r\nL 34.2 7.2 \r\nz\r\n\" style=\"fill:#ffffff;\"/>\r\n   </g>\r\n   <g id=\"matplotlib.axis_1\">\r\n    <g id=\"xtick_1\">\r\n     <g id=\"line2d_1\">\r\n      <defs>\r\n       <path d=\"M 0 0 \r\nL 0 3.5 \r\n\" id=\"mb3fc760a1d\" style=\"stroke:#000000;stroke-width:0.8;\"/>\r\n      </defs>\r\n      <g>\r\n       <use style=\"stroke:#000000;stroke-width:0.8;\" x=\"44.530612\" xlink:href=\"#mb3fc760a1d\" y=\"224.64\"/>\r\n      </g>\r\n     </g>\r\n     <g id=\"text_1\">\r\n      <!-- -1.0 -->\r\n      <g transform=\"translate(34.530612 238.515)scale(0.1 -0.1)\">\r\n       <defs>\r\n        <path d=\"M 46.484375 33.203125 \r\nL 1.953125 33.203125 \r\nL 1.953125 39.453125 \r\nL 46.484375 39.453125 \r\nz\r\n\" id=\"SimHei-45\"/>\r\n        <path d=\"M 21.875 56.25 \r\nQ 16.796875 51.171875 8.984375 46.484375 \r\nL 8.984375 53.90625 \r\nQ 18.75 60.546875 25 69.53125 \r\nL 29.6875 69.53125 \r\nL 29.6875 2.34375 \r\nL 21.875 2.34375 \r\nz\r\n\" id=\"SimHei-49\"/>\r\n        <path d=\"M 16.796875 1.953125 \r\nL 7.8125 1.953125 \r\nL 7.8125 10.546875 \r\nL 16.796875 10.546875 \r\nz\r\n\" id=\"SimHei-46\"/>\r\n        <path d=\"M 3.125 29.296875 \r\nQ 3.90625 50 6.4375 56.046875 \r\nQ 8.984375 62.109375 13.671875 66.015625 \r\nQ 18.359375 69.921875 25.1875 69.921875 \r\nQ 32.03125 69.921875 37.109375 64.25 \r\nQ 42.1875 58.59375 43.75 50 \r\nQ 45.3125 41.40625 44.71875 30.265625 \r\nQ 44.140625 19.140625 40.8125 12.109375 \r\nQ 37.5 5.078125 30.859375 2.34375 \r\nQ 24.21875 -0.390625 17.578125 2.921875 \r\nQ 10.9375 6.25 8.203125 11.71875 \r\nQ 5.46875 17.1875 4.296875 23.234375 \r\nQ 3.125 29.296875 3.90625 50 \r\nz\r\nM 12.890625 52.734375 \r\nQ 10.546875 31.25 12.5 22.84375 \r\nQ 14.453125 14.453125 18.9375 10.9375 \r\nQ 23.4375 7.421875 28.125 9.5625 \r\nQ 32.8125 11.71875 34.953125 18.15625 \r\nQ 37.109375 24.609375 37.109375 32.21875 \r\nQ 37.109375 39.84375 36.515625 46.09375 \r\nQ 35.9375 52.34375 33 57.421875 \r\nQ 30.078125 62.5 25.1875 62.6875 \r\nQ 20.3125 62.890625 16.59375 57.8125 \r\nQ 12.890625 52.734375 10.546875 31.25 \r\nz\r\n\" id=\"SimHei-48\"/>\r\n       </defs>\r\n       <use xlink:href=\"#SimHei-45\"/>\r\n       <use x=\"50\" xlink:href=\"#SimHei-49\"/>\r\n       <use x=\"100\" xlink:href=\"#SimHei-46\"/>\r\n       <use x=\"150\" xlink:href=\"#SimHei-48\"/>\r\n      </g>\r\n     </g>\r\n    </g>\r\n    <g id=\"xtick_2\">\r\n     <g id=\"line2d_2\">\r\n      <g>\r\n       <use style=\"stroke:#000000;stroke-width:0.8;\" x=\"107.358367\" xlink:href=\"#mb3fc760a1d\" y=\"224.64\"/>\r\n      </g>\r\n     </g>\r\n     <g id=\"text_2\">\r\n      <!-- -0.5 -->\r\n      <g transform=\"translate(97.358367 238.515)scale(0.1 -0.1)\">\r\n       <defs>\r\n        <path d=\"M 8.59375 20.703125 \r\nQ 11.328125 10.15625 17.96875 8.984375 \r\nQ 24.609375 7.8125 28.703125 10.34375 \r\nQ 32.8125 12.890625 34.5625 16.984375 \r\nQ 36.328125 21.09375 36.125 26.171875 \r\nQ 35.9375 31.25 33.390625 34.765625 \r\nQ 30.859375 38.28125 26.953125 39.453125 \r\nQ 23.046875 40.625 18.15625 39.453125 \r\nQ 13.28125 38.28125 10.15625 33.984375 \r\nL 3.515625 34.765625 \r\nQ 4.296875 37.109375 10.9375 68.359375 \r\nL 41.796875 68.359375 \r\nL 41.796875 61.328125 \r\nL 16.796875 61.328125 \r\nQ 14.84375 50.78125 12.890625 44.53125 \r\nQ 18.75 47.265625 23.828125 47.0625 \r\nQ 28.90625 46.875 33.59375 44.71875 \r\nQ 38.28125 42.578125 40.421875 38.859375 \r\nQ 42.578125 35.15625 43.546875 31.4375 \r\nQ 44.53125 27.734375 44.328125 23.4375 \r\nQ 44.140625 19.140625 42.578125 14.640625 \r\nQ 41.015625 10.15625 37.890625 7.21875 \r\nQ 34.765625 4.296875 30.265625 2.53125 \r\nQ 25.78125 0.78125 19.921875 1.171875 \r\nQ 14.0625 1.5625 8.78125 5.46875 \r\nQ 3.515625 9.375 1.5625 18.75 \r\nz\r\n\" id=\"SimHei-53\"/>\r\n       </defs>\r\n       <use xlink:href=\"#SimHei-45\"/>\r\n       <use x=\"50\" xlink:href=\"#SimHei-48\"/>\r\n       <use x=\"100\" xlink:href=\"#SimHei-46\"/>\r\n       <use x=\"150\" xlink:href=\"#SimHei-53\"/>\r\n      </g>\r\n     </g>\r\n    </g>\r\n    <g id=\"xtick_3\">\r\n     <g id=\"line2d_3\">\r\n      <g>\r\n       <use style=\"stroke:#000000;stroke-width:0.8;\" x=\"170.186122\" xlink:href=\"#mb3fc760a1d\" y=\"224.64\"/>\r\n      </g>\r\n     </g>\r\n     <g id=\"text_3\">\r\n      <!-- 0.0 -->\r\n      <g transform=\"translate(162.686122 238.515)scale(0.1 -0.1)\">\r\n       <use xlink:href=\"#SimHei-48\"/>\r\n       <use x=\"50\" xlink:href=\"#SimHei-46\"/>\r\n       <use x=\"100\" xlink:href=\"#SimHei-48\"/>\r\n      </g>\r\n     </g>\r\n    </g>\r\n    <g id=\"xtick_4\">\r\n     <g id=\"line2d_4\">\r\n      <g>\r\n       <use style=\"stroke:#000000;stroke-width:0.8;\" x=\"233.013878\" xlink:href=\"#mb3fc760a1d\" y=\"224.64\"/>\r\n      </g>\r\n     </g>\r\n     <g id=\"text_4\">\r\n      <!-- 0.5 -->\r\n      <g transform=\"translate(225.513878 238.515)scale(0.1 -0.1)\">\r\n       <use xlink:href=\"#SimHei-48\"/>\r\n       <use x=\"50\" xlink:href=\"#SimHei-46\"/>\r\n       <use x=\"100\" xlink:href=\"#SimHei-53\"/>\r\n      </g>\r\n     </g>\r\n    </g>\r\n    <g id=\"xtick_5\">\r\n     <g id=\"line2d_5\">\r\n      <g>\r\n       <use style=\"stroke:#000000;stroke-width:0.8;\" x=\"295.841633\" xlink:href=\"#mb3fc760a1d\" y=\"224.64\"/>\r\n      </g>\r\n     </g>\r\n     <g id=\"text_5\">\r\n      <!-- 1.0 -->\r\n      <g transform=\"translate(288.341633 238.515)scale(0.1 -0.1)\">\r\n       <use xlink:href=\"#SimHei-49\"/>\r\n       <use x=\"50\" xlink:href=\"#SimHei-46\"/>\r\n       <use x=\"100\" xlink:href=\"#SimHei-48\"/>\r\n      </g>\r\n     </g>\r\n    </g>\r\n    <g id=\"xtick_6\">\r\n     <g id=\"line2d_6\">\r\n      <g>\r\n       <use style=\"stroke:#000000;stroke-width:0.8;\" x=\"358.669388\" xlink:href=\"#mb3fc760a1d\" y=\"224.64\"/>\r\n      </g>\r\n     </g>\r\n     <g id=\"text_6\">\r\n      <!-- 1.5 -->\r\n      <g transform=\"translate(351.169388 238.515)scale(0.1 -0.1)\">\r\n       <use xlink:href=\"#SimHei-49\"/>\r\n       <use x=\"50\" xlink:href=\"#SimHei-46\"/>\r\n       <use x=\"100\" xlink:href=\"#SimHei-53\"/>\r\n      </g>\r\n     </g>\r\n    </g>\r\n   </g>\r\n   <g id=\"matplotlib.axis_2\">\r\n    <g id=\"ytick_1\">\r\n     <g id=\"line2d_7\">\r\n      <defs>\r\n       <path d=\"M 0 0 \r\nL -3.5 0 \r\n\" id=\"m37754b4a92\" style=\"stroke:#000000;stroke-width:0.8;\"/>\r\n      </defs>\r\n      <g>\r\n       <use style=\"stroke:#000000;stroke-width:0.8;\" x=\"34.2\" xlink:href=\"#m37754b4a92\" y=\"201.297806\"/>\r\n      </g>\r\n     </g>\r\n     <g id=\"text_7\">\r\n      <!-- -0.6 -->\r\n      <g transform=\"translate(7.2 204.735306)scale(0.1 -0.1)\">\r\n       <defs>\r\n        <path d=\"M 3.515625 19.53125 \r\nQ 4.296875 30.859375 6.046875 34.765625 \r\nQ 7.8125 38.671875 11.328125 44.53125 \r\nL 27.34375 69.53125 \r\nL 36.328125 69.53125 \r\nL 19.921875 43.75 \r\nQ 30.46875 46.484375 36.71875 42.96875 \r\nQ 42.96875 39.453125 45.109375 34.953125 \r\nQ 47.265625 30.46875 47.453125 25.1875 \r\nQ 47.65625 19.921875 45.890625 14.84375 \r\nQ 44.140625 9.765625 39.640625 5.65625 \r\nQ 35.15625 1.5625 27.140625 1.171875 \r\nQ 19.140625 0.78125 13.46875 4.09375 \r\nQ 7.8125 7.421875 5.65625 13.46875 \r\nQ 3.515625 19.53125 4.296875 30.859375 \r\nz\r\nM 12.5 16.015625 \r\nQ 19.53125 8.59375 25.390625 8.203125 \r\nQ 31.25 7.8125 35.15625 12.109375 \r\nQ 39.0625 16.40625 39.0625 24.609375 \r\nQ 39.0625 32.8125 34.171875 35.9375 \r\nQ 29.296875 39.0625 23.234375 38.28125 \r\nQ 17.1875 37.5 14.453125 32.421875 \r\nQ 11.71875 27.34375 12.109375 21.671875 \r\nQ 12.5 16.015625 19.53125 8.59375 \r\nz\r\n\" id=\"SimHei-54\"/>\r\n       </defs>\r\n       <use xlink:href=\"#SimHei-45\"/>\r\n       <use x=\"50\" xlink:href=\"#SimHei-48\"/>\r\n       <use x=\"100\" xlink:href=\"#SimHei-46\"/>\r\n       <use x=\"150\" xlink:href=\"#SimHei-54\"/>\r\n      </g>\r\n     </g>\r\n    </g>\r\n    <g id=\"ytick_2\">\r\n     <g id=\"line2d_8\">\r\n      <g>\r\n       <use style=\"stroke:#000000;stroke-width:0.8;\" x=\"34.2\" xlink:href=\"#m37754b4a92\" y=\"176.166704\"/>\r\n      </g>\r\n     </g>\r\n     <g id=\"text_8\">\r\n      <!-- -0.4 -->\r\n      <g transform=\"translate(7.2 179.604204)scale(0.1 -0.1)\">\r\n       <defs>\r\n        <path d=\"M 31.25 17.1875 \r\nL 1.171875 17.1875 \r\nL 1.171875 23.828125 \r\nL 32.8125 69.53125 \r\nL 38.671875 69.53125 \r\nL 38.671875 23.828125 \r\nL 48.046875 23.828125 \r\nL 48.046875 17.1875 \r\nL 38.671875 17.1875 \r\nL 38.671875 2.34375 \r\nL 31.25 2.34375 \r\nz\r\nM 31.25 23.828125 \r\nL 31.25 54.6875 \r\nL 9.375 23.828125 \r\nz\r\n\" id=\"SimHei-52\"/>\r\n       </defs>\r\n       <use xlink:href=\"#SimHei-45\"/>\r\n       <use x=\"50\" xlink:href=\"#SimHei-48\"/>\r\n       <use x=\"100\" xlink:href=\"#SimHei-46\"/>\r\n       <use x=\"150\" xlink:href=\"#SimHei-52\"/>\r\n      </g>\r\n     </g>\r\n    </g>\r\n    <g id=\"ytick_3\">\r\n     <g id=\"line2d_9\">\r\n      <g>\r\n       <use style=\"stroke:#000000;stroke-width:0.8;\" x=\"34.2\" xlink:href=\"#m37754b4a92\" y=\"151.035602\"/>\r\n      </g>\r\n     </g>\r\n     <g id=\"text_9\">\r\n      <!-- -0.2 -->\r\n      <g transform=\"translate(7.2 154.473102)scale(0.1 -0.1)\">\r\n       <defs>\r\n        <path d=\"M 4.6875 3.90625 \r\nQ 5.078125 9.765625 10.15625 14.453125 \r\nQ 15.234375 19.140625 23.046875 29.09375 \r\nQ 30.859375 39.0625 33.203125 44.53125 \r\nQ 35.546875 50 34.953125 53.90625 \r\nQ 34.375 57.8125 31.25 60.34375 \r\nQ 28.125 62.890625 24.015625 62.5 \r\nQ 19.921875 62.109375 16.203125 59.375 \r\nQ 12.5 56.640625 10.546875 51.171875 \r\nL 3.125 52.34375 \r\nQ 6.25 61.328125 11.125 65.421875 \r\nQ 16.015625 69.53125 22.65625 69.921875 \r\nQ 26.5625 70.3125 29.6875 69.71875 \r\nQ 32.8125 69.140625 36.125 66.984375 \r\nQ 39.453125 64.84375 41.59375 60.546875 \r\nQ 43.75 56.25 43.15625 50.1875 \r\nQ 42.578125 44.140625 37.109375 35.734375 \r\nQ 31.640625 27.34375 16.015625 9.375 \r\nL 44.140625 9.375 \r\nL 44.140625 2.34375 \r\nL 4.6875 2.34375 \r\nz\r\n\" id=\"SimHei-50\"/>\r\n       </defs>\r\n       <use xlink:href=\"#SimHei-45\"/>\r\n       <use x=\"50\" xlink:href=\"#SimHei-48\"/>\r\n       <use x=\"100\" xlink:href=\"#SimHei-46\"/>\r\n       <use x=\"150\" xlink:href=\"#SimHei-50\"/>\r\n      </g>\r\n     </g>\r\n    </g>\r\n    <g id=\"ytick_4\">\r\n     <g id=\"line2d_10\">\r\n      <g>\r\n       <use style=\"stroke:#000000;stroke-width:0.8;\" x=\"34.2\" xlink:href=\"#m37754b4a92\" y=\"125.9045\"/>\r\n      </g>\r\n     </g>\r\n     <g id=\"text_10\">\r\n      <!-- 0.0 -->\r\n      <g transform=\"translate(12.2 129.342)scale(0.1 -0.1)\">\r\n       <use xlink:href=\"#SimHei-48\"/>\r\n       <use x=\"50\" xlink:href=\"#SimHei-46\"/>\r\n       <use x=\"100\" xlink:href=\"#SimHei-48\"/>\r\n      </g>\r\n     </g>\r\n    </g>\r\n    <g id=\"ytick_5\">\r\n     <g id=\"line2d_11\">\r\n      <g>\r\n       <use style=\"stroke:#000000;stroke-width:0.8;\" x=\"34.2\" xlink:href=\"#m37754b4a92\" y=\"100.773398\"/>\r\n      </g>\r\n     </g>\r\n     <g id=\"text_11\">\r\n      <!-- 0.2 -->\r\n      <g transform=\"translate(12.2 104.210898)scale(0.1 -0.1)\">\r\n       <use xlink:href=\"#SimHei-48\"/>\r\n       <use x=\"50\" xlink:href=\"#SimHei-46\"/>\r\n       <use x=\"100\" xlink:href=\"#SimHei-50\"/>\r\n      </g>\r\n     </g>\r\n    </g>\r\n    <g id=\"ytick_6\">\r\n     <g id=\"line2d_12\">\r\n      <g>\r\n       <use style=\"stroke:#000000;stroke-width:0.8;\" x=\"34.2\" xlink:href=\"#m37754b4a92\" y=\"75.642296\"/>\r\n      </g>\r\n     </g>\r\n     <g id=\"text_12\">\r\n      <!-- 0.4 -->\r\n      <g transform=\"translate(12.2 79.079796)scale(0.1 -0.1)\">\r\n       <use xlink:href=\"#SimHei-48\"/>\r\n       <use x=\"50\" xlink:href=\"#SimHei-46\"/>\r\n       <use x=\"100\" xlink:href=\"#SimHei-52\"/>\r\n      </g>\r\n     </g>\r\n    </g>\r\n    <g id=\"ytick_7\">\r\n     <g id=\"line2d_13\">\r\n      <g>\r\n       <use style=\"stroke:#000000;stroke-width:0.8;\" x=\"34.2\" xlink:href=\"#m37754b4a92\" y=\"50.511194\"/>\r\n      </g>\r\n     </g>\r\n     <g id=\"text_13\">\r\n      <!-- 0.6 -->\r\n      <g transform=\"translate(12.2 53.948694)scale(0.1 -0.1)\">\r\n       <use xlink:href=\"#SimHei-48\"/>\r\n       <use x=\"50\" xlink:href=\"#SimHei-46\"/>\r\n       <use x=\"100\" xlink:href=\"#SimHei-54\"/>\r\n      </g>\r\n     </g>\r\n    </g>\r\n    <g id=\"ytick_8\">\r\n     <g id=\"line2d_14\">\r\n      <g>\r\n       <use style=\"stroke:#000000;stroke-width:0.8;\" x=\"34.2\" xlink:href=\"#m37754b4a92\" y=\"25.380092\"/>\r\n      </g>\r\n     </g>\r\n     <g id=\"text_14\">\r\n      <!-- 0.8 -->\r\n      <g transform=\"translate(12.2 28.817592)scale(0.1 -0.1)\">\r\n       <defs>\r\n        <path d=\"M 2.734375 16.796875 \r\nQ 2.734375 26.171875 5.078125 30.65625 \r\nQ 7.421875 35.15625 12.890625 37.890625 \r\nQ 8.203125 40.625 6.640625 43.9375 \r\nQ 5.078125 47.265625 4.875 51.5625 \r\nQ 4.6875 55.859375 6.046875 58.984375 \r\nQ 7.421875 62.109375 10.15625 64.84375 \r\nQ 12.890625 67.578125 16.203125 68.546875 \r\nQ 19.53125 69.53125 23.4375 69.53125 \r\nQ 27.34375 69.53125 30.46875 68.75 \r\nQ 33.59375 67.96875 37.109375 65.421875 \r\nQ 40.625 62.890625 42.1875 58.203125 \r\nQ 43.75 53.515625 41.984375 47.265625 \r\nQ 40.234375 41.015625 32.8125 37.5 \r\nQ 39.453125 35.546875 42.1875 31.4375 \r\nQ 44.921875 27.34375 44.921875 21.484375 \r\nQ 44.921875 15.625 43.15625 12.109375 \r\nQ 41.40625 8.59375 39.25 6.25 \r\nQ 37.109375 3.90625 33.390625 2.53125 \r\nQ 29.6875 1.171875 24.015625 1.171875 \r\nQ 18.359375 1.171875 14.25 2.53125 \r\nQ 10.15625 3.90625 7.421875 6.640625 \r\nQ 4.6875 9.375 3.703125 13.078125 \r\nQ 2.734375 16.796875 2.734375 26.171875 \r\nz\r\nM 10.9375 26.5625 \r\nQ 10.546875 17.1875 12.296875 13.671875 \r\nQ 14.0625 10.15625 18.75 9.171875 \r\nQ 23.4375 8.203125 28.515625 9.375 \r\nQ 33.59375 10.546875 35.546875 14.84375 \r\nQ 37.5 19.140625 36.90625 23.4375 \r\nQ 36.328125 27.734375 32.03125 30.65625 \r\nQ 27.734375 33.59375 22.65625 33.203125 \r\nQ 17.578125 32.8125 14.25 29.6875 \r\nQ 10.9375 26.5625 10.546875 17.1875 \r\nz\r\nM 12.109375 56.25 \r\nQ 12.109375 48.4375 14.84375 44.921875 \r\nQ 17.578125 41.40625 23.4375 41.40625 \r\nQ 29.296875 41.40625 32.21875 44.921875 \r\nQ 35.15625 48.4375 34.953125 53.3125 \r\nQ 34.765625 58.203125 31.4375 60.546875 \r\nQ 28.125 62.890625 22.453125 62.5 \r\nQ 16.796875 62.109375 14.453125 59.171875 \r\nQ 12.109375 56.25 12.109375 48.4375 \r\nz\r\n\" id=\"SimHei-56\"/>\r\n       </defs>\r\n       <use xlink:href=\"#SimHei-48\"/>\r\n       <use x=\"50\" xlink:href=\"#SimHei-46\"/>\r\n       <use x=\"100\" xlink:href=\"#SimHei-56\"/>\r\n      </g>\r\n     </g>\r\n    </g>\r\n   </g>\r\n   <g id=\"line2d_15\">\r\n    <path clip-path=\"url(#p6690e6305e)\" d=\"M 170.186122 125.9045 \r\nL 295.841633 125.9045 \r\n\" style=\"fill:none;stroke:#ff0000;stroke-linecap:square;stroke-width:1.5;\"/>\r\n   </g>\r\n   <g id=\"line2d_16\">\r\n    <path clip-path=\"url(#p6690e6305e)\" d=\"M 170.186122 125.9045 \r\nL 259.037986 37.052637 \r\n\" style=\"fill:none;stroke:#bfbf00;stroke-linecap:square;stroke-width:1.5;\"/>\r\n   </g>\r\n   <g id=\"line2d_17\">\r\n    <path clip-path=\"url(#p6690e6305e)\" d=\"M 170.186122 125.9045 \r\nL 107.358367 17.083636 \r\n\" style=\"fill:none;stroke:#008000;stroke-linecap:square;stroke-width:1.5;\"/>\r\n   </g>\r\n   <g id=\"line2d_18\">\r\n    <path clip-path=\"url(#p6690e6305e)\" d=\"M 170.186122 125.9045 \r\nL 259.037986 214.756364 \r\n\" style=\"fill:none;stroke:#0000ff;stroke-linecap:square;stroke-width:1.5;\"/>\r\n   </g>\r\n   <g id=\"patch_3\">\r\n    <path d=\"M 34.2 224.64 \r\nL 34.2 7.2 \r\n\" style=\"fill:none;stroke:#000000;stroke-linecap:square;stroke-linejoin:miter;stroke-width:0.8;\"/>\r\n   </g>\r\n   <g id=\"patch_4\">\r\n    <path d=\"M 369 224.64 \r\nL 369 7.2 \r\n\" style=\"fill:none;stroke:#000000;stroke-linecap:square;stroke-linejoin:miter;stroke-width:0.8;\"/>\r\n   </g>\r\n   <g id=\"patch_5\">\r\n    <path d=\"M 34.2 224.64 \r\nL 369 224.64 \r\n\" style=\"fill:none;stroke:#000000;stroke-linecap:square;stroke-linejoin:miter;stroke-width:0.8;\"/>\r\n   </g>\r\n   <g id=\"patch_6\">\r\n    <path d=\"M 34.2 7.2 \r\nL 369 7.2 \r\n\" style=\"fill:none;stroke:#000000;stroke-linecap:square;stroke-linejoin:miter;stroke-width:0.8;\"/>\r\n   </g>\r\n  </g>\r\n </g>\r\n <defs>\r\n  <clipPath id=\"p6690e6305e\">\r\n   <rect height=\"217.44\" width=\"334.8\" x=\"34.2\" y=\"7.2\"/>\r\n  </clipPath>\r\n </defs>\r\n</svg>\r\n",
      "image/png": "[encoded data removed]"
     },
     "metadata": {
      "needs_background": "light"
     }
    },
    {
     "output_type": "execute_result",
     "data": {
      "text/plain": [
       "'\\n注释： \\nBaseUtils.angle_to_radian(deg) 角度转弧度\\nPlot2.plot_p2s([], describe) 绘制由 P2 点组成的线\\nPlot2.equal() 设置坐标轴 x 和 y 比例相等\\nPlot2.show() 绘制图象\\n'"
      ]
     },
     "metadata": {},
     "execution_count": 8
    }
   ],
   "source": [
    "# rotate(phi) 矢量旋转(逆时针)\n",
    "p = P2(1,0)\n",
    "p_rot45 = p.rotate(BaseUtils.angle_to_radian(45))\n",
    "p_rot120 = p.rotate(BaseUtils.angle_to_radian(120))\n",
    "p_rot_neg45 = p.rotate(BaseUtils.angle_to_radian(-45)) # 负数顺时针旋转\n",
    "\n",
    "Plot2.plot_p2s([P2.origin(), p], 'r-')\n",
    "Plot2.plot_p2s([P2.origin(), p_rot45], 'y-')\n",
    "Plot2.plot_p2s([P2.origin(), p_rot120], 'g-')\n",
    "Plot2.plot_p2s([P2.origin(), p_rot_neg45], 'b-')\n",
    "Plot2.equal()\n",
    "Plot2.show()\n",
    "\n",
    "\"\"\"\n",
    "注释： \n",
    "BaseUtils.angle_to_radian(deg) 角度转弧度\n",
    "Plot2.plot_p2s([], describe) 绘制由 P2 点组成的线\n",
    "Plot2.equal() 设置坐标轴 x 和 y 比例相等\n",
    "Plot2.show() 绘制图象\n",
    "\"\"\""
   ]
  },
  {
   "cell_type": "code",
   "execution_count": 9,
   "metadata": {},
   "outputs": [
    {
     "output_type": "stream",
     "name": "stdout",
     "text": [
      "0.7853981633974483, 转为角度 45.0\n5.497787143782138, 转为角度 315.0\np_to_p2=2.356194490192345, 转为角度 135.0\np2_to_p=3.9269908169872414, 转为角度 225.0\n"
     ]
    }
   ],
   "source": [
    "# 求矢量和 x 轴夹角\n",
    "p = P2(1,1)\n",
    "p1 = P2(1,-1)\n",
    "p_angle_to_x = p.angle_to_x_axis()\n",
    "p1_angle_to_x = p1.angle_to_x_axis()\n",
    "print(f\"{p_angle_to_x}, 转为角度 {BaseUtils.radian_to_angle(p_angle_to_x)}\")\n",
    "print(f\"{p1_angle_to_x}, 转为角度 {BaseUtils.radian_to_angle(p1_angle_to_x)}\")\n",
    "\n",
    "# 求矢量 p1 到 p2 的夹角，顺时针方向\n",
    "p2 = P2(-1,0)\n",
    "p_to_p2 = p.angle_to(p2)\n",
    "p2_to_p = p2.angle_to(p)\n",
    "print(f\"p_to_p2={p_to_p2}, 转为角度 {BaseUtils.radian_to_angle(p_to_p2)}\")\n",
    "print(f\"p2_to_p={p2_to_p}, 转为角度 {BaseUtils.radian_to_angle(p2_to_p)}\")\n"
   ]
  },
  {
   "cell_type": "code",
   "execution_count": 10,
   "metadata": {},
   "outputs": [
    {
     "output_type": "stream",
     "name": "stdout",
     "text": [
      "[1.0, 2.0, 0.0]\n[0.0, 0.0, 3.0]\n"
     ]
    }
   ],
   "source": [
    "# to_p3(transformation) 通过某种规则 P2 转换到 P3\n",
    "# 如果规则为空，则 (x, y) 转为 (x, y, 0)\n",
    "p = P2(1,2)\n",
    "p3 = p.to_p3()\n",
    "print(p3)\n",
    "\n",
    "# 可以指定一个 P2 到 P3 的函数\n",
    "p3 = p.to_p3(lambda p:P3(z=p.x+p.y))\n",
    "print(p3)"
   ]
  },
  {
   "cell_type": "code",
   "execution_count": 11,
   "metadata": {},
   "outputs": [
    {
     "output_type": "stream",
     "name": "stdout",
     "text": [
      "p=[3.14, 1.0], p_copy=[1.0, 1.0]\n"
     ]
    }
   ],
   "source": [
    "# copy()\n",
    "p = P2(1,1)\n",
    "p_copy = p.copy()\n",
    "p.x = 3.14\n",
    "print(f\"p={p}, p_copy={p_copy}\") "
   ]
  },
  {
   "source": [
    "## P3\n",
    "\n",
    "P2 既可以表示三维坐标系中的点 (x, y, z)，也可以表示三维向量 (x, y, z)。它包含一下方便的运算操作\n",
    "\n",
    "- 多种构造方法\n",
    "- 矢量长度、归一化、改变矢量长度\n",
    "- 加法、减法、相反数、自加、自减、乘法（标量乘、内积、**外积**）、相等判断\n",
    "- copy() 拷贝\n",
    "\n",
    "P3 的使用方法基本和 P2 相同，这里只展示构造方法和外积"
   ],
   "cell_type": "markdown",
   "metadata": {}
  },
  {
   "cell_type": "code",
   "execution_count": 12,
   "metadata": {},
   "outputs": [
    {
     "output_type": "stream",
     "name": "stdout",
     "text": [
      "[0.0, 0.0, 0.0] [1.0, 2.0, 0.0] [1.0, 0.0, 4.0] [3.14, 6.28, 1.414]\n[1.0, 0.0, 0.0] [0.0, 4.0, 0.0] [0.0, 0.0, -2.0]\n[0.0, 0.0, 0.0] [0.0, 0.0, 0.0]\n"
     ]
    }
   ],
   "source": [
    "# 构造 P3\n",
    "# 使用构造器\n",
    "p1 = P3()\n",
    "p2 = P3(x=1,y=2)\n",
    "p3 = P3(z=4,x=1)\n",
    "p4 = P3(3.14,6.28,1.414)\n",
    "\n",
    "print(p1,p2,p3,p4)\n",
    "\n",
    "# 使用静态方法\n",
    "p5 = P3.x_direct()\n",
    "p6 = P3.y_direct(4)\n",
    "p7 = P3.z_direct(-2)\n",
    "\n",
    "print(p5,p6,p7)\n",
    "\n",
    "# 两个特殊方法，构造原点和零矢量\n",
    "p8 = P3.origin()\n",
    "p9 = P3.zeros()\n",
    "print(p8,p9)"
   ]
  },
  {
   "cell_type": "code",
   "execution_count": 13,
   "metadata": {},
   "outputs": [
    {
     "output_type": "stream",
     "name": "stdout",
     "text": [
      "x × y = [0.0, 0.0, 1.0]\ny × z = [1.0, 0.0, 0.0]\nz × x = [0.0, 1.0, 0.0] 单位矢量叉乘重要结论\ny × x = [0.0, 0.0, -1.0] 矢量叉乘不满足交换律\n"
     ]
    }
   ],
   "source": [
    "# 三维矢量叉乘，使用符号 @\n",
    "x = P3.x_direct()\n",
    "y = P3.y_direct()\n",
    "z = P3.z_direct()\n",
    "\n",
    "print(f\"x × y = {x@y}\")\n",
    "print(f\"y × z = {y@z}\")\n",
    "print(f\"z × x = {z@x}\",\"单位矢量叉乘重要结论\")\n",
    "\n",
    "print(f\"y × x = {y@x}\",\"矢量叉乘不满足交换律\")"
   ]
  },
  {
   "source": [
    "# BaseUtils 基础工具\n",
    "\n",
    "这个类中有许多基础的函数，便于程序开发\n",
    "\n",
    "- equal() 判断两个对象是否相等，带有容忍误差，同时支持报错处理\n",
    "- linspace()，同 numpy 中用于生成均匀分布的 linspace 方法\n",
    "- angle_to_radian / radian_to_angle 角度和弧度互相转换\n",
    "- print_traceback 打印函数调用栈（这个主要用于 debug）\n",
    "- Ellipse 椭圆对象。用于生成椭圆圆周上均匀分布的若干点"
   ],
   "cell_type": "markdown",
   "metadata": {}
  },
  {
   "cell_type": "code",
   "execution_count": 14,
   "metadata": {},
   "outputs": [
    {
     "output_type": "stream",
     "name": "stdout",
     "text": [
      "False\nTrue\nTrue\nTrue\n出现错误，1 和 2 不相等\n"
     ]
    }
   ],
   "source": [
    "# equal(a, b, err: float = 1e-6, msg: str = None) 判断两个对象是否相等，带有容忍误差，同时支持报错处理\n",
    "# 判断 a b 是否相等，相等返回 true\n",
    "# 当 a b 不相等时，若 msg 为空，返回 flase，否则抛出异常，异常信息即 msg\n",
    "# err 表示容忍的误差，默认值 1e-6\n",
    "\n",
    "print(BaseUtils.equal(1,2))\n",
    "print(BaseUtils.equal(P2.origin(),P2.zeros()))\n",
    "print(BaseUtils.equal(P3.z_direct(),P3(z=1)))\n",
    "\n",
    "print(BaseUtils.equal(3.14, math.pi, err=0.01))\n",
    "\n",
    "a = 1; b = 2\n",
    "try:\n",
    "    print(BaseUtils.equal(a,b,msg=f\"出现错误，{a} 和 {b} 不相等\"))\n",
    "except AssertionError as ae:\n",
    "    print(ae)\n"
   ]
  },
  {
   "cell_type": "code",
   "execution_count": 15,
   "metadata": {},
   "outputs": [
    {
     "output_type": "stream",
     "name": "stdout",
     "text": [
      "[0.0, 0.25, 0.5, 0.75, 1.0]\n[[0.0, 0.0], [0.25, 0.0], [0.5, 0.0], [0.75, 0.0], [1.0, 0.0]]\n[[0.0, 0.0, 1.0], [0.0, 0.0, 0.5], [0.0, 0.0, 0.0]]\n"
     ]
    }
   ],
   "source": [
    "# linspace(start, end, number: int)，同 numpy 中用于生成均匀分布的 linspace 方法\n",
    "\n",
    "print(BaseUtils.linspace(0, 1, 5))\n",
    "print(BaseUtils.linspace(P2(), P2(x=1), 5))\n",
    "print(BaseUtils.linspace(P3(z=1), P3(), 3))"
   ]
  },
  {
   "cell_type": "code",
   "execution_count": 19,
   "metadata": {},
   "outputs": [
    {
     "output_type": "stream",
     "name": "stdout",
     "text": [
      "3.141592653589793\n[18.0, 36.0, 59.99999999999999]\n"
     ]
    }
   ],
   "source": [
    "# angle_to_radian(deg)\n",
    "# radian_to_angle(rad)\n",
    "# 角度和弧度互相转化，支持列表\n",
    "\n",
    "print(BaseUtils.angle_to_radian(180))\n",
    "print(BaseUtils.radian_to_angle([math.pi/10,math.pi/5,math.pi/3]))"
   ]
  },
  {
   "cell_type": "code",
   "execution_count": 23,
   "metadata": {},
   "outputs": [
    {
     "output_type": "display_data",
     "data": {
      "text/plain": "<Figure size 432x288 with 1 Axes>",
      "image/svg+xml": "<?xml version=\"1.0\" encoding=\"utf-8\" standalone=\"no\"?>\r\n<!DOCTYPE svg PUBLIC \"-//W3C//DTD SVG 1.1//EN\"\r\n  \"http://www.w3.org/Graphics/SVG/1.1/DTD/svg11.dtd\">\r\n<!-- Created with matplotlib (https://matplotlib.org/) -->\r\n<svg height=\"247.108139pt\" version=\"1.1\" viewBox=\"0 0 386.2 247.108139\" width=\"386.2pt\" xmlns=\"http://www.w3.org/2000/svg\" xmlns:xlink=\"http://www.w3.org/1999/xlink\">\r\n <metadata>\r\n  <rdf:RDF xmlns:cc=\"http://creativecommons.org/ns#\" xmlns:dc=\"http://purl.org/dc/elements/1.1/\" xmlns:rdf=\"http://www.w3.org/1999/02/22-rdf-syntax-ns#\">\r\n   <cc:Work>\r\n    <dc:type rdf:resource=\"http://purl.org/dc/dcmitype/StillImage\"/>\r\n    <dc:date>2020-11-30T21:55:16.204720</dc:date>\r\n    <dc:format>image/svg+xml</dc:format>\r\n    <dc:creator>\r\n     <cc:Agent>\r\n      <dc:title>Matplotlib v3.3.3, https://matplotlib.org/</dc:title>\r\n     </cc:Agent>\r\n    </dc:creator>\r\n   </cc:Work>\r\n  </rdf:RDF>\r\n </metadata>\r\n <defs>\r\n  <style type=\"text/css\">*{stroke-linecap:butt;stroke-linejoin:round;}</style>\r\n </defs>\r\n <g id=\"figure_1\">\r\n  <g id=\"patch_1\">\r\n   <path d=\"M 0 247.108139 \r\nL 386.2 247.108139 \r\nL 386.2 0 \r\nL 0 0 \r\nz\r\n\" style=\"fill:none;\"/>\r\n  </g>\r\n  <g id=\"axes_1\">\r\n   <g id=\"patch_2\">\r\n    <path d=\"M 44.2 224.783139 \r\nL 379 224.783139 \r\nL 379 7.343139 \r\nL 44.2 7.343139 \r\nz\r\n\" style=\"fill:#ffffff;\"/>\r\n   </g>\r\n   <g id=\"matplotlib.axis_1\">\r\n    <g id=\"xtick_1\">\r\n     <g id=\"line2d_1\">\r\n      <defs>\r\n       <path d=\"M 0 0 \r\nL 0 3.5 \r\n\" id=\"mff1f2f8575\" style=\"stroke:#000000;stroke-width:0.8;\"/>\r\n      </defs>\r\n      <g>\r\n       <use style=\"stroke:#000000;stroke-width:0.8;\" x=\"79.817949\" xlink:href=\"#mff1f2f8575\" y=\"224.783139\"/>\r\n      </g>\r\n     </g>\r\n     <g id=\"text_1\">\r\n      <!-- -0.010 -->\r\n      <g transform=\"translate(64.817949 238.658139)scale(0.1 -0.1)\">\r\n       <defs>\r\n        <path d=\"M 46.484375 33.203125 \r\nL 1.953125 33.203125 \r\nL 1.953125 39.453125 \r\nL 46.484375 39.453125 \r\nz\r\n\" id=\"SimHei-45\"/>\r\n        <path d=\"M 3.125 29.296875 \r\nQ 3.90625 50 6.4375 56.046875 \r\nQ 8.984375 62.109375 13.671875 66.015625 \r\nQ 18.359375 69.921875 25.1875 69.921875 \r\nQ 32.03125 69.921875 37.109375 64.25 \r\nQ 42.1875 58.59375 43.75 50 \r\nQ 45.3125 41.40625 44.71875 30.265625 \r\nQ 44.140625 19.140625 40.8125 12.109375 \r\nQ 37.5 5.078125 30.859375 2.34375 \r\nQ 24.21875 -0.390625 17.578125 2.921875 \r\nQ 10.9375 6.25 8.203125 11.71875 \r\nQ 5.46875 17.1875 4.296875 23.234375 \r\nQ 3.125 29.296875 3.90625 50 \r\nz\r\nM 12.890625 52.734375 \r\nQ 10.546875 31.25 12.5 22.84375 \r\nQ 14.453125 14.453125 18.9375 10.9375 \r\nQ 23.4375 7.421875 28.125 9.5625 \r\nQ 32.8125 11.71875 34.953125 18.15625 \r\nQ 37.109375 24.609375 37.109375 32.21875 \r\nQ 37.109375 39.84375 36.515625 46.09375 \r\nQ 35.9375 52.34375 33 57.421875 \r\nQ 30.078125 62.5 25.1875 62.6875 \r\nQ 20.3125 62.890625 16.59375 57.8125 \r\nQ 12.890625 52.734375 10.546875 31.25 \r\nz\r\n\" id=\"SimHei-48\"/>\r\n        <path d=\"M 16.796875 1.953125 \r\nL 7.8125 1.953125 \r\nL 7.8125 10.546875 \r\nL 16.796875 10.546875 \r\nz\r\n\" id=\"SimHei-46\"/>\r\n        <path d=\"M 21.875 56.25 \r\nQ 16.796875 51.171875 8.984375 46.484375 \r\nL 8.984375 53.90625 \r\nQ 18.75 60.546875 25 69.53125 \r\nL 29.6875 69.53125 \r\nL 29.6875 2.34375 \r\nL 21.875 2.34375 \r\nz\r\n\" id=\"SimHei-49\"/>\r\n       </defs>\r\n       <use xlink:href=\"#SimHei-45\"/>\r\n       <use x=\"50\" xlink:href=\"#SimHei-48\"/>\r\n       <use x=\"100\" xlink:href=\"#SimHei-46\"/>\r\n       <use x=\"150\" xlink:href=\"#SimHei-48\"/>\r\n       <use x=\"200\" xlink:href=\"#SimHei-49\"/>\r\n       <use x=\"250\" xlink:href=\"#SimHei-48\"/>\r\n      </g>\r\n     </g>\r\n    </g>\r\n    <g id=\"xtick_2\">\r\n     <g id=\"line2d_2\">\r\n      <g>\r\n       <use style=\"stroke:#000000;stroke-width:0.8;\" x=\"145.708974\" xlink:href=\"#mff1f2f8575\" y=\"224.783139\"/>\r\n      </g>\r\n     </g>\r\n     <g id=\"text_2\">\r\n      <!-- -0.005 -->\r\n      <g transform=\"translate(130.708974 238.658139)scale(0.1 -0.1)\">\r\n       <defs>\r\n        <path d=\"M 8.59375 20.703125 \r\nQ 11.328125 10.15625 17.96875 8.984375 \r\nQ 24.609375 7.8125 28.703125 10.34375 \r\nQ 32.8125 12.890625 34.5625 16.984375 \r\nQ 36.328125 21.09375 36.125 26.171875 \r\nQ 35.9375 31.25 33.390625 34.765625 \r\nQ 30.859375 38.28125 26.953125 39.453125 \r\nQ 23.046875 40.625 18.15625 39.453125 \r\nQ 13.28125 38.28125 10.15625 33.984375 \r\nL 3.515625 34.765625 \r\nQ 4.296875 37.109375 10.9375 68.359375 \r\nL 41.796875 68.359375 \r\nL 41.796875 61.328125 \r\nL 16.796875 61.328125 \r\nQ 14.84375 50.78125 12.890625 44.53125 \r\nQ 18.75 47.265625 23.828125 47.0625 \r\nQ 28.90625 46.875 33.59375 44.71875 \r\nQ 38.28125 42.578125 40.421875 38.859375 \r\nQ 42.578125 35.15625 43.546875 31.4375 \r\nQ 44.53125 27.734375 44.328125 23.4375 \r\nQ 44.140625 19.140625 42.578125 14.640625 \r\nQ 41.015625 10.15625 37.890625 7.21875 \r\nQ 34.765625 4.296875 30.265625 2.53125 \r\nQ 25.78125 0.78125 19.921875 1.171875 \r\nQ 14.0625 1.5625 8.78125 5.46875 \r\nQ 3.515625 9.375 1.5625 18.75 \r\nz\r\n\" id=\"SimHei-53\"/>\r\n       </defs>\r\n       <use xlink:href=\"#SimHei-45\"/>\r\n       <use x=\"50\" xlink:href=\"#SimHei-48\"/>\r\n       <use x=\"100\" xlink:href=\"#SimHei-46\"/>\r\n       <use x=\"150\" xlink:href=\"#SimHei-48\"/>\r\n       <use x=\"200\" xlink:href=\"#SimHei-48\"/>\r\n       <use x=\"250\" xlink:href=\"#SimHei-53\"/>\r\n      </g>\r\n     </g>\r\n    </g>\r\n    <g id=\"xtick_3\">\r\n     <g id=\"line2d_3\">\r\n      <g>\r\n       <use style=\"stroke:#000000;stroke-width:0.8;\" x=\"211.599998\" xlink:href=\"#mff1f2f8575\" y=\"224.783139\"/>\r\n      </g>\r\n     </g>\r\n     <g id=\"text_3\">\r\n      <!-- 0.000 -->\r\n      <g transform=\"translate(199.099998 238.658139)scale(0.1 -0.1)\">\r\n       <use xlink:href=\"#SimHei-48\"/>\r\n       <use x=\"50\" xlink:href=\"#SimHei-46\"/>\r\n       <use x=\"100\" xlink:href=\"#SimHei-48\"/>\r\n       <use x=\"150\" xlink:href=\"#SimHei-48\"/>\r\n       <use x=\"200\" xlink:href=\"#SimHei-48\"/>\r\n      </g>\r\n     </g>\r\n    </g>\r\n    <g id=\"xtick_4\">\r\n     <g id=\"line2d_4\">\r\n      <g>\r\n       <use style=\"stroke:#000000;stroke-width:0.8;\" x=\"277.491022\" xlink:href=\"#mff1f2f8575\" y=\"224.783139\"/>\r\n      </g>\r\n     </g>\r\n     <g id=\"text_4\">\r\n      <!-- 0.005 -->\r\n      <g transform=\"translate(264.991022 238.658139)scale(0.1 -0.1)\">\r\n       <use xlink:href=\"#SimHei-48\"/>\r\n       <use x=\"50\" xlink:href=\"#SimHei-46\"/>\r\n       <use x=\"100\" xlink:href=\"#SimHei-48\"/>\r\n       <use x=\"150\" xlink:href=\"#SimHei-48\"/>\r\n       <use x=\"200\" xlink:href=\"#SimHei-53\"/>\r\n      </g>\r\n     </g>\r\n    </g>\r\n    <g id=\"xtick_5\">\r\n     <g id=\"line2d_5\">\r\n      <g>\r\n       <use style=\"stroke:#000000;stroke-width:0.8;\" x=\"343.382047\" xlink:href=\"#mff1f2f8575\" y=\"224.783139\"/>\r\n      </g>\r\n     </g>\r\n     <g id=\"text_5\">\r\n      <!-- 0.010 -->\r\n      <g transform=\"translate(330.882047 238.658139)scale(0.1 -0.1)\">\r\n       <use xlink:href=\"#SimHei-48\"/>\r\n       <use x=\"50\" xlink:href=\"#SimHei-46\"/>\r\n       <use x=\"100\" xlink:href=\"#SimHei-48\"/>\r\n       <use x=\"150\" xlink:href=\"#SimHei-49\"/>\r\n       <use x=\"200\" xlink:href=\"#SimHei-48\"/>\r\n      </g>\r\n     </g>\r\n    </g>\r\n   </g>\r\n   <g id=\"matplotlib.axis_2\">\r\n    <g id=\"ytick_1\">\r\n     <g id=\"line2d_6\">\r\n      <defs>\r\n       <path d=\"M 0 0 \r\nL -3.5 0 \r\n\" id=\"m2b203b00e4\" style=\"stroke:#000000;stroke-width:0.8;\"/>\r\n      </defs>\r\n      <g>\r\n       <use style=\"stroke:#000000;stroke-width:0.8;\" x=\"44.2\" xlink:href=\"#m2b203b00e4\" y=\"221.488778\"/>\r\n      </g>\r\n     </g>\r\n     <g id=\"text_6\">\r\n      <!-- -0.008 -->\r\n      <g transform=\"translate(7.2 224.926278)scale(0.1 -0.1)\">\r\n       <defs>\r\n        <path d=\"M 2.734375 16.796875 \r\nQ 2.734375 26.171875 5.078125 30.65625 \r\nQ 7.421875 35.15625 12.890625 37.890625 \r\nQ 8.203125 40.625 6.640625 43.9375 \r\nQ 5.078125 47.265625 4.875 51.5625 \r\nQ 4.6875 55.859375 6.046875 58.984375 \r\nQ 7.421875 62.109375 10.15625 64.84375 \r\nQ 12.890625 67.578125 16.203125 68.546875 \r\nQ 19.53125 69.53125 23.4375 69.53125 \r\nQ 27.34375 69.53125 30.46875 68.75 \r\nQ 33.59375 67.96875 37.109375 65.421875 \r\nQ 40.625 62.890625 42.1875 58.203125 \r\nQ 43.75 53.515625 41.984375 47.265625 \r\nQ 40.234375 41.015625 32.8125 37.5 \r\nQ 39.453125 35.546875 42.1875 31.4375 \r\nQ 44.921875 27.34375 44.921875 21.484375 \r\nQ 44.921875 15.625 43.15625 12.109375 \r\nQ 41.40625 8.59375 39.25 6.25 \r\nQ 37.109375 3.90625 33.390625 2.53125 \r\nQ 29.6875 1.171875 24.015625 1.171875 \r\nQ 18.359375 1.171875 14.25 2.53125 \r\nQ 10.15625 3.90625 7.421875 6.640625 \r\nQ 4.6875 9.375 3.703125 13.078125 \r\nQ 2.734375 16.796875 2.734375 26.171875 \r\nz\r\nM 10.9375 26.5625 \r\nQ 10.546875 17.1875 12.296875 13.671875 \r\nQ 14.0625 10.15625 18.75 9.171875 \r\nQ 23.4375 8.203125 28.515625 9.375 \r\nQ 33.59375 10.546875 35.546875 14.84375 \r\nQ 37.5 19.140625 36.90625 23.4375 \r\nQ 36.328125 27.734375 32.03125 30.65625 \r\nQ 27.734375 33.59375 22.65625 33.203125 \r\nQ 17.578125 32.8125 14.25 29.6875 \r\nQ 10.9375 26.5625 10.546875 17.1875 \r\nz\r\nM 12.109375 56.25 \r\nQ 12.109375 48.4375 14.84375 44.921875 \r\nQ 17.578125 41.40625 23.4375 41.40625 \r\nQ 29.296875 41.40625 32.21875 44.921875 \r\nQ 35.15625 48.4375 34.953125 53.3125 \r\nQ 34.765625 58.203125 31.4375 60.546875 \r\nQ 28.125 62.890625 22.453125 62.5 \r\nQ 16.796875 62.109375 14.453125 59.171875 \r\nQ 12.109375 56.25 12.109375 48.4375 \r\nz\r\n\" id=\"SimHei-56\"/>\r\n       </defs>\r\n       <use xlink:href=\"#SimHei-45\"/>\r\n       <use x=\"50\" xlink:href=\"#SimHei-48\"/>\r\n       <use x=\"100\" xlink:href=\"#SimHei-46\"/>\r\n       <use x=\"150\" xlink:href=\"#SimHei-48\"/>\r\n       <use x=\"200\" xlink:href=\"#SimHei-48\"/>\r\n       <use x=\"250\" xlink:href=\"#SimHei-56\"/>\r\n      </g>\r\n     </g>\r\n    </g>\r\n    <g id=\"ytick_2\">\r\n     <g id=\"line2d_7\">\r\n      <g>\r\n       <use style=\"stroke:#000000;stroke-width:0.8;\" x=\"44.2\" xlink:href=\"#m2b203b00e4\" y=\"195.132368\"/>\r\n      </g>\r\n     </g>\r\n     <g id=\"text_7\">\r\n      <!-- -0.006 -->\r\n      <g transform=\"translate(7.2 198.569868)scale(0.1 -0.1)\">\r\n       <defs>\r\n        <path d=\"M 3.515625 19.53125 \r\nQ 4.296875 30.859375 6.046875 34.765625 \r\nQ 7.8125 38.671875 11.328125 44.53125 \r\nL 27.34375 69.53125 \r\nL 36.328125 69.53125 \r\nL 19.921875 43.75 \r\nQ 30.46875 46.484375 36.71875 42.96875 \r\nQ 42.96875 39.453125 45.109375 34.953125 \r\nQ 47.265625 30.46875 47.453125 25.1875 \r\nQ 47.65625 19.921875 45.890625 14.84375 \r\nQ 44.140625 9.765625 39.640625 5.65625 \r\nQ 35.15625 1.5625 27.140625 1.171875 \r\nQ 19.140625 0.78125 13.46875 4.09375 \r\nQ 7.8125 7.421875 5.65625 13.46875 \r\nQ 3.515625 19.53125 4.296875 30.859375 \r\nz\r\nM 12.5 16.015625 \r\nQ 19.53125 8.59375 25.390625 8.203125 \r\nQ 31.25 7.8125 35.15625 12.109375 \r\nQ 39.0625 16.40625 39.0625 24.609375 \r\nQ 39.0625 32.8125 34.171875 35.9375 \r\nQ 29.296875 39.0625 23.234375 38.28125 \r\nQ 17.1875 37.5 14.453125 32.421875 \r\nQ 11.71875 27.34375 12.109375 21.671875 \r\nQ 12.5 16.015625 19.53125 8.59375 \r\nz\r\n\" id=\"SimHei-54\"/>\r\n       </defs>\r\n       <use xlink:href=\"#SimHei-45\"/>\r\n       <use x=\"50\" xlink:href=\"#SimHei-48\"/>\r\n       <use x=\"100\" xlink:href=\"#SimHei-46\"/>\r\n       <use x=\"150\" xlink:href=\"#SimHei-48\"/>\r\n       <use x=\"200\" xlink:href=\"#SimHei-48\"/>\r\n       <use x=\"250\" xlink:href=\"#SimHei-54\"/>\r\n      </g>\r\n     </g>\r\n    </g>\r\n    <g id=\"ytick_3\">\r\n     <g id=\"line2d_8\">\r\n      <g>\r\n       <use style=\"stroke:#000000;stroke-width:0.8;\" x=\"44.2\" xlink:href=\"#m2b203b00e4\" y=\"168.775958\"/>\r\n      </g>\r\n     </g>\r\n     <g id=\"text_8\">\r\n      <!-- -0.004 -->\r\n      <g transform=\"translate(7.2 172.213458)scale(0.1 -0.1)\">\r\n       <defs>\r\n        <path d=\"M 31.25 17.1875 \r\nL 1.171875 17.1875 \r\nL 1.171875 23.828125 \r\nL 32.8125 69.53125 \r\nL 38.671875 69.53125 \r\nL 38.671875 23.828125 \r\nL 48.046875 23.828125 \r\nL 48.046875 17.1875 \r\nL 38.671875 17.1875 \r\nL 38.671875 2.34375 \r\nL 31.25 2.34375 \r\nz\r\nM 31.25 23.828125 \r\nL 31.25 54.6875 \r\nL 9.375 23.828125 \r\nz\r\n\" id=\"SimHei-52\"/>\r\n       </defs>\r\n       <use xlink:href=\"#SimHei-45\"/>\r\n       <use x=\"50\" xlink:href=\"#SimHei-48\"/>\r\n       <use x=\"100\" xlink:href=\"#SimHei-46\"/>\r\n       <use x=\"150\" xlink:href=\"#SimHei-48\"/>\r\n       <use x=\"200\" xlink:href=\"#SimHei-48\"/>\r\n       <use x=\"250\" xlink:href=\"#SimHei-52\"/>\r\n      </g>\r\n     </g>\r\n    </g>\r\n    <g id=\"ytick_4\">\r\n     <g id=\"line2d_9\">\r\n      <g>\r\n       <use style=\"stroke:#000000;stroke-width:0.8;\" x=\"44.2\" xlink:href=\"#m2b203b00e4\" y=\"142.419549\"/>\r\n      </g>\r\n     </g>\r\n     <g id=\"text_9\">\r\n      <!-- -0.002 -->\r\n      <g transform=\"translate(7.2 145.857049)scale(0.1 -0.1)\">\r\n       <defs>\r\n        <path d=\"M 4.6875 3.90625 \r\nQ 5.078125 9.765625 10.15625 14.453125 \r\nQ 15.234375 19.140625 23.046875 29.09375 \r\nQ 30.859375 39.0625 33.203125 44.53125 \r\nQ 35.546875 50 34.953125 53.90625 \r\nQ 34.375 57.8125 31.25 60.34375 \r\nQ 28.125 62.890625 24.015625 62.5 \r\nQ 19.921875 62.109375 16.203125 59.375 \r\nQ 12.5 56.640625 10.546875 51.171875 \r\nL 3.125 52.34375 \r\nQ 6.25 61.328125 11.125 65.421875 \r\nQ 16.015625 69.53125 22.65625 69.921875 \r\nQ 26.5625 70.3125 29.6875 69.71875 \r\nQ 32.8125 69.140625 36.125 66.984375 \r\nQ 39.453125 64.84375 41.59375 60.546875 \r\nQ 43.75 56.25 43.15625 50.1875 \r\nQ 42.578125 44.140625 37.109375 35.734375 \r\nQ 31.640625 27.34375 16.015625 9.375 \r\nL 44.140625 9.375 \r\nL 44.140625 2.34375 \r\nL 4.6875 2.34375 \r\nz\r\n\" id=\"SimHei-50\"/>\r\n       </defs>\r\n       <use xlink:href=\"#SimHei-45\"/>\r\n       <use x=\"50\" xlink:href=\"#SimHei-48\"/>\r\n       <use x=\"100\" xlink:href=\"#SimHei-46\"/>\r\n       <use x=\"150\" xlink:href=\"#SimHei-48\"/>\r\n       <use x=\"200\" xlink:href=\"#SimHei-48\"/>\r\n       <use x=\"250\" xlink:href=\"#SimHei-50\"/>\r\n      </g>\r\n     </g>\r\n    </g>\r\n    <g id=\"ytick_5\">\r\n     <g id=\"line2d_10\">\r\n      <g>\r\n       <use style=\"stroke:#000000;stroke-width:0.8;\" x=\"44.2\" xlink:href=\"#m2b203b00e4\" y=\"116.063139\"/>\r\n      </g>\r\n     </g>\r\n     <g id=\"text_10\">\r\n      <!-- 0.000 -->\r\n      <g transform=\"translate(12.2 119.500639)scale(0.1 -0.1)\">\r\n       <use xlink:href=\"#SimHei-48\"/>\r\n       <use x=\"50\" xlink:href=\"#SimHei-46\"/>\r\n       <use x=\"100\" xlink:href=\"#SimHei-48\"/>\r\n       <use x=\"150\" xlink:href=\"#SimHei-48\"/>\r\n       <use x=\"200\" xlink:href=\"#SimHei-48\"/>\r\n      </g>\r\n     </g>\r\n    </g>\r\n    <g id=\"ytick_6\">\r\n     <g id=\"line2d_11\">\r\n      <g>\r\n       <use style=\"stroke:#000000;stroke-width:0.8;\" x=\"44.2\" xlink:href=\"#m2b203b00e4\" y=\"89.706729\"/>\r\n      </g>\r\n     </g>\r\n     <g id=\"text_11\">\r\n      <!-- 0.002 -->\r\n      <g transform=\"translate(12.2 93.144229)scale(0.1 -0.1)\">\r\n       <use xlink:href=\"#SimHei-48\"/>\r\n       <use x=\"50\" xlink:href=\"#SimHei-46\"/>\r\n       <use x=\"100\" xlink:href=\"#SimHei-48\"/>\r\n       <use x=\"150\" xlink:href=\"#SimHei-48\"/>\r\n       <use x=\"200\" xlink:href=\"#SimHei-50\"/>\r\n      </g>\r\n     </g>\r\n    </g>\r\n    <g id=\"ytick_7\">\r\n     <g id=\"line2d_12\">\r\n      <g>\r\n       <use style=\"stroke:#000000;stroke-width:0.8;\" x=\"44.2\" xlink:href=\"#m2b203b00e4\" y=\"63.350319\"/>\r\n      </g>\r\n     </g>\r\n     <g id=\"text_12\">\r\n      <!-- 0.004 -->\r\n      <g transform=\"translate(12.2 66.787819)scale(0.1 -0.1)\">\r\n       <use xlink:href=\"#SimHei-48\"/>\r\n       <use x=\"50\" xlink:href=\"#SimHei-46\"/>\r\n       <use x=\"100\" xlink:href=\"#SimHei-48\"/>\r\n       <use x=\"150\" xlink:href=\"#SimHei-48\"/>\r\n       <use x=\"200\" xlink:href=\"#SimHei-52\"/>\r\n      </g>\r\n     </g>\r\n    </g>\r\n    <g id=\"ytick_8\">\r\n     <g id=\"line2d_13\">\r\n      <g>\r\n       <use style=\"stroke:#000000;stroke-width:0.8;\" x=\"44.2\" xlink:href=\"#m2b203b00e4\" y=\"36.99391\"/>\r\n      </g>\r\n     </g>\r\n     <g id=\"text_13\">\r\n      <!-- 0.006 -->\r\n      <g transform=\"translate(12.2 40.43141)scale(0.1 -0.1)\">\r\n       <use xlink:href=\"#SimHei-48\"/>\r\n       <use x=\"50\" xlink:href=\"#SimHei-46\"/>\r\n       <use x=\"100\" xlink:href=\"#SimHei-48\"/>\r\n       <use x=\"150\" xlink:href=\"#SimHei-48\"/>\r\n       <use x=\"200\" xlink:href=\"#SimHei-54\"/>\r\n      </g>\r\n     </g>\r\n    </g>\r\n    <g id=\"ytick_9\">\r\n     <g id=\"line2d_14\">\r\n      <g>\r\n       <use style=\"stroke:#000000;stroke-width:0.8;\" x=\"44.2\" xlink:href=\"#m2b203b00e4\" y=\"10.6375\"/>\r\n      </g>\r\n     </g>\r\n     <g id=\"text_14\">\r\n      <!-- 0.008 -->\r\n      <g transform=\"translate(12.2 14.075)scale(0.1 -0.1)\">\r\n       <use xlink:href=\"#SimHei-48\"/>\r\n       <use x=\"50\" xlink:href=\"#SimHei-46\"/>\r\n       <use x=\"100\" xlink:href=\"#SimHei-48\"/>\r\n       <use x=\"150\" xlink:href=\"#SimHei-48\"/>\r\n       <use x=\"200\" xlink:href=\"#SimHei-56\"/>\r\n      </g>\r\n     </g>\r\n    </g>\r\n   </g>\r\n   <g id=\"line2d_15\">\r\n    <defs>\r\n     <path d=\"M 0 1.5 \r\nC 0.397805 1.5 0.77937 1.341951 1.06066 1.06066 \r\nC 1.341951 0.77937 1.5 0.397805 1.5 0 \r\nC 1.5 -0.397805 1.341951 -0.77937 1.06066 -1.06066 \r\nC 0.77937 -1.341951 0.397805 -1.5 0 -1.5 \r\nC -0.397805 -1.5 -0.77937 -1.341951 -1.06066 -1.06066 \r\nC -1.341951 -0.77937 -1.5 -0.397805 -1.5 0 \r\nC -1.5 0.397805 -1.341951 0.77937 -1.06066 1.06066 \r\nC -0.77937 1.341951 -0.397805 1.5 0 1.5 \r\nz\r\n\" id=\"m6c1bb7894a\" style=\"stroke:#ff0000;\"/>\r\n    </defs>\r\n    <g clip-path=\"url(#p317e82a911)\">\r\n     <use style=\"fill:#ff0000;stroke:#ff0000;\" x=\"257.723715\" xlink:href=\"#m6c1bb7894a\" y=\"116.063139\"/>\r\n     <use style=\"fill:#ff0000;stroke:#ff0000;\" x=\"257.208528\" xlink:href=\"#m6c1bb7894a\" y=\"101.331985\"/>\r\n     <use style=\"fill:#ff0000;stroke:#ff0000;\" x=\"255.647425\" xlink:href=\"#m6c1bb7894a\" y=\"86.74266\"/>\r\n     <use style=\"fill:#ff0000;stroke:#ff0000;\" x=\"252.947333\" xlink:href=\"#m6c1bb7894a\" y=\"72.263056\"/>\r\n     <use style=\"fill:#ff0000;stroke:#ff0000;\" x=\"248.95777\" xlink:href=\"#m6c1bb7894a\" y=\"58.095224\"/>\r\n     <use style=\"fill:#ff0000;stroke:#ff0000;\" x=\"243.399658\" xlink:href=\"#m6c1bb7894a\" y=\"44.47186\"/>\r\n     <use style=\"fill:#ff0000;stroke:#ff0000;\" x=\"235.804468\" xlink:href=\"#m6c1bb7894a\" y=\"31.929292\"/>\r\n     <use style=\"fill:#ff0000;stroke:#ff0000;\" x=\"225.361923\" xlink:href=\"#m6c1bb7894a\" y=\"21.728573\"/>\r\n     <use style=\"fill:#ff0000;stroke:#ff0000;\" x=\"211.513747\" xlink:href=\"#m6c1bb7894a\" y=\"17.226775\"/>\r\n     <use style=\"fill:#ff0000;stroke:#ff0000;\" x=\"197.761536\" xlink:href=\"#m6c1bb7894a\" y=\"21.78\"/>\r\n     <use style=\"fill:#ff0000;stroke:#ff0000;\" x=\"187.337987\" xlink:href=\"#m6c1bb7894a\" y=\"32.00543\"/>\r\n     <use style=\"fill:#ff0000;stroke:#ff0000;\" x=\"179.761142\" xlink:href=\"#m6c1bb7894a\" y=\"44.551898\"/>\r\n     <use style=\"fill:#ff0000;stroke:#ff0000;\" x=\"174.21763\" xlink:href=\"#m6c1bb7894a\" y=\"58.168077\"/>\r\n     <use style=\"fill:#ff0000;stroke:#ff0000;\" x=\"170.238486\" xlink:href=\"#m6c1bb7894a\" y=\"72.324566\"/>\r\n     <use style=\"fill:#ff0000;stroke:#ff0000;\" x=\"167.545247\" xlink:href=\"#m6c1bb7894a\" y=\"86.793232\"/>\r\n     <use style=\"fill:#ff0000;stroke:#ff0000;\" x=\"165.98845\" xlink:href=\"#m6c1bb7894a\" y=\"101.374954\"/>\r\n     <use style=\"fill:#ff0000;stroke:#ff0000;\" x=\"165.476285\" xlink:href=\"#m6c1bb7894a\" y=\"116.103389\"/>\r\n     <use style=\"fill:#ff0000;stroke:#ff0000;\" x=\"165.991468\" xlink:href=\"#m6c1bb7894a\" y=\"130.794293\"/>\r\n     <use style=\"fill:#ff0000;stroke:#ff0000;\" x=\"167.552572\" xlink:href=\"#m6c1bb7894a\" y=\"145.383618\"/>\r\n     <use style=\"fill:#ff0000;stroke:#ff0000;\" x=\"170.252663\" xlink:href=\"#m6c1bb7894a\" y=\"159.863221\"/>\r\n     <use style=\"fill:#ff0000;stroke:#ff0000;\" x=\"174.242226\" xlink:href=\"#m6c1bb7894a\" y=\"174.031054\"/>\r\n     <use style=\"fill:#ff0000;stroke:#ff0000;\" x=\"179.800338\" xlink:href=\"#m6c1bb7894a\" y=\"187.654417\"/>\r\n     <use style=\"fill:#ff0000;stroke:#ff0000;\" x=\"187.395528\" xlink:href=\"#m6c1bb7894a\" y=\"200.196986\"/>\r\n     <use style=\"fill:#ff0000;stroke:#ff0000;\" x=\"197.838073\" xlink:href=\"#m6c1bb7894a\" y=\"210.397705\"/>\r\n     <use style=\"fill:#ff0000;stroke:#ff0000;\" x=\"211.686249\" xlink:href=\"#m6c1bb7894a\" y=\"214.899503\"/>\r\n     <use style=\"fill:#ff0000;stroke:#ff0000;\" x=\"225.43846\" xlink:href=\"#m6c1bb7894a\" y=\"210.346278\"/>\r\n     <use style=\"fill:#ff0000;stroke:#ff0000;\" x=\"235.862009\" xlink:href=\"#m6c1bb7894a\" y=\"200.120848\"/>\r\n     <use style=\"fill:#ff0000;stroke:#ff0000;\" x=\"243.438854\" xlink:href=\"#m6c1bb7894a\" y=\"187.57438\"/>\r\n     <use style=\"fill:#ff0000;stroke:#ff0000;\" x=\"248.982366\" xlink:href=\"#m6c1bb7894a\" y=\"173.9582\"/>\r\n     <use style=\"fill:#ff0000;stroke:#ff0000;\" x=\"252.961511\" xlink:href=\"#m6c1bb7894a\" y=\"159.801712\"/>\r\n     <use style=\"fill:#ff0000;stroke:#ff0000;\" x=\"255.654749\" xlink:href=\"#m6c1bb7894a\" y=\"145.333045\"/>\r\n     <use style=\"fill:#ff0000;stroke:#ff0000;\" x=\"257.211546\" xlink:href=\"#m6c1bb7894a\" y=\"130.751324\"/>\r\n    </g>\r\n   </g>\r\n   <g id=\"patch_3\">\r\n    <path d=\"M 44.2 224.783139 \r\nL 44.2 7.343139 \r\n\" style=\"fill:none;stroke:#000000;stroke-linecap:square;stroke-linejoin:miter;stroke-width:0.8;\"/>\r\n   </g>\r\n   <g id=\"patch_4\">\r\n    <path d=\"M 379 224.783139 \r\nL 379 7.343139 \r\n\" style=\"fill:none;stroke:#000000;stroke-linecap:square;stroke-linejoin:miter;stroke-width:0.8;\"/>\r\n   </g>\r\n   <g id=\"patch_5\">\r\n    <path d=\"M 44.2 224.783139 \r\nL 379 224.783139 \r\n\" style=\"fill:none;stroke:#000000;stroke-linecap:square;stroke-linejoin:miter;stroke-width:0.8;\"/>\r\n   </g>\r\n   <g id=\"patch_6\">\r\n    <path d=\"M 44.2 7.343139 \r\nL 379 7.343139 \r\n\" style=\"fill:none;stroke:#000000;stroke-linecap:square;stroke-linejoin:miter;stroke-width:0.8;\"/>\r\n   </g>\r\n  </g>\r\n </g>\r\n <defs>\r\n  <clipPath id=\"p317e82a911\">\r\n   <rect height=\"217.44\" width=\"334.8\" x=\"44.2\" y=\"7.343139\"/>\r\n  </clipPath>\r\n </defs>\r\n</svg>\r\n",
      "image/png": "[encoded data removed]"
     },
     "metadata": {
      "needs_background": "light"
     }
    }
   ],
   "source": [
    "# Ellipse 椭圆对象。用于生成椭圆圆周上均匀分布的若干点\n",
    "# 支持生成 Ax^2+Bxy+Cy^2=D 的椭圆\n",
    "\n",
    "e = BaseUtils.Ellipse(A=1/(3.5*MM)**2,B=0,C=1/(7.5*MM)**2,D=1)\n",
    "\n",
    "# 生成椭圆圆周上均匀分布的 32 个点\n",
    "points = e.uniform_distribution_points_along_edge(32)\n",
    "Plot2.plot_p2s(points,'r.')\n",
    "Plot2.equal()\n",
    "Plot2.show()"
   ]
  },
  {
   "source": [],
   "cell_type": "markdown",
   "metadata": {}
  },
  {
   "source": [
    "# Magnet 磁铁对象"
   ],
   "cell_type": "markdown",
   "metadata": {}
  },
  {
   "source": [
    "# BeamlineObject 束线对象"
   ],
   "cell_type": "markdown",
   "metadata": {}
  },
  {
   "source": [
    "# LocalCoordinateSystem 局部坐标系（重要概念）"
   ],
   "cell_type": "markdown",
   "metadata": {}
  },
  {
   "source": [
    "# 用于刻画参考轨迹的对象 Line2 StraightLine2 ArcLine2 Trajectory"
   ],
   "cell_type": "markdown",
   "metadata": {}
  },
  {
   "source": [
    "# Protons 用于质子的相关计算"
   ],
   "cell_type": "markdown",
   "metadata": {}
  },
  {
   "source": [
    "# RunningParticle 表示全局坐标系中运动的一个粒子"
   ],
   "cell_type": "markdown",
   "metadata": {}
  },
  {
   "source": [
    "# ParticleFactory 粒子工厂，用于方便的生成粒子"
   ],
   "cell_type": "markdown",
   "metadata": {}
  },
  {
   "source": [
    "# ParticleRunner 粒子运动指挥所"
   ],
   "cell_type": "markdown",
   "metadata": {}
  },
  {
   "source": [
    "# PhaseSpaceParticle 像空间中的粒子"
   ],
   "cell_type": "markdown",
   "metadata": {}
  },
  {
   "source": [
    "# CCT 磁铁"
   ],
   "cell_type": "markdown",
   "metadata": {}
  },
  {
   "source": [
    "# QS 磁铁"
   ],
   "cell_type": "markdown",
   "metadata": {}
  },
  {
   "source": [
    "# 方便绘图的 Plot2 Plot3"
   ],
   "cell_type": "markdown",
   "metadata": {}
  }
 ]
}