{
 "metadata": {
  "language_info": {
   "codemirror_mode": {
    "name": "ipython",
    "version": 3
   },
   "file_extension": ".py",
   "mimetype": "text/x-python",
   "name": "python",
   "nbconvert_exporter": "python",
   "pygments_lexer": "ipython3",
   "version": "3.8.0-final"
  },
  "orig_nbformat": 2,
  "kernelspec": {
   "name": "python3",
   "display_name": "Python 3.8.0 64-bit",
   "metadata": {
    "interpreter": {
     "hash": "240654965e339d128a9bbd5be5d7766dbc7de156d15b1c12ed426f21518e5300"
    }
   }
  }
 },
 "nbformat": 4,
 "nbformat_minor": 2,
 "cells": [
  {
   "source": [
    "# CCTPY 核心概念\n",
    "\n",
    "## CCTPY 是一个基于单线模型进行 CCT 磁场计算、束线建模、粒子跟踪的程序\n",
    "\n",
    "## 核心概念——坐标系\n",
    "\n",
    "**为了便于磁场建模、粒子跟踪、束流分析，cctpy 中引入了全剧坐标系和局部坐标系的概念**\n",
    "\n",
    "粒子 / 束流运动在全局坐标系中，一般在 XY 平面内运行，如下图所示\n",
    "\n",
    "<img src=\"./img/A01坐标_束流在XY平面运行_三维.jpg\" width=40%></img>\n",
    "\n",
    "旋转一下示意图，只看 XY 平面，如下图所示，可见一般而言磁铁也都放置在 XY 平面。\n",
    "\n",
    "<img src=\"./img/A02坐标_束流在XY平面运行_二维加上磁铁.jpg\" width=40%></img>\n",
    "\n",
    "为了便于磁铁建模，每个磁铁附上了一个局部坐标系，目的是消除磁铁移动时的开销，局部坐标系如下图所示（图中三个绿色坐标系）\n",
    "\n",
    "（因为 CCT 磁铁一般由上万个离散的点组成，如果移动 CCT 就要移动这么多的点，开销很大，但如果仅仅移动局部坐标系，则开销很小）\n",
    "\n",
    "这样一样，为了计算磁铁对粒子产生的磁场，需要进行坐标变换，将粒子的坐标（全局坐标）转为该磁铁的局部坐标，转换完成后，即可计算磁场，而磁场本身也是矢量，所以需要转换回去（局部坐标系下的磁场转为全局坐标系）\n",
    "\n",
    "<img src=\"./img/A03坐标_局部坐标系示意图.jpg\" width=40%></img>\n",
    "\n",
    "具体每种磁铁的局部坐标设置方法，详见各自介绍\n",
    "\n",
    "## CCTPY 的使用\n",
    "\n",
    "为了便于代码分发，所有 cctpy 代码都写在了一个文件 cctpy.py 中，使用 from cctpy import * 可以如导入全部类"
   ],
   "cell_type": "markdown",
   "metadata": {}
  },
  {
   "cell_type": "code",
   "execution_count": 1,
   "metadata": {},
   "outputs": [
    {
     "output_type": "display_data",
     "data": {
      "text/plain": "<Figure size 432x288 with 1 Axes>",
      "image/svg+xml": "<?xml version=\"1.0\" encoding=\"utf-8\" standalone=\"no\"?>\r\n<!DOCTYPE svg PUBLIC \"-//W3C//DTD SVG 1.1//EN\"\r\n  \"http://www.w3.org/Graphics/SVG/1.1/DTD/svg11.dtd\">\r\n<!-- Created with matplotlib (https://matplotlib.org/) -->\r\n<svg height=\"239.830432pt\" version=\"1.1\" viewBox=\"0 0 250.40113 239.830432\" width=\"250.40113pt\" xmlns=\"http://www.w3.org/2000/svg\" xmlns:xlink=\"http://www.w3.org/1999/xlink\">\r\n <metadata>\r\n  <rdf:RDF xmlns:cc=\"http://creativecommons.org/ns#\" xmlns:dc=\"http://purl.org/dc/elements/1.1/\" xmlns:rdf=\"http://www.w3.org/1999/02/22-rdf-syntax-ns#\">\r\n   <cc:Work>\r\n    <dc:type rdf:resource=\"http://purl.org/dc/dcmitype/StillImage\"/>\r\n    <dc:date>2020-12-02T17:00:31.459405</dc:date>\r\n    <dc:format>image/svg+xml</dc:format>\r\n    <dc:creator>\r\n     <cc:Agent>\r\n      <dc:title>Matplotlib v3.3.3, https://matplotlib.org/</dc:title>\r\n     </cc:Agent>\r\n    </dc:creator>\r\n   </cc:Work>\r\n  </rdf:RDF>\r\n </metadata>\r\n <defs>\r\n  <style type=\"text/css\">*{stroke-linecap:butt;stroke-linejoin:round;}</style>\r\n </defs>\r\n <g id=\"figure_1\">\r\n  <g id=\"patch_1\">\r\n   <path d=\"M 0 239.830432 \r\nL 250.40113 239.830432 \r\nL 250.40113 0 \r\nL 0 0 \r\nz\r\n\" style=\"fill:none;\"/>\r\n  </g>\r\n  <g id=\"patch_2\">\r\n   <path d=\"M 7.2 224.64 \r\nL 224.64 224.64 \r\nL 224.64 7.2 \r\nL 7.2 7.2 \r\nz\r\n\" style=\"fill:#ffffff;\"/>\r\n  </g>\r\n  <g id=\"pane3d_1\">\r\n   <g id=\"patch_3\">\r\n    <path d=\"M 23.61822 171.026264 \r\nL 95.424009 110.837228 \r\nL 94.42584 24.033878 \r\nL 19.183773 78.942111 \r\n\" style=\"fill:#f2f2f2;opacity:0.5;stroke:#f2f2f2;stroke-linejoin:miter;\"/>\r\n   </g>\r\n  </g>\r\n  <g id=\"pane3d_2\">\r\n   <g id=\"patch_4\">\r\n    <path d=\"M 95.424009 110.837228 \r\nL 210.64668 144.32791 \r\nL 214.758571 54.534718 \r\nL 94.42584 24.033878 \r\n\" style=\"fill:#e6e6e6;opacity:0.5;stroke:#e6e6e6;stroke-linejoin:miter;\"/>\r\n   </g>\r\n  </g>\r\n  <g id=\"pane3d_3\">\r\n   <g id=\"patch_5\">\r\n    <path d=\"M 23.61822 171.026264 \r\nL 145.759879 210.91773 \r\nL 210.64668 144.32791 \r\nL 95.424009 110.837228 \r\n\" style=\"fill:#ececec;opacity:0.5;stroke:#ececec;stroke-linejoin:miter;\"/>\r\n   </g>\r\n  </g>\r\n  <g id=\"axis3d_1\">\r\n   <g id=\"line2d_1\">\r\n    <path d=\"M 23.61822 171.026264 \r\nL 145.759879 210.91773 \r\n\" style=\"fill:none;stroke:#000000;stroke-linecap:square;stroke-width:0.8;\"/>\r\n   </g>\r\n   <g id=\"xtick_1\">\r\n    <g id=\"line2d_2\">\r\n     <path d=\"M 29.159724 172.106387 \r\nL 27.288142 173.687454 \r\n\" style=\"fill:none;stroke:#000000;stroke-linecap:square;stroke-width:0.8;\"/>\r\n    </g>\r\n    <g id=\"text_1\">\r\n     <!-- 0 -->\r\n     <g transform=\"translate(18.498452 195.210466)scale(0.1 -0.1)\">\r\n      <defs>\r\n       <path d=\"M 3.125 29.296875 \r\nQ 3.90625 50 6.4375 56.046875 \r\nQ 8.984375 62.109375 13.671875 66.015625 \r\nQ 18.359375 69.921875 25.1875 69.921875 \r\nQ 32.03125 69.921875 37.109375 64.25 \r\nQ 42.1875 58.59375 43.75 50 \r\nQ 45.3125 41.40625 44.71875 30.265625 \r\nQ 44.140625 19.140625 40.8125 12.109375 \r\nQ 37.5 5.078125 30.859375 2.34375 \r\nQ 24.21875 -0.390625 17.578125 2.921875 \r\nQ 10.9375 6.25 8.203125 11.71875 \r\nQ 5.46875 17.1875 4.296875 23.234375 \r\nQ 3.125 29.296875 3.90625 50 \r\nz\r\nM 12.890625 52.734375 \r\nQ 10.546875 31.25 12.5 22.84375 \r\nQ 14.453125 14.453125 18.9375 10.9375 \r\nQ 23.4375 7.421875 28.125 9.5625 \r\nQ 32.8125 11.71875 34.953125 18.15625 \r\nQ 37.109375 24.609375 37.109375 32.21875 \r\nQ 37.109375 39.84375 36.515625 46.09375 \r\nQ 35.9375 52.34375 33 57.421875 \r\nQ 30.078125 62.5 25.1875 62.6875 \r\nQ 20.3125 62.890625 16.59375 57.8125 \r\nQ 12.890625 52.734375 10.546875 31.25 \r\nz\r\n\" id=\"SimHei-48\"/>\r\n      </defs>\r\n      <use xlink:href=\"#SimHei-48\"/>\r\n     </g>\r\n    </g>\r\n   </g>\r\n   <g id=\"xtick_2\">\r\n    <g id=\"line2d_3\">\r\n     <path d=\"M 49.941526 178.887016 \r\nL 48.097654 180.497313 \r\n\" style=\"fill:none;stroke:#000000;stroke-linecap:square;stroke-width:0.8;\"/>\r\n    </g>\r\n    <g id=\"text_2\">\r\n     <!-- 200 -->\r\n     <g transform=\"translate(34.315263 202.177084)scale(0.1 -0.1)\">\r\n      <defs>\r\n       <path d=\"M 4.6875 3.90625 \r\nQ 5.078125 9.765625 10.15625 14.453125 \r\nQ 15.234375 19.140625 23.046875 29.09375 \r\nQ 30.859375 39.0625 33.203125 44.53125 \r\nQ 35.546875 50 34.953125 53.90625 \r\nQ 34.375 57.8125 31.25 60.34375 \r\nQ 28.125 62.890625 24.015625 62.5 \r\nQ 19.921875 62.109375 16.203125 59.375 \r\nQ 12.5 56.640625 10.546875 51.171875 \r\nL 3.125 52.34375 \r\nQ 6.25 61.328125 11.125 65.421875 \r\nQ 16.015625 69.53125 22.65625 69.921875 \r\nQ 26.5625 70.3125 29.6875 69.71875 \r\nQ 32.8125 69.140625 36.125 66.984375 \r\nQ 39.453125 64.84375 41.59375 60.546875 \r\nQ 43.75 56.25 43.15625 50.1875 \r\nQ 42.578125 44.140625 37.109375 35.734375 \r\nQ 31.640625 27.34375 16.015625 9.375 \r\nL 44.140625 9.375 \r\nL 44.140625 2.34375 \r\nL 4.6875 2.34375 \r\nz\r\n\" id=\"SimHei-50\"/>\r\n      </defs>\r\n      <use xlink:href=\"#SimHei-50\"/>\r\n      <use x=\"50\" xlink:href=\"#SimHei-48\"/>\r\n      <use x=\"100\" xlink:href=\"#SimHei-48\"/>\r\n     </g>\r\n    </g>\r\n   </g>\r\n   <g id=\"xtick_3\">\r\n    <g id=\"line2d_4\">\r\n     <path d=\"M 71.108899 185.793449 \r\nL 69.294094 187.433794 \r\n\" style=\"fill:none;stroke:#000000;stroke-linecap:square;stroke-width:0.8;\"/>\r\n    </g>\r\n    <g id=\"text_3\">\r\n     <!-- 400 -->\r\n     <g transform=\"translate(55.520367 209.273649)scale(0.1 -0.1)\">\r\n      <defs>\r\n       <path d=\"M 31.25 17.1875 \r\nL 1.171875 17.1875 \r\nL 1.171875 23.828125 \r\nL 32.8125 69.53125 \r\nL 38.671875 69.53125 \r\nL 38.671875 23.828125 \r\nL 48.046875 23.828125 \r\nL 48.046875 17.1875 \r\nL 38.671875 17.1875 \r\nL 38.671875 2.34375 \r\nL 31.25 2.34375 \r\nz\r\nM 31.25 23.828125 \r\nL 31.25 54.6875 \r\nL 9.375 23.828125 \r\nz\r\n\" id=\"SimHei-52\"/>\r\n      </defs>\r\n      <use xlink:href=\"#SimHei-52\"/>\r\n      <use x=\"50\" xlink:href=\"#SimHei-48\"/>\r\n      <use x=\"100\" xlink:href=\"#SimHei-48\"/>\r\n     </g>\r\n    </g>\r\n   </g>\r\n   <g id=\"xtick_4\">\r\n    <g id=\"line2d_5\">\r\n     <path d=\"M 92.672675 192.829218 \r\nL 90.888356 194.50046 \r\n\" style=\"fill:none;stroke:#000000;stroke-linecap:square;stroke-width:0.8;\"/>\r\n    </g>\r\n    <g id=\"text_4\">\r\n     <!-- 600 -->\r\n     <g transform=\"translate(77.12473 216.503831)scale(0.1 -0.1)\">\r\n      <defs>\r\n       <path d=\"M 3.515625 19.53125 \r\nQ 4.296875 30.859375 6.046875 34.765625 \r\nQ 7.8125 38.671875 11.328125 44.53125 \r\nL 27.34375 69.53125 \r\nL 36.328125 69.53125 \r\nL 19.921875 43.75 \r\nQ 30.46875 46.484375 36.71875 42.96875 \r\nQ 42.96875 39.453125 45.109375 34.953125 \r\nQ 47.265625 30.46875 47.453125 25.1875 \r\nQ 47.65625 19.921875 45.890625 14.84375 \r\nQ 44.140625 9.765625 39.640625 5.65625 \r\nQ 35.15625 1.5625 27.140625 1.171875 \r\nQ 19.140625 0.78125 13.46875 4.09375 \r\nQ 7.8125 7.421875 5.65625 13.46875 \r\nQ 3.515625 19.53125 4.296875 30.859375 \r\nz\r\nM 12.5 16.015625 \r\nQ 19.53125 8.59375 25.390625 8.203125 \r\nQ 31.25 7.8125 35.15625 12.109375 \r\nQ 39.0625 16.40625 39.0625 24.609375 \r\nQ 39.0625 32.8125 34.171875 35.9375 \r\nQ 29.296875 39.0625 23.234375 38.28125 \r\nQ 17.1875 37.5 14.453125 32.421875 \r\nQ 11.71875 27.34375 12.109375 21.671875 \r\nQ 12.5 16.015625 19.53125 8.59375 \r\nz\r\n\" id=\"SimHei-54\"/>\r\n      </defs>\r\n      <use xlink:href=\"#SimHei-54\"/>\r\n      <use x=\"50\" xlink:href=\"#SimHei-48\"/>\r\n      <use x=\"100\" xlink:href=\"#SimHei-48\"/>\r\n     </g>\r\n    </g>\r\n   </g>\r\n   <g id=\"xtick_5\">\r\n    <g id=\"line2d_6\">\r\n     <path d=\"M 114.644095 199.997993 \r\nL 112.891746 201.701012 \r\n\" style=\"fill:none;stroke:#000000;stroke-linecap:square;stroke-width:0.8;\"/>\r\n    </g>\r\n    <g id=\"text_5\">\r\n     <!-- 800 -->\r\n     <g transform=\"translate(99.139735 223.87144)scale(0.1 -0.1)\">\r\n      <defs>\r\n       <path d=\"M 2.734375 16.796875 \r\nQ 2.734375 26.171875 5.078125 30.65625 \r\nQ 7.421875 35.15625 12.890625 37.890625 \r\nQ 8.203125 40.625 6.640625 43.9375 \r\nQ 5.078125 47.265625 4.875 51.5625 \r\nQ 4.6875 55.859375 6.046875 58.984375 \r\nQ 7.421875 62.109375 10.15625 64.84375 \r\nQ 12.890625 67.578125 16.203125 68.546875 \r\nQ 19.53125 69.53125 23.4375 69.53125 \r\nQ 27.34375 69.53125 30.46875 68.75 \r\nQ 33.59375 67.96875 37.109375 65.421875 \r\nQ 40.625 62.890625 42.1875 58.203125 \r\nQ 43.75 53.515625 41.984375 47.265625 \r\nQ 40.234375 41.015625 32.8125 37.5 \r\nQ 39.453125 35.546875 42.1875 31.4375 \r\nQ 44.921875 27.34375 44.921875 21.484375 \r\nQ 44.921875 15.625 43.15625 12.109375 \r\nQ 41.40625 8.59375 39.25 6.25 \r\nQ 37.109375 3.90625 33.390625 2.53125 \r\nQ 29.6875 1.171875 24.015625 1.171875 \r\nQ 18.359375 1.171875 14.25 2.53125 \r\nQ 10.15625 3.90625 7.421875 6.640625 \r\nQ 4.6875 9.375 3.703125 13.078125 \r\nQ 2.734375 16.796875 2.734375 26.171875 \r\nz\r\nM 10.9375 26.5625 \r\nQ 10.546875 17.1875 12.296875 13.671875 \r\nQ 14.0625 10.15625 18.75 9.171875 \r\nQ 23.4375 8.203125 28.515625 9.375 \r\nQ 33.59375 10.546875 35.546875 14.84375 \r\nQ 37.5 19.140625 36.90625 23.4375 \r\nQ 36.328125 27.734375 32.03125 30.65625 \r\nQ 27.734375 33.59375 22.65625 33.203125 \r\nQ 17.578125 32.8125 14.25 29.6875 \r\nQ 10.9375 26.5625 10.546875 17.1875 \r\nz\r\nM 12.109375 56.25 \r\nQ 12.109375 48.4375 14.84375 44.921875 \r\nQ 17.578125 41.40625 23.4375 41.40625 \r\nQ 29.296875 41.40625 32.21875 44.921875 \r\nQ 35.15625 48.4375 34.953125 53.3125 \r\nQ 34.765625 58.203125 31.4375 60.546875 \r\nQ 28.125 62.890625 22.453125 62.5 \r\nQ 16.796875 62.109375 14.453125 59.171875 \r\nQ 12.109375 56.25 12.109375 48.4375 \r\nz\r\n\" id=\"SimHei-56\"/>\r\n      </defs>\r\n      <use xlink:href=\"#SimHei-56\"/>\r\n      <use x=\"50\" xlink:href=\"#SimHei-48\"/>\r\n      <use x=\"100\" xlink:href=\"#SimHei-48\"/>\r\n     </g>\r\n    </g>\r\n   </g>\r\n   <g id=\"xtick_6\">\r\n    <g id=\"line2d_7\">\r\n     <path d=\"M 137.034827 207.303579 \r\nL 135.316002 209.039292 \r\n\" style=\"fill:none;stroke:#000000;stroke-linecap:square;stroke-width:0.8;\"/>\r\n    </g>\r\n    <g id=\"text_6\">\r\n     <!-- 1000 -->\r\n     <g transform=\"translate(119.077203 231.380432)scale(0.1 -0.1)\">\r\n      <defs>\r\n       <path d=\"M 21.875 56.25 \r\nQ 16.796875 51.171875 8.984375 46.484375 \r\nL 8.984375 53.90625 \r\nQ 18.75 60.546875 25 69.53125 \r\nL 29.6875 69.53125 \r\nL 29.6875 2.34375 \r\nL 21.875 2.34375 \r\nz\r\n\" id=\"SimHei-49\"/>\r\n      </defs>\r\n      <use xlink:href=\"#SimHei-49\"/>\r\n      <use x=\"50\" xlink:href=\"#SimHei-48\"/>\r\n      <use x=\"100\" xlink:href=\"#SimHei-48\"/>\r\n      <use x=\"150\" xlink:href=\"#SimHei-48\"/>\r\n     </g>\r\n    </g>\r\n   </g>\r\n  </g>\r\n  <g id=\"axis3d_2\">\r\n   <g id=\"line2d_8\">\r\n    <path d=\"M 210.64668 144.32791 \r\nL 145.759879 210.91773 \r\n\" style=\"fill:none;stroke:#000000;stroke-linecap:square;stroke-width:0.8;\"/>\r\n   </g>\r\n   <g id=\"xtick_7\">\r\n    <g id=\"line2d_9\">\r\n     <path d=\"M 150.966396 204.193133 \r\nL 154.040451 205.18625 \r\n\" style=\"fill:none;stroke:#000000;stroke-linecap:square;stroke-width:0.8;\"/>\r\n    </g>\r\n    <g id=\"text_7\">\r\n     <!-- -50 -->\r\n     <g transform=\"translate(157.344 224.791583)scale(0.1 -0.1)\">\r\n      <defs>\r\n       <path d=\"M 46.484375 33.203125 \r\nL 1.953125 33.203125 \r\nL 1.953125 39.453125 \r\nL 46.484375 39.453125 \r\nz\r\n\" id=\"SimHei-45\"/>\r\n       <path d=\"M 8.59375 20.703125 \r\nQ 11.328125 10.15625 17.96875 8.984375 \r\nQ 24.609375 7.8125 28.703125 10.34375 \r\nQ 32.8125 12.890625 34.5625 16.984375 \r\nQ 36.328125 21.09375 36.125 26.171875 \r\nQ 35.9375 31.25 33.390625 34.765625 \r\nQ 30.859375 38.28125 26.953125 39.453125 \r\nQ 23.046875 40.625 18.15625 39.453125 \r\nQ 13.28125 38.28125 10.15625 33.984375 \r\nL 3.515625 34.765625 \r\nQ 4.296875 37.109375 10.9375 68.359375 \r\nL 41.796875 68.359375 \r\nL 41.796875 61.328125 \r\nL 16.796875 61.328125 \r\nQ 14.84375 50.78125 12.890625 44.53125 \r\nQ 18.75 47.265625 23.828125 47.0625 \r\nQ 28.90625 46.875 33.59375 44.71875 \r\nQ 38.28125 42.578125 40.421875 38.859375 \r\nQ 42.578125 35.15625 43.546875 31.4375 \r\nQ 44.53125 27.734375 44.328125 23.4375 \r\nQ 44.140625 19.140625 42.578125 14.640625 \r\nQ 41.015625 10.15625 37.890625 7.21875 \r\nQ 34.765625 4.296875 30.265625 2.53125 \r\nQ 25.78125 0.78125 19.921875 1.171875 \r\nQ 14.0625 1.5625 8.78125 5.46875 \r\nQ 3.515625 9.375 1.5625 18.75 \r\nz\r\n\" id=\"SimHei-53\"/>\r\n      </defs>\r\n      <use xlink:href=\"#SimHei-45\"/>\r\n      <use x=\"50\" xlink:href=\"#SimHei-53\"/>\r\n      <use x=\"100\" xlink:href=\"#SimHei-48\"/>\r\n     </g>\r\n    </g>\r\n   </g>\r\n   <g id=\"xtick_8\">\r\n    <g id=\"line2d_10\">\r\n     <path d=\"M 164.942576 189.875827 \r\nL 167.977079 190.832324 \r\n\" style=\"fill:none;stroke:#000000;stroke-linecap:square;stroke-width:0.8;\"/>\r\n    </g>\r\n    <g id=\"text_8\">\r\n     <!-- 0 -->\r\n     <g transform=\"translate(176.077707 210.202432)scale(0.1 -0.1)\">\r\n      <use xlink:href=\"#SimHei-48\"/>\r\n     </g>\r\n    </g>\r\n   </g>\r\n   <g id=\"xtick_9\">\r\n    <g id=\"line2d_11\">\r\n     <path d=\"M 178.40837 176.081364 \r\nL 181.404134 177.003229 \r\n\" style=\"fill:none;stroke:#000000;stroke-linecap:square;stroke-width:0.8;\"/>\r\n    </g>\r\n    <g id=\"text_9\">\r\n     <!-- 50 -->\r\n     <g transform=\"translate(186.809321 196.146648)scale(0.1 -0.1)\">\r\n      <use xlink:href=\"#SimHei-53\"/>\r\n      <use x=\"50\" xlink:href=\"#SimHei-48\"/>\r\n     </g>\r\n    </g>\r\n   </g>\r\n   <g id=\"xtick_10\">\r\n    <g id=\"line2d_12\">\r\n     <path d=\"M 191.391235 162.781618 \r\nL 194.349062 163.670698 \r\n\" style=\"fill:none;stroke:#000000;stroke-linecap:square;stroke-width:0.8;\"/>\r\n    </g>\r\n    <g id=\"text_10\">\r\n     <!-- 100 -->\r\n     <g transform=\"translate(197.065884 182.595506)scale(0.1 -0.1)\">\r\n      <use xlink:href=\"#SimHei-49\"/>\r\n      <use x=\"50\" xlink:href=\"#SimHei-48\"/>\r\n      <use x=\"100\" xlink:href=\"#SimHei-48\"/>\r\n     </g>\r\n    </g>\r\n   </g>\r\n   <g id=\"xtick_11\">\r\n    <g id=\"line2d_13\">\r\n     <path d=\"M 203.916692 149.950443 \r\nL 206.837371 150.808457 \r\n\" style=\"fill:none;stroke:#000000;stroke-linecap:square;stroke-width:0.8;\"/>\r\n    </g>\r\n    <g id=\"text_11\">\r\n     <!-- 150 -->\r\n     <g transform=\"translate(209.372527 169.522307)scale(0.1 -0.1)\">\r\n      <use xlink:href=\"#SimHei-49\"/>\r\n      <use x=\"50\" xlink:href=\"#SimHei-53\"/>\r\n      <use x=\"100\" xlink:href=\"#SimHei-48\"/>\r\n     </g>\r\n    </g>\r\n   </g>\r\n  </g>\r\n  <g id=\"axis3d_3\">\r\n   <g id=\"line2d_14\">\r\n    <path d=\"M 210.64668 144.32791 \r\nL 214.758571 54.534718 \r\n\" style=\"fill:none;stroke:#000000;stroke-linecap:square;stroke-width:0.8;\"/>\r\n   </g>\r\n   <g id=\"xtick_12\">\r\n    <g id=\"line2d_15\">\r\n     <path d=\"M 210.13344 134.030175 \r\nL 213.051914 134.866331 \r\n\" style=\"fill:none;stroke:#000000;stroke-linecap:square;stroke-width:0.8;\"/>\r\n    </g>\r\n    <g id=\"text_12\">\r\n     <!-- -0.04 -->\r\n     <g transform=\"translate(216.93102 138.604379)scale(0.1 -0.1)\">\r\n      <defs>\r\n       <path d=\"M 16.796875 1.953125 \r\nL 7.8125 1.953125 \r\nL 7.8125 10.546875 \r\nL 16.796875 10.546875 \r\nz\r\n\" id=\"SimHei-46\"/>\r\n      </defs>\r\n      <use xlink:href=\"#SimHei-45\"/>\r\n      <use x=\"50\" xlink:href=\"#SimHei-48\"/>\r\n      <use x=\"100\" xlink:href=\"#SimHei-46\"/>\r\n      <use x=\"150\" xlink:href=\"#SimHei-48\"/>\r\n      <use x=\"200\" xlink:href=\"#SimHei-52\"/>\r\n     </g>\r\n    </g>\r\n   </g>\r\n   <g id=\"xtick_13\">\r\n    <g id=\"line2d_16\">\r\n     <path d=\"M 210.894598 117.229094 \r\nL 213.838356 118.051985 \r\n\" style=\"fill:none;stroke:#000000;stroke-linecap:square;stroke-width:0.8;\"/>\r\n    </g>\r\n    <g id=\"text_13\">\r\n     <!-- -0.02 -->\r\n     <g transform=\"translate(217.850046 121.839886)scale(0.1 -0.1)\">\r\n      <use xlink:href=\"#SimHei-45\"/>\r\n      <use x=\"50\" xlink:href=\"#SimHei-48\"/>\r\n      <use x=\"100\" xlink:href=\"#SimHei-46\"/>\r\n      <use x=\"150\" xlink:href=\"#SimHei-48\"/>\r\n      <use x=\"200\" xlink:href=\"#SimHei-50\"/>\r\n     </g>\r\n    </g>\r\n   </g>\r\n   <g id=\"xtick_14\">\r\n    <g id=\"line2d_17\">\r\n     <path d=\"M 211.668557 100.145443 \r\nL 214.638041 100.954501 \r\n\" style=\"fill:none;stroke:#000000;stroke-linecap:square;stroke-width:0.8;\"/>\r\n    </g>\r\n    <g id=\"text_14\">\r\n     <!-- 0.00 -->\r\n     <g transform=\"translate(221.284477 104.79438)scale(0.1 -0.1)\">\r\n      <use xlink:href=\"#SimHei-48\"/>\r\n      <use x=\"50\" xlink:href=\"#SimHei-46\"/>\r\n      <use x=\"100\" xlink:href=\"#SimHei-48\"/>\r\n      <use x=\"150\" xlink:href=\"#SimHei-48\"/>\r\n     </g>\r\n    </g>\r\n   </g>\r\n   <g id=\"xtick_15\">\r\n    <g id=\"line2d_18\">\r\n     <path d=\"M 212.455644 82.772033 \r\nL 215.451306 83.566668 \r\n\" style=\"fill:none;stroke:#000000;stroke-linecap:square;stroke-width:0.8;\"/>\r\n    </g>\r\n    <g id=\"text_15\">\r\n     <!-- 0.02 -->\r\n     <g transform=\"translate(222.234703 87.460737)scale(0.1 -0.1)\">\r\n      <use xlink:href=\"#SimHei-48\"/>\r\n      <use x=\"50\" xlink:href=\"#SimHei-46\"/>\r\n      <use x=\"100\" xlink:href=\"#SimHei-48\"/>\r\n      <use x=\"150\" xlink:href=\"#SimHei-50\"/>\r\n     </g>\r\n    </g>\r\n   </g>\r\n   <g id=\"xtick_16\">\r\n    <g id=\"line2d_19\">\r\n     <path d=\"M 213.256195 65.101428 \r\nL 216.2785 65.881026 \r\n\" style=\"fill:none;stroke:#000000;stroke-linecap:square;stroke-width:0.8;\"/>\r\n    </g>\r\n    <g id=\"text_16\">\r\n     <!-- 0.04 -->\r\n     <g transform=\"translate(223.20113 69.831589)scale(0.1 -0.1)\">\r\n      <use xlink:href=\"#SimHei-48\"/>\r\n      <use x=\"50\" xlink:href=\"#SimHei-46\"/>\r\n      <use x=\"100\" xlink:href=\"#SimHei-48\"/>\r\n      <use x=\"150\" xlink:href=\"#SimHei-52\"/>\r\n     </g>\r\n    </g>\r\n   </g>\r\n  </g>\r\n  <g id=\"axes_1\">\r\n   <g id=\"line2d_20\">\r\n    <path clip-path=\"url(#p143e0d6bc8)\" d=\"M 93.580793 93.828278 \r\nL 102.829351 90.189697 \r\nL 105.27485 87.299743 \r\nL 107.085957 84.843854 \r\nL 108.343568 82.803865 \r\nL 109.135421 81.147535 \r\nL 109.550176 79.83385 \r\nL 109.672193 78.714381 \r\nL 109.532005 77.88052 \r\nL 109.210119 77.282073 \r\nL 108.705006 76.821223 \r\nL 108.019966 76.500327 \r\nL 107.039502 76.308617 \r\nL 105.698247 76.307215 \r\nL 103.930689 76.562856 \r\nL 101.674989 77.146085 \r\nL 98.877871 78.128563 \r\nL 95.753305 79.462605 \r\nL 92.075128 81.271273 \r\nL 87.844423 83.604427 \r\nL 83.095369 86.494662 \r\nL 78.211413 89.736411 \r\nL 73.310115 93.255537 \r\nL 68.513172 96.968918 \r\nL 63.943772 100.78583 \r\nL 59.72351 104.60976 \r\nL 56.187848 108.112125 \r\nL 53.33594 111.233857 \r\nL 51.133477 113.945831 \r\nL 49.521463 116.244169 \r\nL 48.343671 118.306949 \r\nL 47.710216 119.821067 \r\nL 47.418846 121.008681 \r\nL 47.395729 122.018517 \r\nL 47.601563 122.758938 \r\nL 47.955899 123.280676 \r\nL 48.471259 123.681417 \r\nL 49.254129 123.988211 \r\nL 50.238687 124.131467 \r\nL 51.578762 124.095806 \r\nL 53.342033 123.812309 \r\nL 55.591891 123.208145 \r\nL 58.381389 122.210172 \r\nL 61.745991 120.749874 \r\nL 65.695457 118.769607 \r\nL 69.897972 116.411483 \r\nL 73.632439 114.129946 \r\nL 73.965283 113.369653 \r\nL 76.039571 108.139363 \r\nL 70.130364 111.47961 \r\nL 67.249262 112.785388 \r\nL 64.984947 113.577238 \r\nL 63.29468 113.946457 \r\nL 62.103552 113.993239 \r\nL 61.320561 113.81586 \r\nL 60.851114 113.503641 \r\nL 60.572938 113.047214 \r\nL 60.488604 112.451718 \r\nL 60.635605 111.590189 \r\nL 61.043771 110.561575 \r\nL 61.820861 109.201363 \r\nL 63.071047 107.467537 \r\nL 64.888697 105.337855 \r\nL 67.343746 102.820829 \r\nL 70.464171 99.966996 \r\nL 73.918549 97.113015 \r\nL 77.566083 94.371724 \r\nL 81.567626 91.65148 \r\nL 85.154461 89.471839 \r\nL 88.498822 87.692911 \r\nL 91.244738 86.469333 \r\nL 93.401247 85.727123 \r\nL 95.017917 85.376435 \r\nL 96.168614 85.323155 \r\nL 96.938503 85.476941 \r\nL 97.476656 85.815939 \r\nL 97.747921 86.250912 \r\nL 97.840657 86.815189 \r\nL 97.721512 87.630214 \r\nL 97.286585 88.756027 \r\nL 96.423595 90.248612 \r\nL 95.18048 91.950964 \r\nL 93.581329 93.827687 \r\nL 93.581329 93.827687 \r\n\" style=\"fill:none;stroke:#ff0000;stroke-linecap:square;stroke-width:1.5;\"/>\r\n   </g>\r\n   <g id=\"line2d_21\">\r\n    <path clip-path=\"url(#p143e0d6bc8)\" d=\"M 114.387609 99.728604 \r\nL 123.602631 96.024801 \r\nL 125.977439 93.083306 \r\nL 127.725968 90.583798 \r\nL 128.92934 88.507704 \r\nL 129.675094 86.822143 \r\nL 130.051396 85.485329 \r\nL 130.142896 84.450927 \r\nL 130.000644 83.583509 \r\nL 129.679523 82.957277 \r\nL 129.177628 82.470708 \r\nL 128.498254 82.126289 \r\nL 127.527057 81.910884 \r\nL 126.343826 81.878967 \r\nL 124.790973 82.058915 \r\nL 122.80925 82.517003 \r\nL 120.34452 83.322396 \r\nL 117.352759 84.54419 \r\nL 113.806183 86.247327 \r\nL 109.700513 88.487226 \r\nL 105.358975 91.115162 \r\nL 100.567989 94.288717 \r\nL 95.723679 97.774321 \r\nL 90.944969 101.490729 \r\nL 86.353133 105.34835 \r\nL 82.325408 109.007586 \r\nL 78.664564 112.623356 \r\nL 75.659096 115.884164 \r\nL 73.119909 118.964821 \r\nL 71.231417 121.605955 \r\nL 69.92464 123.81154 \r\nL 69.116521 125.60512 \r\nL 68.717372 127.024083 \r\nL 68.636924 128.114399 \r\nL 68.788906 128.926084 \r\nL 69.150935 129.582984 \r\nL 69.638501 130.026756 \r\nL 70.387757 130.38064 \r\nL 71.336988 130.568402 \r\nL 72.635624 130.579287 \r\nL 74.351226 130.342592 \r\nL 76.547331 129.783286 \r\nL 79.037649 128.918913 \r\nL 82.049386 127.643061 \r\nL 85.603581 125.894093 \r\nL 89.694132 123.623554 \r\nL 93.97009 121.002576 \r\nL 94.991323 120.240604 \r\nL 97.141677 114.299762 \r\nL 91.283749 117.701525 \r\nL 88.417291 119.031435 \r\nL 86.15704 119.837942 \r\nL 84.462799 120.214001 \r\nL 83.262156 120.26165 \r\nL 82.466371 120.080984 \r\nL 81.982789 119.762982 \r\nL 81.687718 119.298106 \r\nL 81.583911 118.691594 \r\nL 81.705213 117.814146 \r\nL 82.084827 116.766552 \r\nL 82.826319 115.381286 \r\nL 84.033462 113.6156 \r\nL 85.80073 111.446896 \r\nL 88.198885 108.883914 \r\nL 90.988037 106.221947 \r\nL 94.360646 103.311828 \r\nL 97.943224 100.507303 \r\nL 101.59316 97.916678 \r\nL 105.16869 95.637567 \r\nL 108.53389 93.753934 \r\nL 111.32625 92.433117 \r\nL 113.54637 91.604024 \r\nL 115.236341 91.178204 \r\nL 116.463743 91.061819 \r\nL 117.308694 91.164037 \r\nL 117.928394 91.455516 \r\nL 118.273982 91.85342 \r\nL 118.444436 92.384364 \r\nL 118.419329 93.165629 \r\nL 118.152614 94.11211 \r\nL 117.55518 95.381218 \r\nL 116.520348 97.023277 \r\nL 114.943569 99.073876 \r\nL 114.388131 99.728002 \r\nL 114.388131 99.728002 \r\n\" style=\"fill:none;stroke:#ff0000;stroke-linecap:square;stroke-width:1.5;\"/>\r\n   </g>\r\n   <g id=\"line2d_22\">\r\n    <path clip-path=\"url(#p143e0d6bc8)\" d=\"M 137.043723 86.869508 \r\nL 156.955992 92.354729 \r\nL 146.175994 101.745027 \r\nL 138.305354 99.53648 \r\nL 94.994964 137.107799 \r\nL 90.715032 135.815112 \r\nL 134.072633 98.348416 \r\nL 133.967011 98.318774 \r\nL 126.177146 96.132533 \r\nL 137.042936 86.869593 \r\nL 137.042936 86.869593 \r\n\" style=\"fill:none;stroke:#ff0000;stroke-linecap:square;stroke-width:1.5;\"/>\r\n   </g>\r\n   <g id=\"line2d_23\">\r\n    <path clip-path=\"url(#p143e0d6bc8)\" d=\"M 158.326439 101.065736 \r\nL 163.497731 102.620154 \r\nL 163.637412 102.985916 \r\nL 163.578322 103.501715 \r\nL 163.22746 104.334292 \r\nL 162.422001 105.557671 \r\nL 161.020554 107.190559 \r\nL 159.242553 108.902933 \r\nL 157.249699 110.536958 \r\nL 155.226144 111.939845 \r\nL 153.36136 112.978712 \r\nL 152.023688 113.502933 \r\nL 151.1655 113.65151 \r\nL 150.564097 113.548629 \r\nL 145.889198 112.215949 \r\nL 151.335474 107.329142 \r\nL 158.326598 101.065468 \r\nL 158.326598 101.065468 \r\n\" style=\"fill:none;stroke:#0000ff;stroke-linecap:square;stroke-width:1.5;\"/>\r\n   </g>\r\n   <g id=\"line2d_24\">\r\n    <path clip-path=\"url(#p143e0d6bc8)\" d=\"M 160.661166 93.374605 \r\nL 170.787952 96.274561 \r\nL 171.139799 96.701281 \r\nL 171.2922 97.288116 \r\nL 171.242539 98.027447 \r\nL 170.929377 99.069744 \r\nL 170.240983 100.474777 \r\nL 169.063456 102.287911 \r\nL 167.491885 104.293894 \r\nL 165.340446 106.673272 \r\nL 162.840943 109.121347 \r\nL 159.804941 111.777305 \r\nL 156.610009 114.267918 \r\nL 153.41274 116.467967 \r\nL 150.638727 118.120586 \r\nL 148.111506 119.368344 \r\nL 146.13687 120.099776 \r\nL 144.677848 120.415994 \r\nL 143.662906 120.427051 \r\nL 142.651237 120.16577 \r\nL 138.388116 118.934546 \r\nL 130.458288 126.033985 \r\nL 112.166297 142.292898 \r\nL 107.266623 140.813176 \r\nL 120.296572 129.234041 \r\nL 160.660585 93.37475 \r\nL 160.660585 93.37475 \r\n\" style=\"fill:none;stroke:#0000ff;stroke-linecap:square;stroke-width:1.5;\"/>\r\n   </g>\r\n   <g id=\"line2d_25\">\r\n    <path clip-path=\"url(#p143e0d6bc8)\" d=\"M 178.494946 96.753285 \r\nL 182.796658 97.935433 \r\nL 161.813839 125.339163 \r\nL 162.106954 125.133661 \r\nL 195.903547 101.537167 \r\nL 200.158418 102.706406 \r\nL 155.065334 134.664553 \r\nL 133.585454 154.648894 \r\nL 128.669591 153.152049 \r\nL 151.068639 132.208315 \r\nL 178.494781 96.753698 \r\nL 178.494781 96.753698 \r\n\" style=\"fill:none;stroke:#0000ff;stroke-linecap:square;stroke-width:1.5;\"/>\r\n   </g>\r\n  </g>\r\n </g>\r\n <defs>\r\n  <clipPath id=\"p143e0d6bc8\">\r\n   <rect height=\"217.44\" width=\"217.44\" x=\"7.2\" y=\"7.2\"/>\r\n  </clipPath>\r\n </defs>\r\n</svg>\r\n",
      "image/png": "[encoded data removed]"
     },
     "metadata": {
      "needs_background": "light"
     }
    }
   ],
   "source": [
    "from cctpy import *\n",
    "Plot3.__logo__()"
   ]
  },
  {
   "source": [
    "# 常量\n",
    "\n",
    "cctpy 中内置了一些常量，共有如下 9 个"
   ],
   "cell_type": "markdown",
   "metadata": {}
  },
  {
   "cell_type": "code",
   "execution_count": 2,
   "metadata": {},
   "outputs": [
    {
     "output_type": "stream",
     "name": "stdout",
     "text": [
      "1米1.0\n1毫米0.001M\n光速299792458.0\n1弧度1.0\n1毫弧度0.001RAD\n1焦耳1.0\n1电子伏特1.6021766208e-19J\n1兆电子伏特1.6021766208000001e-13J\n1MeV/c5.3442857792e-22J\n"
     ]
    }
   ],
   "source": [
    "print(f\"1米{M}\")\n",
    "print(f\"1毫米{MM}M\")\n",
    "print(f\"光速{LIGHT_SPEED}\")\n",
    "print(f\"1弧度{RAD}\")\n",
    "print(f\"1毫弧度{MRAD}RAD\")\n",
    "print(f\"1焦耳{J}\")\n",
    "print(f\"1电子伏特{eV}J\")\n",
    "print(f\"1兆电子伏特{MeV}J\")\n",
    "print(f\"1MeV/c{MeV_PER_C}J\")"
   ]
  },
  {
   "source": [
    "# 点和矢量\n",
    "\n",
    "点和矢量是 cctpy 中最基本的概念，粒子的位置是一个点、粒子速度是一个矢量、CCT 磁铁路径由上万个点组成、磁场也是一个矢量\n",
    "\n",
    "cctpy 中严格区分 二维点/二维矢量 和 三维点/三维矢量，他们分别由类 P2 和类 P3 表示\n",
    "\n",
    "## P2\n",
    "\n",
    "P2 既可以表示二维坐标系中的点 (x, y)，也可以表示二维向量 (x, y)。它包含一下方便的运算操作\n",
    "\n",
    "- 各种构造器\n",
    "- length() 求矢量长度\n",
    "- normalize() 矢量长度归一\n",
    "- change_length(new_length) 改变矢量长度\n",
    "- 矢量加法、减法、相反矢量、自加自减、乘法（内积、标量积）、相等判断\n",
    "- rotate(phi) 矢量旋转(逆时针)\n",
    "- angle_to_x_axis() 矢量和 x 轴夹角\n",
    "- angle_to(other) 两个矢量夹角\n",
    "- to_p3(transformation) 通过某种规则 P2 转换到 P3\n",
    "- copy() 拷贝矢量\n"
   ],
   "cell_type": "markdown",
   "metadata": {}
  },
  {
   "cell_type": "code",
   "execution_count": 3,
   "metadata": {},
   "outputs": [
    {
     "output_type": "execute_result",
     "data": {
      "text/plain": [
       "([0.0, 0.0], [0.0, 0.0], [0.0, 0.0])"
      ]
     },
     "metadata": {},
     "execution_count": 3
    }
   ],
   "source": [
    "# 创建一个 (0,0)点/矢量\n",
    "p1 = P2()\n",
    "p2 = P2.origin()\n",
    "p3 = P2.zeros()\n",
    "\n",
    "p1, p2, p3"
   ]
  },
  {
   "cell_type": "code",
   "execution_count": 4,
   "metadata": {},
   "outputs": [
    {
     "output_type": "execute_result",
     "data": {
      "text/plain": [
       "([3.14, 0.0], [4.13, 0.0], [0.0, 6.28], [0.0, 2.68])"
      ]
     },
     "metadata": {},
     "execution_count": 4
    }
   ],
   "source": [
    "# 创建一个 x 轴上的点，或者说和 x 轴平行的矢量\n",
    "x1 = P2(x=3.14)\n",
    "x2 = P2.x_direct(4.13)\n",
    "\n",
    "# 创建一个 y 轴上的点，或者说和 y 轴平行的矢量\n",
    "y1 = P2(y=6.28)\n",
    "y2 = P2.y_direct(2.68)\n",
    "\n",
    "x1, x2, y1, y2"
   ]
  },
  {
   "cell_type": "code",
   "execution_count": 5,
   "metadata": {},
   "outputs": [
    {
     "output_type": "execute_result",
     "data": {
      "text/plain": [
       "([2.0, 3.0], [0.1, 0.2])"
      ]
     },
     "metadata": {},
     "execution_count": 5
    }
   ],
   "source": [
    "# 创建任意一个点，或矢量\n",
    "p1 = P2(2,3)\n",
    "p2 = P2(0.1,0.2)\n",
    "\n",
    "p1, p2"
   ]
  },
  {
   "cell_type": "code",
   "execution_count": 6,
   "metadata": {},
   "outputs": [
    {
     "output_type": "stream",
     "name": "stdout",
     "text": [
      "矢量长度 1.4142135623730951 2.0\n长度归一 [0.7071067811865475, 0.7071067811865475] [0.0, 1.0]\n改变矢量长度 [7.071067811865475, 7.071067811865475] [-0.0, -10.0]\n"
     ]
    }
   ],
   "source": [
    "# 求矢量 P2 的长度，或点到原点的距离\n",
    "p1 = P2(1,1)\n",
    "p2 = P2(0,2)\n",
    "p1_len = p1.length()\n",
    "p2_len = p2.length()\n",
    "\n",
    "\n",
    "# 矢量长度归一\n",
    "p1_norm = p1.normalize()\n",
    "p2_norm = p2.normalize()\n",
    "\n",
    "\n",
    "# 改变矢量长度\n",
    "p1_cl = p1.change_length(10)\n",
    "p2_cl = p2.change_length(-10) # 负数改变了矢量方向\n",
    "\n",
    "print(\"矢量长度\",p1_len,p2_len)\n",
    "print(\"长度归一\",p1_norm,p2_norm)\n",
    "print(\"改变矢量长度\",p1_cl,p2_cl)"
   ]
  },
  {
   "cell_type": "code",
   "execution_count": 7,
   "metadata": {},
   "outputs": [
    {
     "output_type": "stream",
     "name": "stdout",
     "text": [
      "矢量加法 [2.0, 3.0]+[1.0, 1.0]=[3.0, 4.0]\n矢量减法 [2.0, 3.0]-[1.0, 1.0]=[1.0, 2.0]\n相反矢量 -[2.0, 3.0]=[-2.0, -3.0]\n相反矢量 -[1.0, 1.0]=[-1.0, -1.0]\np1=[2.0, 3.0]\n自加 p1+=[1.0, 1.0] p1=[3.0, 4.0]\n自减 p1-=[1.0, 1.0] p1=[2.0, 3.0]\n内积 [2.0, 3.0]*[1.0, 1.0]=5.0\n内积 [1.0, 1.0]*[2.0, 3.0]=5.0\n标量积 [2.0, 3.0]*3=[6.0, 9.0]\n标量积 2*[1.0, 1.0]=[2.0, 2.0]\n相等判断 [2.0, 3.0]==[1.0, 1.0] is False\n相等判断 [2.0, 3.0]==[1.0, 1.0]+[1.0, 2.0] is True\n相等判断，默认允许 1e-6 范围误差： [0.0, 0.0]==[1e-07, 1e-08] is True\n相等判断，指定误差 1e-10： [0.0, 0.0]==[1e-07, 1e-08] is False\n"
     ]
    }
   ],
   "source": [
    "# 矢量加法、减法\n",
    "p1 = P2(2,3)\n",
    "p2 = P2(1,1)\n",
    "p_add = p1+p2\n",
    "p_sub = p1-p2\n",
    "print('矢量加法',f\"{p1}+{p2}={p_add}\")\n",
    "print('矢量减法',f\"{p1}-{p2}={p_sub}\")\n",
    "\n",
    "# 相反矢量\n",
    "p1_neg = -p1\n",
    "p2_neg = -p2\n",
    "print('相反矢量',f\"-{p1}={p1_neg}\")\n",
    "print('相反矢量',f\"-{p2}={p2_neg}\")\n",
    "\n",
    "# 自加自减，会修改自身大小\n",
    "print(f\"p1={p1}\")\n",
    "p1+=p2\n",
    "print(f\"自加 p1+={p2}\",f\"p1={p1}\")\n",
    "\n",
    "p1-=p2\n",
    "print(f\"自减 p1-={p2}\",f\"p1={p1}\")\n",
    "\n",
    "# 乘法（内积、标量积）\n",
    "m1 = p1*p2\n",
    "m2 = p2*p1\n",
    "m3 = p1*3\n",
    "m4 = 2*p2\n",
    "print(\"内积\",f\"{p1}*{p2}={m1}\")\n",
    "print(\"内积\",f\"{p2}*{p1}={m2}\")\n",
    "print(\"标量积\",f\"{p1}*{3}={m3}\")\n",
    "print(\"标量积\",f\"{2}*{p2}={m4}\")\n",
    "\n",
    "\n",
    "# 相等判断\n",
    "judge1 = p1==p2\n",
    "judge2 = p1==p2+P2(1,2)\n",
    "print(\"相等判断\",f\"{p1}=={p2} is {judge1}\")\n",
    "print(\"相等判断\",f\"{p1}=={p2}+{P2(1,2)} is {judge2}\")\n",
    "\n",
    "# 注意，因为浮点数误差，默认允许 1e-6 范围误差\n",
    "print(\"相等判断，默认允许 1e-6 范围误差：\",f\"{P2(0,0)}=={P2(1E-7,1E-8)} is {P2(0,0)==P2(1E-7,1E-8)}\")\n",
    "# 可以调用等号操作符 == 的原函数 __eq__ 指定误差\n",
    "print(\"相等判断，指定误差 1e-10：\",f\"{P2(0,0)}=={P2(1E-7,1E-8)} is {P2(0,0).__eq__(P2(1E-7,1E-8), err=1e-10)}\")\n"
   ]
  },
  {
   "cell_type": "code",
   "execution_count": 8,
   "metadata": {},
   "outputs": [
    {
     "output_type": "stream",
     "name": "stdout",
     "text": [
      "红线平行于 x 轴\n黄线：旋转45度\n绿线：旋转120度\n蓝线：旋转-45度\n"
     ]
    },
    {
     "output_type": "display_data",
     "data": {
      "text/plain": "<Figure size 432x288 with 1 Axes>",
      "image/svg+xml": "<?xml version=\"1.0\" encoding=\"utf-8\" standalone=\"no\"?>\r\n<!DOCTYPE svg PUBLIC \"-//W3C//DTD SVG 1.1//EN\"\r\n  \"http://www.w3.org/Graphics/SVG/1.1/DTD/svg11.dtd\">\r\n<!-- Created with matplotlib (https://matplotlib.org/) -->\r\n<svg height=\"246.965pt\" version=\"1.1\" viewBox=\"0 0 376.2 246.965\" width=\"376.2pt\" xmlns=\"http://www.w3.org/2000/svg\" xmlns:xlink=\"http://www.w3.org/1999/xlink\">\r\n <metadata>\r\n  <rdf:RDF xmlns:cc=\"http://creativecommons.org/ns#\" xmlns:dc=\"http://purl.org/dc/elements/1.1/\" xmlns:rdf=\"http://www.w3.org/1999/02/22-rdf-syntax-ns#\">\r\n   <cc:Work>\r\n    <dc:type rdf:resource=\"http://purl.org/dc/dcmitype/StillImage\"/>\r\n    <dc:date>2020-12-02T17:00:31.763562</dc:date>\r\n    <dc:format>image/svg+xml</dc:format>\r\n    <dc:creator>\r\n     <cc:Agent>\r\n      <dc:title>Matplotlib v3.3.3, https://matplotlib.org/</dc:title>\r\n     </cc:Agent>\r\n    </dc:creator>\r\n   </cc:Work>\r\n  </rdf:RDF>\r\n </metadata>\r\n <defs>\r\n  <style type=\"text/css\">*{stroke-linecap:butt;stroke-linejoin:round;}</style>\r\n </defs>\r\n <g id=\"figure_1\">\r\n  <g id=\"patch_1\">\r\n   <path d=\"M 0 246.965 \r\nL 376.2 246.965 \r\nL 376.2 0 \r\nL 0 0 \r\nz\r\n\" style=\"fill:none;\"/>\r\n  </g>\r\n  <g id=\"axes_1\">\r\n   <g id=\"patch_2\">\r\n    <path d=\"M 34.2 224.64 \r\nL 369 224.64 \r\nL 369 7.2 \r\nL 34.2 7.2 \r\nz\r\n\" style=\"fill:#ffffff;\"/>\r\n   </g>\r\n   <g id=\"matplotlib.axis_1\">\r\n    <g id=\"xtick_1\">\r\n     <g id=\"line2d_1\">\r\n      <defs>\r\n       <path d=\"M 0 0 \r\nL 0 3.5 \r\n\" id=\"m71e5ad1b0e\" style=\"stroke:#000000;stroke-width:0.8;\"/>\r\n      </defs>\r\n      <g>\r\n       <use style=\"stroke:#000000;stroke-width:0.8;\" x=\"44.530612\" xlink:href=\"#m71e5ad1b0e\" y=\"224.64\"/>\r\n      </g>\r\n     </g>\r\n     <g id=\"text_1\">\r\n      <!-- -1.0 -->\r\n      <g transform=\"translate(34.530612 238.515)scale(0.1 -0.1)\">\r\n       <defs>\r\n        <path d=\"M 46.484375 33.203125 \r\nL 1.953125 33.203125 \r\nL 1.953125 39.453125 \r\nL 46.484375 39.453125 \r\nz\r\n\" id=\"SimHei-45\"/>\r\n        <path d=\"M 21.875 56.25 \r\nQ 16.796875 51.171875 8.984375 46.484375 \r\nL 8.984375 53.90625 \r\nQ 18.75 60.546875 25 69.53125 \r\nL 29.6875 69.53125 \r\nL 29.6875 2.34375 \r\nL 21.875 2.34375 \r\nz\r\n\" id=\"SimHei-49\"/>\r\n        <path d=\"M 16.796875 1.953125 \r\nL 7.8125 1.953125 \r\nL 7.8125 10.546875 \r\nL 16.796875 10.546875 \r\nz\r\n\" id=\"SimHei-46\"/>\r\n        <path d=\"M 3.125 29.296875 \r\nQ 3.90625 50 6.4375 56.046875 \r\nQ 8.984375 62.109375 13.671875 66.015625 \r\nQ 18.359375 69.921875 25.1875 69.921875 \r\nQ 32.03125 69.921875 37.109375 64.25 \r\nQ 42.1875 58.59375 43.75 50 \r\nQ 45.3125 41.40625 44.71875 30.265625 \r\nQ 44.140625 19.140625 40.8125 12.109375 \r\nQ 37.5 5.078125 30.859375 2.34375 \r\nQ 24.21875 -0.390625 17.578125 2.921875 \r\nQ 10.9375 6.25 8.203125 11.71875 \r\nQ 5.46875 17.1875 4.296875 23.234375 \r\nQ 3.125 29.296875 3.90625 50 \r\nz\r\nM 12.890625 52.734375 \r\nQ 10.546875 31.25 12.5 22.84375 \r\nQ 14.453125 14.453125 18.9375 10.9375 \r\nQ 23.4375 7.421875 28.125 9.5625 \r\nQ 32.8125 11.71875 34.953125 18.15625 \r\nQ 37.109375 24.609375 37.109375 32.21875 \r\nQ 37.109375 39.84375 36.515625 46.09375 \r\nQ 35.9375 52.34375 33 57.421875 \r\nQ 30.078125 62.5 25.1875 62.6875 \r\nQ 20.3125 62.890625 16.59375 57.8125 \r\nQ 12.890625 52.734375 10.546875 31.25 \r\nz\r\n\" id=\"SimHei-48\"/>\r\n       </defs>\r\n       <use xlink:href=\"#SimHei-45\"/>\r\n       <use x=\"50\" xlink:href=\"#SimHei-49\"/>\r\n       <use x=\"100\" xlink:href=\"#SimHei-46\"/>\r\n       <use x=\"150\" xlink:href=\"#SimHei-48\"/>\r\n      </g>\r\n     </g>\r\n    </g>\r\n    <g id=\"xtick_2\">\r\n     <g id=\"line2d_2\">\r\n      <g>\r\n       <use style=\"stroke:#000000;stroke-width:0.8;\" x=\"107.358367\" xlink:href=\"#m71e5ad1b0e\" y=\"224.64\"/>\r\n      </g>\r\n     </g>\r\n     <g id=\"text_2\">\r\n      <!-- -0.5 -->\r\n      <g transform=\"translate(97.358367 238.515)scale(0.1 -0.1)\">\r\n       <defs>\r\n        <path d=\"M 8.59375 20.703125 \r\nQ 11.328125 10.15625 17.96875 8.984375 \r\nQ 24.609375 7.8125 28.703125 10.34375 \r\nQ 32.8125 12.890625 34.5625 16.984375 \r\nQ 36.328125 21.09375 36.125 26.171875 \r\nQ 35.9375 31.25 33.390625 34.765625 \r\nQ 30.859375 38.28125 26.953125 39.453125 \r\nQ 23.046875 40.625 18.15625 39.453125 \r\nQ 13.28125 38.28125 10.15625 33.984375 \r\nL 3.515625 34.765625 \r\nQ 4.296875 37.109375 10.9375 68.359375 \r\nL 41.796875 68.359375 \r\nL 41.796875 61.328125 \r\nL 16.796875 61.328125 \r\nQ 14.84375 50.78125 12.890625 44.53125 \r\nQ 18.75 47.265625 23.828125 47.0625 \r\nQ 28.90625 46.875 33.59375 44.71875 \r\nQ 38.28125 42.578125 40.421875 38.859375 \r\nQ 42.578125 35.15625 43.546875 31.4375 \r\nQ 44.53125 27.734375 44.328125 23.4375 \r\nQ 44.140625 19.140625 42.578125 14.640625 \r\nQ 41.015625 10.15625 37.890625 7.21875 \r\nQ 34.765625 4.296875 30.265625 2.53125 \r\nQ 25.78125 0.78125 19.921875 1.171875 \r\nQ 14.0625 1.5625 8.78125 5.46875 \r\nQ 3.515625 9.375 1.5625 18.75 \r\nz\r\n\" id=\"SimHei-53\"/>\r\n       </defs>\r\n       <use xlink:href=\"#SimHei-45\"/>\r\n       <use x=\"50\" xlink:href=\"#SimHei-48\"/>\r\n       <use x=\"100\" xlink:href=\"#SimHei-46\"/>\r\n       <use x=\"150\" xlink:href=\"#SimHei-53\"/>\r\n      </g>\r\n     </g>\r\n    </g>\r\n    <g id=\"xtick_3\">\r\n     <g id=\"line2d_3\">\r\n      <g>\r\n       <use style=\"stroke:#000000;stroke-width:0.8;\" x=\"170.186122\" xlink:href=\"#m71e5ad1b0e\" y=\"224.64\"/>\r\n      </g>\r\n     </g>\r\n     <g id=\"text_3\">\r\n      <!-- 0.0 -->\r\n      <g transform=\"translate(162.686122 238.515)scale(0.1 -0.1)\">\r\n       <use xlink:href=\"#SimHei-48\"/>\r\n       <use x=\"50\" xlink:href=\"#SimHei-46\"/>\r\n       <use x=\"100\" xlink:href=\"#SimHei-48\"/>\r\n      </g>\r\n     </g>\r\n    </g>\r\n    <g id=\"xtick_4\">\r\n     <g id=\"line2d_4\">\r\n      <g>\r\n       <use style=\"stroke:#000000;stroke-width:0.8;\" x=\"233.013878\" xlink:href=\"#m71e5ad1b0e\" y=\"224.64\"/>\r\n      </g>\r\n     </g>\r\n     <g id=\"text_4\">\r\n      <!-- 0.5 -->\r\n      <g transform=\"translate(225.513878 238.515)scale(0.1 -0.1)\">\r\n       <use xlink:href=\"#SimHei-48\"/>\r\n       <use x=\"50\" xlink:href=\"#SimHei-46\"/>\r\n       <use x=\"100\" xlink:href=\"#SimHei-53\"/>\r\n      </g>\r\n     </g>\r\n    </g>\r\n    <g id=\"xtick_5\">\r\n     <g id=\"line2d_5\">\r\n      <g>\r\n       <use style=\"stroke:#000000;stroke-width:0.8;\" x=\"295.841633\" xlink:href=\"#m71e5ad1b0e\" y=\"224.64\"/>\r\n      </g>\r\n     </g>\r\n     <g id=\"text_5\">\r\n      <!-- 1.0 -->\r\n      <g transform=\"translate(288.341633 238.515)scale(0.1 -0.1)\">\r\n       <use xlink:href=\"#SimHei-49\"/>\r\n       <use x=\"50\" xlink:href=\"#SimHei-46\"/>\r\n       <use x=\"100\" xlink:href=\"#SimHei-48\"/>\r\n      </g>\r\n     </g>\r\n    </g>\r\n    <g id=\"xtick_6\">\r\n     <g id=\"line2d_6\">\r\n      <g>\r\n       <use style=\"stroke:#000000;stroke-width:0.8;\" x=\"358.669388\" xlink:href=\"#m71e5ad1b0e\" y=\"224.64\"/>\r\n      </g>\r\n     </g>\r\n     <g id=\"text_6\">\r\n      <!-- 1.5 -->\r\n      <g transform=\"translate(351.169388 238.515)scale(0.1 -0.1)\">\r\n       <use xlink:href=\"#SimHei-49\"/>\r\n       <use x=\"50\" xlink:href=\"#SimHei-46\"/>\r\n       <use x=\"100\" xlink:href=\"#SimHei-53\"/>\r\n      </g>\r\n     </g>\r\n    </g>\r\n   </g>\r\n   <g id=\"matplotlib.axis_2\">\r\n    <g id=\"ytick_1\">\r\n     <g id=\"line2d_7\">\r\n      <defs>\r\n       <path d=\"M 0 0 \r\nL -3.5 0 \r\n\" id=\"meba0050ca7\" style=\"stroke:#000000;stroke-width:0.8;\"/>\r\n      </defs>\r\n      <g>\r\n       <use style=\"stroke:#000000;stroke-width:0.8;\" x=\"34.2\" xlink:href=\"#meba0050ca7\" y=\"201.297806\"/>\r\n      </g>\r\n     </g>\r\n     <g id=\"text_7\">\r\n      <!-- -0.6 -->\r\n      <g transform=\"translate(7.2 204.735306)scale(0.1 -0.1)\">\r\n       <defs>\r\n        <path d=\"M 3.515625 19.53125 \r\nQ 4.296875 30.859375 6.046875 34.765625 \r\nQ 7.8125 38.671875 11.328125 44.53125 \r\nL 27.34375 69.53125 \r\nL 36.328125 69.53125 \r\nL 19.921875 43.75 \r\nQ 30.46875 46.484375 36.71875 42.96875 \r\nQ 42.96875 39.453125 45.109375 34.953125 \r\nQ 47.265625 30.46875 47.453125 25.1875 \r\nQ 47.65625 19.921875 45.890625 14.84375 \r\nQ 44.140625 9.765625 39.640625 5.65625 \r\nQ 35.15625 1.5625 27.140625 1.171875 \r\nQ 19.140625 0.78125 13.46875 4.09375 \r\nQ 7.8125 7.421875 5.65625 13.46875 \r\nQ 3.515625 19.53125 4.296875 30.859375 \r\nz\r\nM 12.5 16.015625 \r\nQ 19.53125 8.59375 25.390625 8.203125 \r\nQ 31.25 7.8125 35.15625 12.109375 \r\nQ 39.0625 16.40625 39.0625 24.609375 \r\nQ 39.0625 32.8125 34.171875 35.9375 \r\nQ 29.296875 39.0625 23.234375 38.28125 \r\nQ 17.1875 37.5 14.453125 32.421875 \r\nQ 11.71875 27.34375 12.109375 21.671875 \r\nQ 12.5 16.015625 19.53125 8.59375 \r\nz\r\n\" id=\"SimHei-54\"/>\r\n       </defs>\r\n       <use xlink:href=\"#SimHei-45\"/>\r\n       <use x=\"50\" xlink:href=\"#SimHei-48\"/>\r\n       <use x=\"100\" xlink:href=\"#SimHei-46\"/>\r\n       <use x=\"150\" xlink:href=\"#SimHei-54\"/>\r\n      </g>\r\n     </g>\r\n    </g>\r\n    <g id=\"ytick_2\">\r\n     <g id=\"line2d_8\">\r\n      <g>\r\n       <use style=\"stroke:#000000;stroke-width:0.8;\" x=\"34.2\" xlink:href=\"#meba0050ca7\" y=\"176.166704\"/>\r\n      </g>\r\n     </g>\r\n     <g id=\"text_8\">\r\n      <!-- -0.4 -->\r\n      <g transform=\"translate(7.2 179.604204)scale(0.1 -0.1)\">\r\n       <defs>\r\n        <path d=\"M 31.25 17.1875 \r\nL 1.171875 17.1875 \r\nL 1.171875 23.828125 \r\nL 32.8125 69.53125 \r\nL 38.671875 69.53125 \r\nL 38.671875 23.828125 \r\nL 48.046875 23.828125 \r\nL 48.046875 17.1875 \r\nL 38.671875 17.1875 \r\nL 38.671875 2.34375 \r\nL 31.25 2.34375 \r\nz\r\nM 31.25 23.828125 \r\nL 31.25 54.6875 \r\nL 9.375 23.828125 \r\nz\r\n\" id=\"SimHei-52\"/>\r\n       </defs>\r\n       <use xlink:href=\"#SimHei-45\"/>\r\n       <use x=\"50\" xlink:href=\"#SimHei-48\"/>\r\n       <use x=\"100\" xlink:href=\"#SimHei-46\"/>\r\n       <use x=\"150\" xlink:href=\"#SimHei-52\"/>\r\n      </g>\r\n     </g>\r\n    </g>\r\n    <g id=\"ytick_3\">\r\n     <g id=\"line2d_9\">\r\n      <g>\r\n       <use style=\"stroke:#000000;stroke-width:0.8;\" x=\"34.2\" xlink:href=\"#meba0050ca7\" y=\"151.035602\"/>\r\n      </g>\r\n     </g>\r\n     <g id=\"text_9\">\r\n      <!-- -0.2 -->\r\n      <g transform=\"translate(7.2 154.473102)scale(0.1 -0.1)\">\r\n       <defs>\r\n        <path d=\"M 4.6875 3.90625 \r\nQ 5.078125 9.765625 10.15625 14.453125 \r\nQ 15.234375 19.140625 23.046875 29.09375 \r\nQ 30.859375 39.0625 33.203125 44.53125 \r\nQ 35.546875 50 34.953125 53.90625 \r\nQ 34.375 57.8125 31.25 60.34375 \r\nQ 28.125 62.890625 24.015625 62.5 \r\nQ 19.921875 62.109375 16.203125 59.375 \r\nQ 12.5 56.640625 10.546875 51.171875 \r\nL 3.125 52.34375 \r\nQ 6.25 61.328125 11.125 65.421875 \r\nQ 16.015625 69.53125 22.65625 69.921875 \r\nQ 26.5625 70.3125 29.6875 69.71875 \r\nQ 32.8125 69.140625 36.125 66.984375 \r\nQ 39.453125 64.84375 41.59375 60.546875 \r\nQ 43.75 56.25 43.15625 50.1875 \r\nQ 42.578125 44.140625 37.109375 35.734375 \r\nQ 31.640625 27.34375 16.015625 9.375 \r\nL 44.140625 9.375 \r\nL 44.140625 2.34375 \r\nL 4.6875 2.34375 \r\nz\r\n\" id=\"SimHei-50\"/>\r\n       </defs>\r\n       <use xlink:href=\"#SimHei-45\"/>\r\n       <use x=\"50\" xlink:href=\"#SimHei-48\"/>\r\n       <use x=\"100\" xlink:href=\"#SimHei-46\"/>\r\n       <use x=\"150\" xlink:href=\"#SimHei-50\"/>\r\n      </g>\r\n     </g>\r\n    </g>\r\n    <g id=\"ytick_4\">\r\n     <g id=\"line2d_10\">\r\n      <g>\r\n       <use style=\"stroke:#000000;stroke-width:0.8;\" x=\"34.2\" xlink:href=\"#meba0050ca7\" y=\"125.9045\"/>\r\n      </g>\r\n     </g>\r\n     <g id=\"text_10\">\r\n      <!-- 0.0 -->\r\n      <g transform=\"translate(12.2 129.342)scale(0.1 -0.1)\">\r\n       <use xlink:href=\"#SimHei-48\"/>\r\n       <use x=\"50\" xlink:href=\"#SimHei-46\"/>\r\n       <use x=\"100\" xlink:href=\"#SimHei-48\"/>\r\n      </g>\r\n     </g>\r\n    </g>\r\n    <g id=\"ytick_5\">\r\n     <g id=\"line2d_11\">\r\n      <g>\r\n       <use style=\"stroke:#000000;stroke-width:0.8;\" x=\"34.2\" xlink:href=\"#meba0050ca7\" y=\"100.773398\"/>\r\n      </g>\r\n     </g>\r\n     <g id=\"text_11\">\r\n      <!-- 0.2 -->\r\n      <g transform=\"translate(12.2 104.210898)scale(0.1 -0.1)\">\r\n       <use xlink:href=\"#SimHei-48\"/>\r\n       <use x=\"50\" xlink:href=\"#SimHei-46\"/>\r\n       <use x=\"100\" xlink:href=\"#SimHei-50\"/>\r\n      </g>\r\n     </g>\r\n    </g>\r\n    <g id=\"ytick_6\">\r\n     <g id=\"line2d_12\">\r\n      <g>\r\n       <use style=\"stroke:#000000;stroke-width:0.8;\" x=\"34.2\" xlink:href=\"#meba0050ca7\" y=\"75.642296\"/>\r\n      </g>\r\n     </g>\r\n     <g id=\"text_12\">\r\n      <!-- 0.4 -->\r\n      <g transform=\"translate(12.2 79.079796)scale(0.1 -0.1)\">\r\n       <use xlink:href=\"#SimHei-48\"/>\r\n       <use x=\"50\" xlink:href=\"#SimHei-46\"/>\r\n       <use x=\"100\" xlink:href=\"#SimHei-52\"/>\r\n      </g>\r\n     </g>\r\n    </g>\r\n    <g id=\"ytick_7\">\r\n     <g id=\"line2d_13\">\r\n      <g>\r\n       <use style=\"stroke:#000000;stroke-width:0.8;\" x=\"34.2\" xlink:href=\"#meba0050ca7\" y=\"50.511194\"/>\r\n      </g>\r\n     </g>\r\n     <g id=\"text_13\">\r\n      <!-- 0.6 -->\r\n      <g transform=\"translate(12.2 53.948694)scale(0.1 -0.1)\">\r\n       <use xlink:href=\"#SimHei-48\"/>\r\n       <use x=\"50\" xlink:href=\"#SimHei-46\"/>\r\n       <use x=\"100\" xlink:href=\"#SimHei-54\"/>\r\n      </g>\r\n     </g>\r\n    </g>\r\n    <g id=\"ytick_8\">\r\n     <g id=\"line2d_14\">\r\n      <g>\r\n       <use style=\"stroke:#000000;stroke-width:0.8;\" x=\"34.2\" xlink:href=\"#meba0050ca7\" y=\"25.380092\"/>\r\n      </g>\r\n     </g>\r\n     <g id=\"text_14\">\r\n      <!-- 0.8 -->\r\n      <g transform=\"translate(12.2 28.817592)scale(0.1 -0.1)\">\r\n       <defs>\r\n        <path d=\"M 2.734375 16.796875 \r\nQ 2.734375 26.171875 5.078125 30.65625 \r\nQ 7.421875 35.15625 12.890625 37.890625 \r\nQ 8.203125 40.625 6.640625 43.9375 \r\nQ 5.078125 47.265625 4.875 51.5625 \r\nQ 4.6875 55.859375 6.046875 58.984375 \r\nQ 7.421875 62.109375 10.15625 64.84375 \r\nQ 12.890625 67.578125 16.203125 68.546875 \r\nQ 19.53125 69.53125 23.4375 69.53125 \r\nQ 27.34375 69.53125 30.46875 68.75 \r\nQ 33.59375 67.96875 37.109375 65.421875 \r\nQ 40.625 62.890625 42.1875 58.203125 \r\nQ 43.75 53.515625 41.984375 47.265625 \r\nQ 40.234375 41.015625 32.8125 37.5 \r\nQ 39.453125 35.546875 42.1875 31.4375 \r\nQ 44.921875 27.34375 44.921875 21.484375 \r\nQ 44.921875 15.625 43.15625 12.109375 \r\nQ 41.40625 8.59375 39.25 6.25 \r\nQ 37.109375 3.90625 33.390625 2.53125 \r\nQ 29.6875 1.171875 24.015625 1.171875 \r\nQ 18.359375 1.171875 14.25 2.53125 \r\nQ 10.15625 3.90625 7.421875 6.640625 \r\nQ 4.6875 9.375 3.703125 13.078125 \r\nQ 2.734375 16.796875 2.734375 26.171875 \r\nz\r\nM 10.9375 26.5625 \r\nQ 10.546875 17.1875 12.296875 13.671875 \r\nQ 14.0625 10.15625 18.75 9.171875 \r\nQ 23.4375 8.203125 28.515625 9.375 \r\nQ 33.59375 10.546875 35.546875 14.84375 \r\nQ 37.5 19.140625 36.90625 23.4375 \r\nQ 36.328125 27.734375 32.03125 30.65625 \r\nQ 27.734375 33.59375 22.65625 33.203125 \r\nQ 17.578125 32.8125 14.25 29.6875 \r\nQ 10.9375 26.5625 10.546875 17.1875 \r\nz\r\nM 12.109375 56.25 \r\nQ 12.109375 48.4375 14.84375 44.921875 \r\nQ 17.578125 41.40625 23.4375 41.40625 \r\nQ 29.296875 41.40625 32.21875 44.921875 \r\nQ 35.15625 48.4375 34.953125 53.3125 \r\nQ 34.765625 58.203125 31.4375 60.546875 \r\nQ 28.125 62.890625 22.453125 62.5 \r\nQ 16.796875 62.109375 14.453125 59.171875 \r\nQ 12.109375 56.25 12.109375 48.4375 \r\nz\r\n\" id=\"SimHei-56\"/>\r\n       </defs>\r\n       <use xlink:href=\"#SimHei-48\"/>\r\n       <use x=\"50\" xlink:href=\"#SimHei-46\"/>\r\n       <use x=\"100\" xlink:href=\"#SimHei-56\"/>\r\n      </g>\r\n     </g>\r\n    </g>\r\n   </g>\r\n   <g id=\"line2d_15\">\r\n    <path clip-path=\"url(#p036c19d19e)\" d=\"M 170.186122 125.9045 \r\nL 295.841633 125.9045 \r\n\" style=\"fill:none;stroke:#ff0000;stroke-linecap:square;stroke-width:1.5;\"/>\r\n   </g>\r\n   <g id=\"line2d_16\">\r\n    <path clip-path=\"url(#p036c19d19e)\" d=\"M 170.186122 125.9045 \r\nL 259.037986 37.052637 \r\n\" style=\"fill:none;stroke:#bfbf00;stroke-linecap:square;stroke-width:1.5;\"/>\r\n   </g>\r\n   <g id=\"line2d_17\">\r\n    <path clip-path=\"url(#p036c19d19e)\" d=\"M 170.186122 125.9045 \r\nL 107.358367 17.083636 \r\n\" style=\"fill:none;stroke:#008000;stroke-linecap:square;stroke-width:1.5;\"/>\r\n   </g>\r\n   <g id=\"line2d_18\">\r\n    <path clip-path=\"url(#p036c19d19e)\" d=\"M 170.186122 125.9045 \r\nL 259.037986 214.756364 \r\n\" style=\"fill:none;stroke:#0000ff;stroke-linecap:square;stroke-width:1.5;\"/>\r\n   </g>\r\n   <g id=\"patch_3\">\r\n    <path d=\"M 34.2 224.64 \r\nL 34.2 7.2 \r\n\" style=\"fill:none;stroke:#000000;stroke-linecap:square;stroke-linejoin:miter;stroke-width:0.8;\"/>\r\n   </g>\r\n   <g id=\"patch_4\">\r\n    <path d=\"M 369 224.64 \r\nL 369 7.2 \r\n\" style=\"fill:none;stroke:#000000;stroke-linecap:square;stroke-linejoin:miter;stroke-width:0.8;\"/>\r\n   </g>\r\n   <g id=\"patch_5\">\r\n    <path d=\"M 34.2 224.64 \r\nL 369 224.64 \r\n\" style=\"fill:none;stroke:#000000;stroke-linecap:square;stroke-linejoin:miter;stroke-width:0.8;\"/>\r\n   </g>\r\n   <g id=\"patch_6\">\r\n    <path d=\"M 34.2 7.2 \r\nL 369 7.2 \r\n\" style=\"fill:none;stroke:#000000;stroke-linecap:square;stroke-linejoin:miter;stroke-width:0.8;\"/>\r\n   </g>\r\n  </g>\r\n </g>\r\n <defs>\r\n  <clipPath id=\"p036c19d19e\">\r\n   <rect height=\"217.44\" width=\"334.8\" x=\"34.2\" y=\"7.2\"/>\r\n  </clipPath>\r\n </defs>\r\n</svg>\r\n",
      "image/png": "[encoded data removed]"
     },
     "metadata": {
      "needs_background": "light"
     }
    }
   ],
   "source": [
    "# rotate(phi) 矢量旋转(逆时针)\n",
    "p = P2(1,0)\n",
    "p_rot45 = p.rotate(BaseUtils.angle_to_radian(45))\n",
    "p_rot120 = p.rotate(BaseUtils.angle_to_radian(120))\n",
    "p_rot_neg45 = p.rotate(BaseUtils.angle_to_radian(-45)) # 负数顺时针旋转\n",
    "\n",
    "print(\"红线平行于 x 轴\")\n",
    "print(\"黄线：旋转45度\")\n",
    "print(\"绿线：旋转120度\")\n",
    "print(\"蓝线：旋转-45度\")\n",
    "\n",
    "Plot2.plot_p2s([P2.origin(), p], 'r-')\n",
    "Plot2.plot_p2s([P2.origin(), p_rot45], 'y-')\n",
    "Plot2.plot_p2s([P2.origin(), p_rot120], 'g-')\n",
    "Plot2.plot_p2s([P2.origin(), p_rot_neg45], 'b-')\n",
    "Plot2.equal()\n",
    "# Plot2.show()\n",
    "\n",
    "\n",
    "# 注释： \n",
    "# BaseUtils.angle_to_radian(deg) 角度转弧度\n",
    "# Plot2.plot_p2s([], describe) 绘制由 P2 点组成的线\n",
    "# Plot2.equal() 设置坐标轴 x 和 y 比例相等\n",
    "# Plot2.show() 绘制图象\n"
   ]
  },
  {
   "cell_type": "code",
   "execution_count": 9,
   "metadata": {},
   "outputs": [
    {
     "output_type": "stream",
     "name": "stdout",
     "text": [
      "rad = 0.7853981633974483, 转为角度制 45.0\nrad = 5.497787143782138, 转为角度制 315.0\np_to_p2=2.356194490192345 rad, 转为角度制 135.0\np2_to_p=3.9269908169872414 rad, 转为角度制 225.0\n"
     ]
    }
   ],
   "source": [
    "# 求矢量和 x 轴夹角\n",
    "p = P2(1,1)\n",
    "p1 = P2(1,-1)\n",
    "p_angle_to_x = p.angle_to_x_axis()\n",
    "p1_angle_to_x = p1.angle_to_x_axis()\n",
    "print(f\"rad = {p_angle_to_x}, 转为角度制 {BaseUtils.radian_to_angle(p_angle_to_x)}\")\n",
    "print(f\"rad = {p1_angle_to_x}, 转为角度制 {BaseUtils.radian_to_angle(p1_angle_to_x)}\")\n",
    "\n",
    "# 求矢量 p1 到 p2 的夹角，顺时针方向\n",
    "p2 = P2(-1,0)\n",
    "p_to_p2 = p.angle_to(p2)\n",
    "p2_to_p = p2.angle_to(p)\n",
    "print(f\"p_to_p2={p_to_p2} rad, 转为角度制 {BaseUtils.radian_to_angle(p_to_p2)}\")\n",
    "print(f\"p2_to_p={p2_to_p} rad, 转为角度制 {BaseUtils.radian_to_angle(p2_to_p)}\")\n"
   ]
  },
  {
   "cell_type": "code",
   "execution_count": 10,
   "metadata": {},
   "outputs": [
    {
     "output_type": "stream",
     "name": "stdout",
     "text": [
      "[1.0, 2.0, 0.0]\n[0.0, 0.0, 3.0]\n"
     ]
    }
   ],
   "source": [
    "# to_p3(transformation) 通过某种规则 P2 转换到 P3\n",
    "# 如果规则为空，则 (x, y) 转为 (x, y, 0)\n",
    "p = P2(1,2)\n",
    "p3 = p.to_p3()\n",
    "print(p3)\n",
    "\n",
    "# 可以指定一个 P2 到 P3 的函数\n",
    "p3 = p.to_p3(lambda p:P3(z=p.x+p.y))\n",
    "print(p3)"
   ]
  },
  {
   "cell_type": "code",
   "execution_count": 11,
   "metadata": {},
   "outputs": [
    {
     "output_type": "stream",
     "name": "stdout",
     "text": [
      "p=[3.14, 1.0], p_copy=[1.0, 1.0]\n"
     ]
    }
   ],
   "source": [
    "# copy() 拷贝\n",
    "p = P2(1,1)\n",
    "p_copy = p.copy()\n",
    "p.x = 3.14\n",
    "print(f\"p={p}, p_copy={p_copy}\") "
   ]
  },
  {
   "source": [
    "## P3\n",
    "\n",
    "P2 既可以表示三维坐标系中的点 (x, y, z)，也可以表示三维向量 (x, y, z)。它包含一下方便的运算操作\n",
    "\n",
    "- 多种构造方法\n",
    "- 矢量长度、归一化、改变矢量长度\n",
    "- 加法、减法、相反数、自加、自减、乘法（标量乘、内积、**外积**）、相等判断\n",
    "- copy() 拷贝\n",
    "\n",
    "P3 的使用方法基本和 P2 相同，这里只展示构造方法和外积"
   ],
   "cell_type": "markdown",
   "metadata": {}
  },
  {
   "cell_type": "code",
   "execution_count": 12,
   "metadata": {},
   "outputs": [
    {
     "output_type": "stream",
     "name": "stdout",
     "text": [
      "[0.0, 0.0, 0.0] [1.0, 2.0, 0.0] [1.0, 0.0, 4.0] [3.14, 6.28, 1.414]\n[1.0, 0.0, 0.0] [0.0, 4.0, 0.0] [0.0, 0.0, -2.0]\n[0.0, 0.0, 0.0] [0.0, 0.0, 0.0]\n"
     ]
    }
   ],
   "source": [
    "# 构造 P3\n",
    "# 使用构造器\n",
    "p1 = P3()\n",
    "p2 = P3(x=1,y=2)\n",
    "p3 = P3(z=4,x=1)\n",
    "p4 = P3(3.14,6.28,1.414)\n",
    "\n",
    "print(p1,p2,p3,p4)\n",
    "\n",
    "# 使用静态方法\n",
    "p5 = P3.x_direct()\n",
    "p6 = P3.y_direct(4)\n",
    "p7 = P3.z_direct(-2)\n",
    "\n",
    "print(p5,p6,p7)\n",
    "\n",
    "# 两个特殊方法，构造原点和零矢量\n",
    "p8 = P3.origin()\n",
    "p9 = P3.zeros()\n",
    "print(p8,p9)"
   ]
  },
  {
   "cell_type": "code",
   "execution_count": 13,
   "metadata": {},
   "outputs": [
    {
     "output_type": "stream",
     "name": "stdout",
     "text": [
      "x × y = [0.0, 0.0, 1.0]\ny × z = [1.0, 0.0, 0.0]\nz × x = [0.0, 1.0, 0.0] 单位矢量叉乘重要结论\ny × x = [0.0, 0.0, -1.0] 矢量叉乘不满足交换律\n"
     ]
    }
   ],
   "source": [
    "# 三维矢量叉乘，使用符号 @\n",
    "x = P3.x_direct()\n",
    "y = P3.y_direct()\n",
    "z = P3.z_direct()\n",
    "\n",
    "print(f\"x × y = {x@y}\")\n",
    "print(f\"y × z = {y@z}\")\n",
    "print(f\"z × x = {z@x}\",\"单位矢量叉乘重要结论\")\n",
    "\n",
    "print(f\"y × x = {y@x}\",\"矢量叉乘不满足交换律\")"
   ]
  },
  {
   "source": [
    "# BaseUtils 基础工具\n",
    "\n",
    "这个类中有许多基础的函数，便于程序开发\n",
    "\n",
    "- equal() 判断两个对象是否相等，带有容忍误差，同时支持报错处理\n",
    "- linspace()，同 numpy 中用于生成均匀分布的 linspace 方法\n",
    "- angle_to_radian / radian_to_angle 角度和弧度互相转换\n",
    "- circle_center_and_radius(p1,p2,p3) 计算三个点确定的圆，返回(圆心,半径)\n",
    "- polynomial_fitting(xs,ys,order) 多项式拟合\n",
    "- print_traceback 打印函数调用栈（这个主要用于 debug）\n",
    "- Ellipse 椭圆对象。用于生成椭圆圆周上均匀分布的若干点"
   ],
   "cell_type": "markdown",
   "metadata": {}
  },
  {
   "cell_type": "code",
   "execution_count": 14,
   "metadata": {},
   "outputs": [
    {
     "output_type": "stream",
     "name": "stdout",
     "text": [
      "False\nTrue\nTrue\nTrue\n出现错误，1 和 2 不相等\n"
     ]
    }
   ],
   "source": [
    "# equal(a, b, err: float = 1e-6, msg: str = None) 判断两个对象是否相等，带有容忍误差，同时支持报错处理\n",
    "# 判断 a b 是否相等，相等返回 true\n",
    "# 当 a b 不相等时，若 msg 为空，返回 flase，否则抛出异常，异常信息即 msg\n",
    "# err 表示容忍的误差，默认值 1e-6\n",
    "\n",
    "print(BaseUtils.equal(1,2))\n",
    "print(BaseUtils.equal(P2.origin(),P2.zeros()))\n",
    "print(BaseUtils.equal(P3.z_direct(),P3(z=1)))\n",
    "\n",
    "print(BaseUtils.equal(3.14, math.pi, err=0.01))\n",
    "\n",
    "a = 1; b = 2\n",
    "try:\n",
    "    print(BaseUtils.equal(a,b,msg=f\"出现错误，{a} 和 {b} 不相等\"))\n",
    "except AssertionError as ae:\n",
    "    print(ae)\n"
   ]
  },
  {
   "cell_type": "code",
   "execution_count": 15,
   "metadata": {},
   "outputs": [
    {
     "output_type": "stream",
     "name": "stdout",
     "text": [
      "[0.0, 0.25, 0.5, 0.75, 1.0]\n[[0.0, 0.0], [0.25, 0.0], [0.5, 0.0], [0.75, 0.0], [1.0, 0.0]]\n[[0.0, 0.0, 1.0], [0.0, 0.0, 0.5], [0.0, 0.0, 0.0]]\n"
     ]
    }
   ],
   "source": [
    "# linspace(start, end, number: int)，同 numpy 中用于生成均匀分布的 linspace 方法\n",
    "\n",
    "print(BaseUtils.linspace(0, 1, 5))\n",
    "print(BaseUtils.linspace(P2(), P2(x=1), 5))\n",
    "print(BaseUtils.linspace(P3(z=1), P3(), 3))"
   ]
  },
  {
   "cell_type": "code",
   "execution_count": 16,
   "metadata": {},
   "outputs": [
    {
     "output_type": "stream",
     "name": "stdout",
     "text": [
      "3.141592653589793\n[18.0, 36.0, 59.99999999999999]\n"
     ]
    }
   ],
   "source": [
    "# angle_to_radian(deg)\n",
    "# radian_to_angle(rad)\n",
    "# 角度和弧度互相转化，支持列表\n",
    "\n",
    "print(BaseUtils.angle_to_radian(180))\n",
    "print(BaseUtils.radian_to_angle([math.pi/10,math.pi/5,math.pi/3]))"
   ]
  },
  {
   "cell_type": "code",
   "execution_count": 17,
   "metadata": {},
   "outputs": [
    {
     "output_type": "stream",
     "name": "stdout",
     "text": [
      "圆心=[5.875, 2.0],半径=2.125\n"
     ]
    },
    {
     "output_type": "display_data",
     "data": {
      "text/plain": "<Figure size 432x288 with 1 Axes>",
      "image/svg+xml": "<?xml version=\"1.0\" encoding=\"utf-8\" standalone=\"no\"?>\r\n<!DOCTYPE svg PUBLIC \"-//W3C//DTD SVG 1.1//EN\"\r\n  \"http://www.w3.org/Graphics/SVG/1.1/DTD/svg11.dtd\">\r\n<!-- Created with matplotlib (https://matplotlib.org/) -->\r\n<svg height=\"246.965pt\" version=\"1.1\" viewBox=\"0 0 361.2 246.965\" width=\"361.2pt\" xmlns=\"http://www.w3.org/2000/svg\" xmlns:xlink=\"http://www.w3.org/1999/xlink\">\r\n <metadata>\r\n  <rdf:RDF xmlns:cc=\"http://creativecommons.org/ns#\" xmlns:dc=\"http://purl.org/dc/elements/1.1/\" xmlns:rdf=\"http://www.w3.org/1999/02/22-rdf-syntax-ns#\">\r\n   <cc:Work>\r\n    <dc:type rdf:resource=\"http://purl.org/dc/dcmitype/StillImage\"/>\r\n    <dc:date>2020-12-02T17:00:32.048800</dc:date>\r\n    <dc:format>image/svg+xml</dc:format>\r\n    <dc:creator>\r\n     <cc:Agent>\r\n      <dc:title>Matplotlib v3.3.3, https://matplotlib.org/</dc:title>\r\n     </cc:Agent>\r\n    </dc:creator>\r\n   </cc:Work>\r\n  </rdf:RDF>\r\n </metadata>\r\n <defs>\r\n  <style type=\"text/css\">*{stroke-linecap:butt;stroke-linejoin:round;}</style>\r\n </defs>\r\n <g id=\"figure_1\">\r\n  <g id=\"patch_1\">\r\n   <path d=\"M 0 246.965 \r\nL 361.2 246.965 \r\nL 361.2 0 \r\nL 0 0 \r\nz\r\n\" style=\"fill:none;\"/>\r\n  </g>\r\n  <g id=\"axes_1\">\r\n   <g id=\"patch_2\">\r\n    <path d=\"M 19.2 224.64 \r\nL 354 224.64 \r\nL 354 7.2 \r\nL 19.2 7.2 \r\nz\r\n\" style=\"fill:#ffffff;\"/>\r\n   </g>\r\n   <g id=\"matplotlib.axis_1\">\r\n    <g id=\"xtick_1\">\r\n     <g id=\"line2d_1\">\r\n      <defs>\r\n       <path d=\"M 0 0 \r\nL 0 3.5 \r\n\" id=\"m1ccea721a5\" style=\"stroke:#000000;stroke-width:0.8;\"/>\r\n      </defs>\r\n      <g>\r\n       <use style=\"stroke:#000000;stroke-width:0.8;\" x=\"52.880214\" xlink:href=\"#m1ccea721a5\" y=\"224.64\"/>\r\n      </g>\r\n     </g>\r\n     <g id=\"text_1\">\r\n      <!-- 3 -->\r\n      <g transform=\"translate(50.380214 238.515)scale(0.1 -0.1)\">\r\n       <defs>\r\n        <path d=\"M 3.90625 19.140625 \r\nL 10.9375 20.3125 \r\nQ 12.5 15.234375 16.015625 11.90625 \r\nQ 19.53125 8.59375 24.796875 8.78125 \r\nQ 30.078125 8.984375 33.203125 13.078125 \r\nQ 36.328125 17.1875 35.9375 22.453125 \r\nQ 35.546875 27.734375 31.828125 30.65625 \r\nQ 28.125 33.59375 19.921875 34.765625 \r\nL 19.921875 39.84375 \r\nQ 28.125 40.625 31.828125 44.140625 \r\nQ 35.546875 47.65625 35.15625 53.3125 \r\nQ 34.765625 58.984375 30.078125 61.515625 \r\nQ 25.390625 64.0625 20.109375 62.109375 \r\nQ 14.84375 60.15625 11.71875 51.171875 \r\nL 4.6875 52.34375 \r\nQ 7.03125 59.375 11.125 64.0625 \r\nQ 15.234375 68.75 22.265625 69.53125 \r\nQ 29.296875 70.3125 34.5625 67.765625 \r\nQ 39.84375 65.234375 41.984375 59.953125 \r\nQ 44.140625 54.6875 42.578125 48.4375 \r\nQ 41.015625 42.1875 33.59375 37.5 \r\nQ 39.0625 35.15625 41.984375 30.46875 \r\nQ 44.921875 25.78125 43.9375 18.15625 \r\nQ 42.96875 10.546875 37.109375 5.859375 \r\nQ 31.25 1.171875 23.828125 1.359375 \r\nQ 16.40625 1.5625 10.9375 6.046875 \r\nQ 5.46875 10.546875 3.90625 19.140625 \r\nz\r\n\" id=\"SimHei-51\"/>\r\n       </defs>\r\n       <use xlink:href=\"#SimHei-51\"/>\r\n      </g>\r\n     </g>\r\n    </g>\r\n    <g id=\"xtick_2\">\r\n     <g id=\"line2d_2\">\r\n      <g>\r\n       <use style=\"stroke:#000000;stroke-width:0.8;\" x=\"99.391444\" xlink:href=\"#m1ccea721a5\" y=\"224.64\"/>\r\n      </g>\r\n     </g>\r\n     <g id=\"text_2\">\r\n      <!-- 4 -->\r\n      <g transform=\"translate(96.891444 238.515)scale(0.1 -0.1)\">\r\n       <defs>\r\n        <path d=\"M 31.25 17.1875 \r\nL 1.171875 17.1875 \r\nL 1.171875 23.828125 \r\nL 32.8125 69.53125 \r\nL 38.671875 69.53125 \r\nL 38.671875 23.828125 \r\nL 48.046875 23.828125 \r\nL 48.046875 17.1875 \r\nL 38.671875 17.1875 \r\nL 38.671875 2.34375 \r\nL 31.25 2.34375 \r\nz\r\nM 31.25 23.828125 \r\nL 31.25 54.6875 \r\nL 9.375 23.828125 \r\nz\r\n\" id=\"SimHei-52\"/>\r\n       </defs>\r\n       <use xlink:href=\"#SimHei-52\"/>\r\n      </g>\r\n     </g>\r\n    </g>\r\n    <g id=\"xtick_3\">\r\n     <g id=\"line2d_3\">\r\n      <g>\r\n       <use style=\"stroke:#000000;stroke-width:0.8;\" x=\"145.902674\" xlink:href=\"#m1ccea721a5\" y=\"224.64\"/>\r\n      </g>\r\n     </g>\r\n     <g id=\"text_3\">\r\n      <!-- 5 -->\r\n      <g transform=\"translate(143.402674 238.515)scale(0.1 -0.1)\">\r\n       <defs>\r\n        <path d=\"M 8.59375 20.703125 \r\nQ 11.328125 10.15625 17.96875 8.984375 \r\nQ 24.609375 7.8125 28.703125 10.34375 \r\nQ 32.8125 12.890625 34.5625 16.984375 \r\nQ 36.328125 21.09375 36.125 26.171875 \r\nQ 35.9375 31.25 33.390625 34.765625 \r\nQ 30.859375 38.28125 26.953125 39.453125 \r\nQ 23.046875 40.625 18.15625 39.453125 \r\nQ 13.28125 38.28125 10.15625 33.984375 \r\nL 3.515625 34.765625 \r\nQ 4.296875 37.109375 10.9375 68.359375 \r\nL 41.796875 68.359375 \r\nL 41.796875 61.328125 \r\nL 16.796875 61.328125 \r\nQ 14.84375 50.78125 12.890625 44.53125 \r\nQ 18.75 47.265625 23.828125 47.0625 \r\nQ 28.90625 46.875 33.59375 44.71875 \r\nQ 38.28125 42.578125 40.421875 38.859375 \r\nQ 42.578125 35.15625 43.546875 31.4375 \r\nQ 44.53125 27.734375 44.328125 23.4375 \r\nQ 44.140625 19.140625 42.578125 14.640625 \r\nQ 41.015625 10.15625 37.890625 7.21875 \r\nQ 34.765625 4.296875 30.265625 2.53125 \r\nQ 25.78125 0.78125 19.921875 1.171875 \r\nQ 14.0625 1.5625 8.78125 5.46875 \r\nQ 3.515625 9.375 1.5625 18.75 \r\nz\r\n\" id=\"SimHei-53\"/>\r\n       </defs>\r\n       <use xlink:href=\"#SimHei-53\"/>\r\n      </g>\r\n     </g>\r\n    </g>\r\n    <g id=\"xtick_4\">\r\n     <g id=\"line2d_4\">\r\n      <g>\r\n       <use style=\"stroke:#000000;stroke-width:0.8;\" x=\"192.413904\" xlink:href=\"#m1ccea721a5\" y=\"224.64\"/>\r\n      </g>\r\n     </g>\r\n     <g id=\"text_4\">\r\n      <!-- 6 -->\r\n      <g transform=\"translate(189.913904 238.515)scale(0.1 -0.1)\">\r\n       <defs>\r\n        <path d=\"M 3.515625 19.53125 \r\nQ 4.296875 30.859375 6.046875 34.765625 \r\nQ 7.8125 38.671875 11.328125 44.53125 \r\nL 27.34375 69.53125 \r\nL 36.328125 69.53125 \r\nL 19.921875 43.75 \r\nQ 30.46875 46.484375 36.71875 42.96875 \r\nQ 42.96875 39.453125 45.109375 34.953125 \r\nQ 47.265625 30.46875 47.453125 25.1875 \r\nQ 47.65625 19.921875 45.890625 14.84375 \r\nQ 44.140625 9.765625 39.640625 5.65625 \r\nQ 35.15625 1.5625 27.140625 1.171875 \r\nQ 19.140625 0.78125 13.46875 4.09375 \r\nQ 7.8125 7.421875 5.65625 13.46875 \r\nQ 3.515625 19.53125 4.296875 30.859375 \r\nz\r\nM 12.5 16.015625 \r\nQ 19.53125 8.59375 25.390625 8.203125 \r\nQ 31.25 7.8125 35.15625 12.109375 \r\nQ 39.0625 16.40625 39.0625 24.609375 \r\nQ 39.0625 32.8125 34.171875 35.9375 \r\nQ 29.296875 39.0625 23.234375 38.28125 \r\nQ 17.1875 37.5 14.453125 32.421875 \r\nQ 11.71875 27.34375 12.109375 21.671875 \r\nQ 12.5 16.015625 19.53125 8.59375 \r\nz\r\n\" id=\"SimHei-54\"/>\r\n       </defs>\r\n       <use xlink:href=\"#SimHei-54\"/>\r\n      </g>\r\n     </g>\r\n    </g>\r\n    <g id=\"xtick_5\">\r\n     <g id=\"line2d_5\">\r\n      <g>\r\n       <use style=\"stroke:#000000;stroke-width:0.8;\" x=\"238.925134\" xlink:href=\"#m1ccea721a5\" y=\"224.64\"/>\r\n      </g>\r\n     </g>\r\n     <g id=\"text_5\">\r\n      <!-- 7 -->\r\n      <g transform=\"translate(236.425134 238.515)scale(0.1 -0.1)\">\r\n       <defs>\r\n        <path d=\"M 13.28125 2.34375 \r\nQ 20.3125 32.03125 37.890625 61.328125 \r\nL 4.296875 61.328125 \r\nL 4.296875 68.359375 \r\nL 46.09375 68.359375 \r\nL 46.09375 61.71875 \r\nQ 27.734375 32.03125 21.875 2.34375 \r\nL 13.28125 2.34375 \r\nz\r\n\" id=\"SimHei-55\"/>\r\n       </defs>\r\n       <use xlink:href=\"#SimHei-55\"/>\r\n      </g>\r\n     </g>\r\n    </g>\r\n    <g id=\"xtick_6\">\r\n     <g id=\"line2d_6\">\r\n      <g>\r\n       <use style=\"stroke:#000000;stroke-width:0.8;\" x=\"285.436364\" xlink:href=\"#m1ccea721a5\" y=\"224.64\"/>\r\n      </g>\r\n     </g>\r\n     <g id=\"text_6\">\r\n      <!-- 8 -->\r\n      <g transform=\"translate(282.936364 238.515)scale(0.1 -0.1)\">\r\n       <defs>\r\n        <path d=\"M 2.734375 16.796875 \r\nQ 2.734375 26.171875 5.078125 30.65625 \r\nQ 7.421875 35.15625 12.890625 37.890625 \r\nQ 8.203125 40.625 6.640625 43.9375 \r\nQ 5.078125 47.265625 4.875 51.5625 \r\nQ 4.6875 55.859375 6.046875 58.984375 \r\nQ 7.421875 62.109375 10.15625 64.84375 \r\nQ 12.890625 67.578125 16.203125 68.546875 \r\nQ 19.53125 69.53125 23.4375 69.53125 \r\nQ 27.34375 69.53125 30.46875 68.75 \r\nQ 33.59375 67.96875 37.109375 65.421875 \r\nQ 40.625 62.890625 42.1875 58.203125 \r\nQ 43.75 53.515625 41.984375 47.265625 \r\nQ 40.234375 41.015625 32.8125 37.5 \r\nQ 39.453125 35.546875 42.1875 31.4375 \r\nQ 44.921875 27.34375 44.921875 21.484375 \r\nQ 44.921875 15.625 43.15625 12.109375 \r\nQ 41.40625 8.59375 39.25 6.25 \r\nQ 37.109375 3.90625 33.390625 2.53125 \r\nQ 29.6875 1.171875 24.015625 1.171875 \r\nQ 18.359375 1.171875 14.25 2.53125 \r\nQ 10.15625 3.90625 7.421875 6.640625 \r\nQ 4.6875 9.375 3.703125 13.078125 \r\nQ 2.734375 16.796875 2.734375 26.171875 \r\nz\r\nM 10.9375 26.5625 \r\nQ 10.546875 17.1875 12.296875 13.671875 \r\nQ 14.0625 10.15625 18.75 9.171875 \r\nQ 23.4375 8.203125 28.515625 9.375 \r\nQ 33.59375 10.546875 35.546875 14.84375 \r\nQ 37.5 19.140625 36.90625 23.4375 \r\nQ 36.328125 27.734375 32.03125 30.65625 \r\nQ 27.734375 33.59375 22.65625 33.203125 \r\nQ 17.578125 32.8125 14.25 29.6875 \r\nQ 10.9375 26.5625 10.546875 17.1875 \r\nz\r\nM 12.109375 56.25 \r\nQ 12.109375 48.4375 14.84375 44.921875 \r\nQ 17.578125 41.40625 23.4375 41.40625 \r\nQ 29.296875 41.40625 32.21875 44.921875 \r\nQ 35.15625 48.4375 34.953125 53.3125 \r\nQ 34.765625 58.203125 31.4375 60.546875 \r\nQ 28.125 62.890625 22.453125 62.5 \r\nQ 16.796875 62.109375 14.453125 59.171875 \r\nQ 12.109375 56.25 12.109375 48.4375 \r\nz\r\n\" id=\"SimHei-56\"/>\r\n       </defs>\r\n       <use xlink:href=\"#SimHei-56\"/>\r\n      </g>\r\n     </g>\r\n    </g>\r\n    <g id=\"xtick_7\">\r\n     <g id=\"line2d_7\">\r\n      <g>\r\n       <use style=\"stroke:#000000;stroke-width:0.8;\" x=\"331.947594\" xlink:href=\"#m1ccea721a5\" y=\"224.64\"/>\r\n      </g>\r\n     </g>\r\n     <g id=\"text_7\">\r\n      <!-- 9 -->\r\n      <g transform=\"translate(329.447594 238.515)scale(0.1 -0.1)\">\r\n       <defs>\r\n        <path d=\"M 12.5 1.171875 \r\nQ 21.09375 15.625 26.5625 27.34375 \r\nQ 16.796875 25.78125 10.34375 29.875 \r\nQ 3.90625 33.984375 2.53125 41.015625 \r\nQ 1.171875 48.046875 2.734375 53.703125 \r\nQ 4.296875 59.375 7.609375 63.078125 \r\nQ 10.9375 66.796875 15.625 68.359375 \r\nQ 20.3125 69.921875 24.015625 69.921875 \r\nQ 27.734375 69.921875 31.640625 68.359375 \r\nQ 35.546875 66.796875 38.671875 63.671875 \r\nQ 41.796875 60.546875 42.96875 57.21875 \r\nQ 44.140625 53.90625 44.140625 48.625 \r\nQ 44.140625 43.359375 40.234375 35.15625 \r\nQ 36.328125 26.953125 21.09375 1.171875 \r\nz\r\nM 9.765625 50 \r\nQ 10.9375 39.84375 14.640625 36.515625 \r\nQ 18.359375 33.203125 22.65625 33.59375 \r\nQ 26.953125 33.984375 29.484375 35.9375 \r\nQ 32.03125 37.890625 34.375 42.578125 \r\nQ 35.9375 48.4375 35.15625 52.53125 \r\nQ 34.375 56.640625 31.046875 59.375 \r\nQ 27.734375 62.109375 23.828125 62.109375 \r\nQ 21.484375 62.5 17.765625 60.9375 \r\nQ 14.0625 59.375 11.90625 54.6875 \r\nQ 9.765625 50 10.9375 39.84375 \r\nz\r\n\" id=\"SimHei-57\"/>\r\n       </defs>\r\n       <use xlink:href=\"#SimHei-57\"/>\r\n      </g>\r\n     </g>\r\n    </g>\r\n   </g>\r\n   <g id=\"matplotlib.axis_2\">\r\n    <g id=\"ytick_1\">\r\n     <g id=\"line2d_8\">\r\n      <defs>\r\n       <path d=\"M 0 0 \r\nL -3.5 0 \r\n\" id=\"m423643d595\" style=\"stroke:#000000;stroke-width:0.8;\"/>\r\n      </defs>\r\n      <g>\r\n       <use style=\"stroke:#000000;stroke-width:0.8;\" x=\"19.2\" xlink:href=\"#m423643d595\" y=\"208.94246\"/>\r\n      </g>\r\n     </g>\r\n     <g id=\"text_8\">\r\n      <!-- 0 -->\r\n      <g transform=\"translate(7.2 212.37996)scale(0.1 -0.1)\">\r\n       <defs>\r\n        <path d=\"M 3.125 29.296875 \r\nQ 3.90625 50 6.4375 56.046875 \r\nQ 8.984375 62.109375 13.671875 66.015625 \r\nQ 18.359375 69.921875 25.1875 69.921875 \r\nQ 32.03125 69.921875 37.109375 64.25 \r\nQ 42.1875 58.59375 43.75 50 \r\nQ 45.3125 41.40625 44.71875 30.265625 \r\nQ 44.140625 19.140625 40.8125 12.109375 \r\nQ 37.5 5.078125 30.859375 2.34375 \r\nQ 24.21875 -0.390625 17.578125 2.921875 \r\nQ 10.9375 6.25 8.203125 11.71875 \r\nQ 5.46875 17.1875 4.296875 23.234375 \r\nQ 3.125 29.296875 3.90625 50 \r\nz\r\nM 12.890625 52.734375 \r\nQ 10.546875 31.25 12.5 22.84375 \r\nQ 14.453125 14.453125 18.9375 10.9375 \r\nQ 23.4375 7.421875 28.125 9.5625 \r\nQ 32.8125 11.71875 34.953125 18.15625 \r\nQ 37.109375 24.609375 37.109375 32.21875 \r\nQ 37.109375 39.84375 36.515625 46.09375 \r\nQ 35.9375 52.34375 33 57.421875 \r\nQ 30.078125 62.5 25.1875 62.6875 \r\nQ 20.3125 62.890625 16.59375 57.8125 \r\nQ 12.890625 52.734375 10.546875 31.25 \r\nz\r\n\" id=\"SimHei-48\"/>\r\n       </defs>\r\n       <use xlink:href=\"#SimHei-48\"/>\r\n      </g>\r\n     </g>\r\n    </g>\r\n    <g id=\"ytick_2\">\r\n     <g id=\"line2d_9\">\r\n      <g>\r\n       <use style=\"stroke:#000000;stroke-width:0.8;\" x=\"19.2\" xlink:href=\"#m423643d595\" y=\"162.43123\"/>\r\n      </g>\r\n     </g>\r\n     <g id=\"text_9\">\r\n      <!-- 1 -->\r\n      <g transform=\"translate(7.2 165.86873)scale(0.1 -0.1)\">\r\n       <defs>\r\n        <path d=\"M 21.875 56.25 \r\nQ 16.796875 51.171875 8.984375 46.484375 \r\nL 8.984375 53.90625 \r\nQ 18.75 60.546875 25 69.53125 \r\nL 29.6875 69.53125 \r\nL 29.6875 2.34375 \r\nL 21.875 2.34375 \r\nz\r\n\" id=\"SimHei-49\"/>\r\n       </defs>\r\n       <use xlink:href=\"#SimHei-49\"/>\r\n      </g>\r\n     </g>\r\n    </g>\r\n    <g id=\"ytick_3\">\r\n     <g id=\"line2d_10\">\r\n      <g>\r\n       <use style=\"stroke:#000000;stroke-width:0.8;\" x=\"19.2\" xlink:href=\"#m423643d595\" y=\"115.92\"/>\r\n      </g>\r\n     </g>\r\n     <g id=\"text_10\">\r\n      <!-- 2 -->\r\n      <g transform=\"translate(7.2 119.3575)scale(0.1 -0.1)\">\r\n       <defs>\r\n        <path d=\"M 4.6875 3.90625 \r\nQ 5.078125 9.765625 10.15625 14.453125 \r\nQ 15.234375 19.140625 23.046875 29.09375 \r\nQ 30.859375 39.0625 33.203125 44.53125 \r\nQ 35.546875 50 34.953125 53.90625 \r\nQ 34.375 57.8125 31.25 60.34375 \r\nQ 28.125 62.890625 24.015625 62.5 \r\nQ 19.921875 62.109375 16.203125 59.375 \r\nQ 12.5 56.640625 10.546875 51.171875 \r\nL 3.125 52.34375 \r\nQ 6.25 61.328125 11.125 65.421875 \r\nQ 16.015625 69.53125 22.65625 69.921875 \r\nQ 26.5625 70.3125 29.6875 69.71875 \r\nQ 32.8125 69.140625 36.125 66.984375 \r\nQ 39.453125 64.84375 41.59375 60.546875 \r\nQ 43.75 56.25 43.15625 50.1875 \r\nQ 42.578125 44.140625 37.109375 35.734375 \r\nQ 31.640625 27.34375 16.015625 9.375 \r\nL 44.140625 9.375 \r\nL 44.140625 2.34375 \r\nL 4.6875 2.34375 \r\nz\r\n\" id=\"SimHei-50\"/>\r\n       </defs>\r\n       <use xlink:href=\"#SimHei-50\"/>\r\n      </g>\r\n     </g>\r\n    </g>\r\n    <g id=\"ytick_4\">\r\n     <g id=\"line2d_11\">\r\n      <g>\r\n       <use style=\"stroke:#000000;stroke-width:0.8;\" x=\"19.2\" xlink:href=\"#m423643d595\" y=\"69.40877\"/>\r\n      </g>\r\n     </g>\r\n     <g id=\"text_11\">\r\n      <!-- 3 -->\r\n      <g transform=\"translate(7.2 72.84627)scale(0.1 -0.1)\">\r\n       <use xlink:href=\"#SimHei-51\"/>\r\n      </g>\r\n     </g>\r\n    </g>\r\n    <g id=\"ytick_5\">\r\n     <g id=\"line2d_12\">\r\n      <g>\r\n       <use style=\"stroke:#000000;stroke-width:0.8;\" x=\"19.2\" xlink:href=\"#m423643d595\" y=\"22.89754\"/>\r\n      </g>\r\n     </g>\r\n     <g id=\"text_12\">\r\n      <!-- 4 -->\r\n      <g transform=\"translate(7.2 26.33504)scale(0.1 -0.1)\">\r\n       <use xlink:href=\"#SimHei-52\"/>\r\n      </g>\r\n     </g>\r\n    </g>\r\n   </g>\r\n   <g id=\"line2d_13\">\r\n    <path clip-path=\"url(#p14b11d48ce)\" d=\"M 285.436364 115.92 \r\nL 285.300912 110.747304 \r\nL 284.894928 105.588787 \r\nL 284.219524 100.458586 \r\nL 283.276552 95.370765 \r\nL 282.068596 90.339267 \r\nL 280.598968 85.377884 \r\nL 278.871695 80.500215 \r\nL 276.891511 75.719629 \r\nL 274.663845 71.04923 \r\nL 272.194802 66.501818 \r\nL 269.491149 62.089858 \r\nL 266.560298 57.825443 \r\nL 263.410281 53.720261 \r\nL 260.049732 49.785564 \r\nL 256.487863 46.032137 \r\nL 252.734436 42.470268 \r\nL 248.799739 39.109719 \r\nL 244.694557 35.959702 \r\nL 240.430142 33.028851 \r\nL 236.018182 30.325198 \r\nL 231.47077 27.856155 \r\nL 226.800371 25.628489 \r\nL 222.019785 23.648305 \r\nL 217.142116 21.921032 \r\nL 212.180733 20.451404 \r\nL 207.149235 19.243448 \r\nL 202.061414 18.300476 \r\nL 196.931213 17.625072 \r\nL 191.772696 17.219088 \r\nL 186.6 17.083636 \r\nL 181.427304 17.219088 \r\nL 176.268787 17.625072 \r\nL 171.138586 18.300476 \r\nL 166.050765 19.243448 \r\nL 161.019267 20.451404 \r\nL 156.057884 21.921032 \r\nL 151.180215 23.648305 \r\nL 146.399629 25.628489 \r\nL 141.72923 27.856155 \r\nL 137.181818 30.325198 \r\nL 132.769858 33.028851 \r\nL 128.505443 35.959702 \r\nL 124.400261 39.109719 \r\nL 120.465564 42.470268 \r\nL 116.712137 46.032137 \r\nL 113.150268 49.785564 \r\nL 109.789719 53.720261 \r\nL 106.639702 57.825443 \r\nL 103.708851 62.089858 \r\nL 101.005198 66.501818 \r\nL 98.536155 71.04923 \r\nL 96.308489 75.719629 \r\nL 94.328305 80.500215 \r\nL 92.601032 85.377884 \r\nL 91.131404 90.339267 \r\nL 89.923448 95.370765 \r\nL 88.980476 100.458586 \r\nL 88.305072 105.588787 \r\nL 87.899088 110.747304 \r\nL 87.763636 115.92 \r\nL 87.899088 121.092696 \r\nL 88.305072 126.251213 \r\nL 88.980476 131.381414 \r\nL 89.923448 136.469235 \r\nL 91.131404 141.500733 \r\nL 92.601032 146.462116 \r\nL 94.328305 151.339785 \r\nL 96.308489 156.120371 \r\nL 98.536155 160.79077 \r\nL 101.005198 165.338182 \r\nL 103.708851 169.750142 \r\nL 106.639702 174.014557 \r\nL 109.789719 178.119739 \r\nL 113.150268 182.054436 \r\nL 116.712137 185.807863 \r\nL 120.465564 189.369732 \r\nL 124.400261 192.730281 \r\nL 128.505443 195.880298 \r\nL 132.769858 198.811149 \r\nL 137.181818 201.514802 \r\nL 141.72923 203.983845 \r\nL 146.399629 206.211511 \r\nL 151.180215 208.191695 \r\nL 156.057884 209.918968 \r\nL 161.019267 211.388596 \r\nL 166.050765 212.596552 \r\nL 171.138586 213.539524 \r\nL 176.268787 214.214928 \r\nL 181.427304 214.620912 \r\nL 186.6 214.756364 \r\nL 191.772696 214.620912 \r\nL 196.931213 214.214928 \r\nL 202.061414 213.539524 \r\nL 207.149235 212.596552 \r\nL 212.180733 211.388596 \r\nL 217.142116 209.918968 \r\nL 222.019785 208.191695 \r\nL 226.800371 206.211511 \r\nL 231.47077 203.983845 \r\nL 236.018182 201.514802 \r\nL 240.430142 198.811149 \r\nL 244.694557 195.880298 \r\nL 248.799739 192.730281 \r\nL 252.734436 189.369732 \r\nL 256.487863 185.807863 \r\nL 260.049732 182.054436 \r\nL 263.410281 178.119739 \r\nL 266.560298 174.014557 \r\nL 269.491149 169.750142 \r\nL 272.194802 165.338182 \r\nL 274.663845 160.79077 \r\nL 276.891511 156.120371 \r\nL 278.871695 151.339785 \r\nL 280.598968 146.462116 \r\nL 282.068596 141.500733 \r\nL 283.276552 136.469235 \r\nL 284.219524 131.381414 \r\nL 284.894928 126.251213 \r\nL 285.300912 121.092696 \r\nL 285.436364 115.92 \r\nL 285.436364 115.92 \r\n\" style=\"fill:none;stroke:#0000ff;stroke-linecap:square;stroke-width:1.5;\"/>\r\n   </g>\r\n   <g id=\"line2d_14\">\r\n    <defs>\r\n     <path d=\"M 0 1.5 \r\nC 0.397805 1.5 0.77937 1.341951 1.06066 1.06066 \r\nC 1.341951 0.77937 1.5 0.397805 1.5 0 \r\nC 1.5 -0.397805 1.341951 -0.77937 1.06066 -1.06066 \r\nC 0.77937 -1.341951 0.397805 -1.5 0 -1.5 \r\nC -0.397805 -1.5 -0.77937 -1.341951 -1.06066 -1.06066 \r\nC -1.341951 -0.77937 -1.5 -0.397805 -1.5 0 \r\nC -1.5 0.397805 -1.341951 0.77937 -1.06066 1.06066 \r\nC -0.77937 1.341951 -0.397805 1.5 0 1.5 \r\nz\r\n\" id=\"mf553c4fd93\" style=\"stroke:#ff0000;\"/>\r\n    </defs>\r\n    <g clip-path=\"url(#p14b11d48ce)\">\r\n     <use style=\"fill:#ff0000;stroke:#ff0000;\" x=\"99.391444\" xlink:href=\"#mf553c4fd93\" y=\"69.40877\"/>\r\n    </g>\r\n   </g>\r\n   <g id=\"line2d_15\">\r\n    <g clip-path=\"url(#p14b11d48ce)\">\r\n     <use style=\"fill:#ff0000;stroke:#ff0000;\" x=\"99.391444\" xlink:href=\"#mf553c4fd93\" y=\"162.43123\"/>\r\n    </g>\r\n   </g>\r\n   <g id=\"line2d_16\">\r\n    <g clip-path=\"url(#p14b11d48ce)\">\r\n     <use style=\"fill:#ff0000;stroke:#ff0000;\" x=\"285.436364\" xlink:href=\"#mf553c4fd93\" y=\"115.92\"/>\r\n    </g>\r\n   </g>\r\n   <g id=\"line2d_17\">\r\n    <defs>\r\n     <path d=\"M 0 1.5 \r\nC 0.397805 1.5 0.77937 1.341951 1.06066 1.06066 \r\nC 1.341951 0.77937 1.5 0.397805 1.5 0 \r\nC 1.5 -0.397805 1.341951 -0.77937 1.06066 -1.06066 \r\nC 0.77937 -1.341951 0.397805 -1.5 0 -1.5 \r\nC -0.397805 -1.5 -0.77937 -1.341951 -1.06066 -1.06066 \r\nC -1.341951 -0.77937 -1.5 -0.397805 -1.5 0 \r\nC -1.5 0.397805 -1.341951 0.77937 -1.06066 1.06066 \r\nC -0.77937 1.341951 -0.397805 1.5 0 1.5 \r\nz\r\n\" id=\"m53a21a8f79\" style=\"stroke:#000000;\"/>\r\n    </defs>\r\n    <g clip-path=\"url(#p14b11d48ce)\">\r\n     <use style=\"stroke:#000000;\" x=\"186.6\" xlink:href=\"#m53a21a8f79\" y=\"115.92\"/>\r\n    </g>\r\n   </g>\r\n   <g id=\"patch_3\">\r\n    <path d=\"M 19.2 224.64 \r\nL 19.2 7.2 \r\n\" style=\"fill:none;stroke:#000000;stroke-linecap:square;stroke-linejoin:miter;stroke-width:0.8;\"/>\r\n   </g>\r\n   <g id=\"patch_4\">\r\n    <path d=\"M 354 224.64 \r\nL 354 7.2 \r\n\" style=\"fill:none;stroke:#000000;stroke-linecap:square;stroke-linejoin:miter;stroke-width:0.8;\"/>\r\n   </g>\r\n   <g id=\"patch_5\">\r\n    <path d=\"M 19.2 224.64 \r\nL 354 224.64 \r\n\" style=\"fill:none;stroke:#000000;stroke-linecap:square;stroke-linejoin:miter;stroke-width:0.8;\"/>\r\n   </g>\r\n   <g id=\"patch_6\">\r\n    <path d=\"M 19.2 7.2 \r\nL 354 7.2 \r\n\" style=\"fill:none;stroke:#000000;stroke-linecap:square;stroke-linejoin:miter;stroke-width:0.8;\"/>\r\n   </g>\r\n  </g>\r\n </g>\r\n <defs>\r\n  <clipPath id=\"p14b11d48ce\">\r\n   <rect height=\"217.44\" width=\"334.8\" x=\"19.2\" y=\"7.2\"/>\r\n  </clipPath>\r\n </defs>\r\n</svg>\r\n",
      "image/png": "[encoded data removed]"
     },
     "metadata": {
      "needs_background": "light"
     }
    }
   ],
   "source": [
    "# circle_center_and_radius(p1,p2,p3) 计算三个点确定的圆，返回(圆心,半径)\n",
    "p1 = P2(4,3)\n",
    "p2 = P2(4,1)\n",
    "p3 = P2(8,2)\n",
    "\n",
    "center,r = BaseUtils.circle_center_and_radius(p1,p2,p3)\n",
    "print(f\"圆心={center},半径={r}\")\n",
    "\n",
    "circle = [center + r*P2(math.cos(t),math.sin(t)) for t in BaseUtils.linspace(0,2*math.pi,361)]\n",
    "\n",
    "Plot2.plot_p2s(circle,'b-')\n",
    "Plot2.plot_p2(p1,'r.')\n",
    "Plot2.plot_p2(p2,'r.')\n",
    "Plot2.plot_p2(p3,'r.')\n",
    "Plot2.plot_p2(center,'k.')\n",
    "Plot2.equal()\n",
    "# Plot2.show()\n",
    "\n"
   ]
  },
  {
   "cell_type": "code",
   "execution_count": 18,
   "metadata": {},
   "outputs": [
    {
     "output_type": "stream",
     "name": "stdout",
     "text": [
      "[1.9992020766841778, 3.0003897026081354, 3.9998459070899175]\n"
     ]
    }
   ],
   "source": [
    "# polynomial_fitting(xs,ys,order) 多项式拟合\n",
    "xs = numpy.linspace(0,10,11)\n",
    "ys = 4*xs**2 + 3*xs + 2 + numpy.random.randn(11)*0.01\n",
    "\n",
    "coefficient = BaseUtils.polynomial_fitting(xs, ys, 2)\n",
    "\n",
    "# 返回值是一个数组，下标 i 的项是第 i 阶系数\n",
    "print(coefficient)"
   ]
  },
  {
   "cell_type": "code",
   "execution_count": 19,
   "metadata": {},
   "outputs": [
    {
     "output_type": "display_data",
     "data": {
      "text/plain": "<Figure size 432x288 with 1 Axes>",
      "image/svg+xml": "<?xml version=\"1.0\" encoding=\"utf-8\" standalone=\"no\"?>\r\n<!DOCTYPE svg PUBLIC \"-//W3C//DTD SVG 1.1//EN\"\r\n  \"http://www.w3.org/Graphics/SVG/1.1/DTD/svg11.dtd\">\r\n<!-- Created with matplotlib (https://matplotlib.org/) -->\r\n<svg height=\"247.108139pt\" version=\"1.1\" viewBox=\"0 0 386.2 247.108139\" width=\"386.2pt\" xmlns=\"http://www.w3.org/2000/svg\" xmlns:xlink=\"http://www.w3.org/1999/xlink\">\r\n <metadata>\r\n  <rdf:RDF xmlns:cc=\"http://creativecommons.org/ns#\" xmlns:dc=\"http://purl.org/dc/elements/1.1/\" xmlns:rdf=\"http://www.w3.org/1999/02/22-rdf-syntax-ns#\">\r\n   <cc:Work>\r\n    <dc:type rdf:resource=\"http://purl.org/dc/dcmitype/StillImage\"/>\r\n    <dc:date>2020-12-02T17:00:33.360292</dc:date>\r\n    <dc:format>image/svg+xml</dc:format>\r\n    <dc:creator>\r\n     <cc:Agent>\r\n      <dc:title>Matplotlib v3.3.3, https://matplotlib.org/</dc:title>\r\n     </cc:Agent>\r\n    </dc:creator>\r\n   </cc:Work>\r\n  </rdf:RDF>\r\n </metadata>\r\n <defs>\r\n  <style type=\"text/css\">*{stroke-linecap:butt;stroke-linejoin:round;}</style>\r\n </defs>\r\n <g id=\"figure_1\">\r\n  <g id=\"patch_1\">\r\n   <path d=\"M 0 247.108139 \r\nL 386.2 247.108139 \r\nL 386.2 0 \r\nL 0 0 \r\nz\r\n\" style=\"fill:none;\"/>\r\n  </g>\r\n  <g id=\"axes_1\">\r\n   <g id=\"patch_2\">\r\n    <path d=\"M 44.2 224.783139 \r\nL 379 224.783139 \r\nL 379 7.343139 \r\nL 44.2 7.343139 \r\nz\r\n\" style=\"fill:#ffffff;\"/>\r\n   </g>\r\n   <g id=\"matplotlib.axis_1\">\r\n    <g id=\"xtick_1\">\r\n     <g id=\"line2d_1\">\r\n      <defs>\r\n       <path d=\"M 0 0 \r\nL 0 3.5 \r\n\" id=\"mfe960060bf\" style=\"stroke:#000000;stroke-width:0.8;\"/>\r\n      </defs>\r\n      <g>\r\n       <use style=\"stroke:#000000;stroke-width:0.8;\" x=\"79.817949\" xlink:href=\"#mfe960060bf\" y=\"224.783139\"/>\r\n      </g>\r\n     </g>\r\n     <g id=\"text_1\">\r\n      <!-- -0.010 -->\r\n      <g transform=\"translate(64.817949 238.658139)scale(0.1 -0.1)\">\r\n       <defs>\r\n        <path d=\"M 46.484375 33.203125 \r\nL 1.953125 33.203125 \r\nL 1.953125 39.453125 \r\nL 46.484375 39.453125 \r\nz\r\n\" id=\"SimHei-45\"/>\r\n        <path d=\"M 3.125 29.296875 \r\nQ 3.90625 50 6.4375 56.046875 \r\nQ 8.984375 62.109375 13.671875 66.015625 \r\nQ 18.359375 69.921875 25.1875 69.921875 \r\nQ 32.03125 69.921875 37.109375 64.25 \r\nQ 42.1875 58.59375 43.75 50 \r\nQ 45.3125 41.40625 44.71875 30.265625 \r\nQ 44.140625 19.140625 40.8125 12.109375 \r\nQ 37.5 5.078125 30.859375 2.34375 \r\nQ 24.21875 -0.390625 17.578125 2.921875 \r\nQ 10.9375 6.25 8.203125 11.71875 \r\nQ 5.46875 17.1875 4.296875 23.234375 \r\nQ 3.125 29.296875 3.90625 50 \r\nz\r\nM 12.890625 52.734375 \r\nQ 10.546875 31.25 12.5 22.84375 \r\nQ 14.453125 14.453125 18.9375 10.9375 \r\nQ 23.4375 7.421875 28.125 9.5625 \r\nQ 32.8125 11.71875 34.953125 18.15625 \r\nQ 37.109375 24.609375 37.109375 32.21875 \r\nQ 37.109375 39.84375 36.515625 46.09375 \r\nQ 35.9375 52.34375 33 57.421875 \r\nQ 30.078125 62.5 25.1875 62.6875 \r\nQ 20.3125 62.890625 16.59375 57.8125 \r\nQ 12.890625 52.734375 10.546875 31.25 \r\nz\r\n\" id=\"SimHei-48\"/>\r\n        <path d=\"M 16.796875 1.953125 \r\nL 7.8125 1.953125 \r\nL 7.8125 10.546875 \r\nL 16.796875 10.546875 \r\nz\r\n\" id=\"SimHei-46\"/>\r\n        <path d=\"M 21.875 56.25 \r\nQ 16.796875 51.171875 8.984375 46.484375 \r\nL 8.984375 53.90625 \r\nQ 18.75 60.546875 25 69.53125 \r\nL 29.6875 69.53125 \r\nL 29.6875 2.34375 \r\nL 21.875 2.34375 \r\nz\r\n\" id=\"SimHei-49\"/>\r\n       </defs>\r\n       <use xlink:href=\"#SimHei-45\"/>\r\n       <use x=\"50\" xlink:href=\"#SimHei-48\"/>\r\n       <use x=\"100\" xlink:href=\"#SimHei-46\"/>\r\n       <use x=\"150\" xlink:href=\"#SimHei-48\"/>\r\n       <use x=\"200\" xlink:href=\"#SimHei-49\"/>\r\n       <use x=\"250\" xlink:href=\"#SimHei-48\"/>\r\n      </g>\r\n     </g>\r\n    </g>\r\n    <g id=\"xtick_2\">\r\n     <g id=\"line2d_2\">\r\n      <g>\r\n       <use style=\"stroke:#000000;stroke-width:0.8;\" x=\"145.708974\" xlink:href=\"#mfe960060bf\" y=\"224.783139\"/>\r\n      </g>\r\n     </g>\r\n     <g id=\"text_2\">\r\n      <!-- -0.005 -->\r\n      <g transform=\"translate(130.708974 238.658139)scale(0.1 -0.1)\">\r\n       <defs>\r\n        <path d=\"M 8.59375 20.703125 \r\nQ 11.328125 10.15625 17.96875 8.984375 \r\nQ 24.609375 7.8125 28.703125 10.34375 \r\nQ 32.8125 12.890625 34.5625 16.984375 \r\nQ 36.328125 21.09375 36.125 26.171875 \r\nQ 35.9375 31.25 33.390625 34.765625 \r\nQ 30.859375 38.28125 26.953125 39.453125 \r\nQ 23.046875 40.625 18.15625 39.453125 \r\nQ 13.28125 38.28125 10.15625 33.984375 \r\nL 3.515625 34.765625 \r\nQ 4.296875 37.109375 10.9375 68.359375 \r\nL 41.796875 68.359375 \r\nL 41.796875 61.328125 \r\nL 16.796875 61.328125 \r\nQ 14.84375 50.78125 12.890625 44.53125 \r\nQ 18.75 47.265625 23.828125 47.0625 \r\nQ 28.90625 46.875 33.59375 44.71875 \r\nQ 38.28125 42.578125 40.421875 38.859375 \r\nQ 42.578125 35.15625 43.546875 31.4375 \r\nQ 44.53125 27.734375 44.328125 23.4375 \r\nQ 44.140625 19.140625 42.578125 14.640625 \r\nQ 41.015625 10.15625 37.890625 7.21875 \r\nQ 34.765625 4.296875 30.265625 2.53125 \r\nQ 25.78125 0.78125 19.921875 1.171875 \r\nQ 14.0625 1.5625 8.78125 5.46875 \r\nQ 3.515625 9.375 1.5625 18.75 \r\nz\r\n\" id=\"SimHei-53\"/>\r\n       </defs>\r\n       <use xlink:href=\"#SimHei-45\"/>\r\n       <use x=\"50\" xlink:href=\"#SimHei-48\"/>\r\n       <use x=\"100\" xlink:href=\"#SimHei-46\"/>\r\n       <use x=\"150\" xlink:href=\"#SimHei-48\"/>\r\n       <use x=\"200\" xlink:href=\"#SimHei-48\"/>\r\n       <use x=\"250\" xlink:href=\"#SimHei-53\"/>\r\n      </g>\r\n     </g>\r\n    </g>\r\n    <g id=\"xtick_3\">\r\n     <g id=\"line2d_3\">\r\n      <g>\r\n       <use style=\"stroke:#000000;stroke-width:0.8;\" x=\"211.599998\" xlink:href=\"#mfe960060bf\" y=\"224.783139\"/>\r\n      </g>\r\n     </g>\r\n     <g id=\"text_3\">\r\n      <!-- 0.000 -->\r\n      <g transform=\"translate(199.099998 238.658139)scale(0.1 -0.1)\">\r\n       <use xlink:href=\"#SimHei-48\"/>\r\n       <use x=\"50\" xlink:href=\"#SimHei-46\"/>\r\n       <use x=\"100\" xlink:href=\"#SimHei-48\"/>\r\n       <use x=\"150\" xlink:href=\"#SimHei-48\"/>\r\n       <use x=\"200\" xlink:href=\"#SimHei-48\"/>\r\n      </g>\r\n     </g>\r\n    </g>\r\n    <g id=\"xtick_4\">\r\n     <g id=\"line2d_4\">\r\n      <g>\r\n       <use style=\"stroke:#000000;stroke-width:0.8;\" x=\"277.491022\" xlink:href=\"#mfe960060bf\" y=\"224.783139\"/>\r\n      </g>\r\n     </g>\r\n     <g id=\"text_4\">\r\n      <!-- 0.005 -->\r\n      <g transform=\"translate(264.991022 238.658139)scale(0.1 -0.1)\">\r\n       <use xlink:href=\"#SimHei-48\"/>\r\n       <use x=\"50\" xlink:href=\"#SimHei-46\"/>\r\n       <use x=\"100\" xlink:href=\"#SimHei-48\"/>\r\n       <use x=\"150\" xlink:href=\"#SimHei-48\"/>\r\n       <use x=\"200\" xlink:href=\"#SimHei-53\"/>\r\n      </g>\r\n     </g>\r\n    </g>\r\n    <g id=\"xtick_5\">\r\n     <g id=\"line2d_5\">\r\n      <g>\r\n       <use style=\"stroke:#000000;stroke-width:0.8;\" x=\"343.382047\" xlink:href=\"#mfe960060bf\" y=\"224.783139\"/>\r\n      </g>\r\n     </g>\r\n     <g id=\"text_5\">\r\n      <!-- 0.010 -->\r\n      <g transform=\"translate(330.882047 238.658139)scale(0.1 -0.1)\">\r\n       <use xlink:href=\"#SimHei-48\"/>\r\n       <use x=\"50\" xlink:href=\"#SimHei-46\"/>\r\n       <use x=\"100\" xlink:href=\"#SimHei-48\"/>\r\n       <use x=\"150\" xlink:href=\"#SimHei-49\"/>\r\n       <use x=\"200\" xlink:href=\"#SimHei-48\"/>\r\n      </g>\r\n     </g>\r\n    </g>\r\n   </g>\r\n   <g id=\"matplotlib.axis_2\">\r\n    <g id=\"ytick_1\">\r\n     <g id=\"line2d_6\">\r\n      <defs>\r\n       <path d=\"M 0 0 \r\nL -3.5 0 \r\n\" id=\"m47d998da45\" style=\"stroke:#000000;stroke-width:0.8;\"/>\r\n      </defs>\r\n      <g>\r\n       <use style=\"stroke:#000000;stroke-width:0.8;\" x=\"44.2\" xlink:href=\"#m47d998da45\" y=\"221.488778\"/>\r\n      </g>\r\n     </g>\r\n     <g id=\"text_6\">\r\n      <!-- -0.008 -->\r\n      <g transform=\"translate(7.2 224.926278)scale(0.1 -0.1)\">\r\n       <defs>\r\n        <path d=\"M 2.734375 16.796875 \r\nQ 2.734375 26.171875 5.078125 30.65625 \r\nQ 7.421875 35.15625 12.890625 37.890625 \r\nQ 8.203125 40.625 6.640625 43.9375 \r\nQ 5.078125 47.265625 4.875 51.5625 \r\nQ 4.6875 55.859375 6.046875 58.984375 \r\nQ 7.421875 62.109375 10.15625 64.84375 \r\nQ 12.890625 67.578125 16.203125 68.546875 \r\nQ 19.53125 69.53125 23.4375 69.53125 \r\nQ 27.34375 69.53125 30.46875 68.75 \r\nQ 33.59375 67.96875 37.109375 65.421875 \r\nQ 40.625 62.890625 42.1875 58.203125 \r\nQ 43.75 53.515625 41.984375 47.265625 \r\nQ 40.234375 41.015625 32.8125 37.5 \r\nQ 39.453125 35.546875 42.1875 31.4375 \r\nQ 44.921875 27.34375 44.921875 21.484375 \r\nQ 44.921875 15.625 43.15625 12.109375 \r\nQ 41.40625 8.59375 39.25 6.25 \r\nQ 37.109375 3.90625 33.390625 2.53125 \r\nQ 29.6875 1.171875 24.015625 1.171875 \r\nQ 18.359375 1.171875 14.25 2.53125 \r\nQ 10.15625 3.90625 7.421875 6.640625 \r\nQ 4.6875 9.375 3.703125 13.078125 \r\nQ 2.734375 16.796875 2.734375 26.171875 \r\nz\r\nM 10.9375 26.5625 \r\nQ 10.546875 17.1875 12.296875 13.671875 \r\nQ 14.0625 10.15625 18.75 9.171875 \r\nQ 23.4375 8.203125 28.515625 9.375 \r\nQ 33.59375 10.546875 35.546875 14.84375 \r\nQ 37.5 19.140625 36.90625 23.4375 \r\nQ 36.328125 27.734375 32.03125 30.65625 \r\nQ 27.734375 33.59375 22.65625 33.203125 \r\nQ 17.578125 32.8125 14.25 29.6875 \r\nQ 10.9375 26.5625 10.546875 17.1875 \r\nz\r\nM 12.109375 56.25 \r\nQ 12.109375 48.4375 14.84375 44.921875 \r\nQ 17.578125 41.40625 23.4375 41.40625 \r\nQ 29.296875 41.40625 32.21875 44.921875 \r\nQ 35.15625 48.4375 34.953125 53.3125 \r\nQ 34.765625 58.203125 31.4375 60.546875 \r\nQ 28.125 62.890625 22.453125 62.5 \r\nQ 16.796875 62.109375 14.453125 59.171875 \r\nQ 12.109375 56.25 12.109375 48.4375 \r\nz\r\n\" id=\"SimHei-56\"/>\r\n       </defs>\r\n       <use xlink:href=\"#SimHei-45\"/>\r\n       <use x=\"50\" xlink:href=\"#SimHei-48\"/>\r\n       <use x=\"100\" xlink:href=\"#SimHei-46\"/>\r\n       <use x=\"150\" xlink:href=\"#SimHei-48\"/>\r\n       <use x=\"200\" xlink:href=\"#SimHei-48\"/>\r\n       <use x=\"250\" xlink:href=\"#SimHei-56\"/>\r\n      </g>\r\n     </g>\r\n    </g>\r\n    <g id=\"ytick_2\">\r\n     <g id=\"line2d_7\">\r\n      <g>\r\n       <use style=\"stroke:#000000;stroke-width:0.8;\" x=\"44.2\" xlink:href=\"#m47d998da45\" y=\"195.132368\"/>\r\n      </g>\r\n     </g>\r\n     <g id=\"text_7\">\r\n      <!-- -0.006 -->\r\n      <g transform=\"translate(7.2 198.569868)scale(0.1 -0.1)\">\r\n       <defs>\r\n        <path d=\"M 3.515625 19.53125 \r\nQ 4.296875 30.859375 6.046875 34.765625 \r\nQ 7.8125 38.671875 11.328125 44.53125 \r\nL 27.34375 69.53125 \r\nL 36.328125 69.53125 \r\nL 19.921875 43.75 \r\nQ 30.46875 46.484375 36.71875 42.96875 \r\nQ 42.96875 39.453125 45.109375 34.953125 \r\nQ 47.265625 30.46875 47.453125 25.1875 \r\nQ 47.65625 19.921875 45.890625 14.84375 \r\nQ 44.140625 9.765625 39.640625 5.65625 \r\nQ 35.15625 1.5625 27.140625 1.171875 \r\nQ 19.140625 0.78125 13.46875 4.09375 \r\nQ 7.8125 7.421875 5.65625 13.46875 \r\nQ 3.515625 19.53125 4.296875 30.859375 \r\nz\r\nM 12.5 16.015625 \r\nQ 19.53125 8.59375 25.390625 8.203125 \r\nQ 31.25 7.8125 35.15625 12.109375 \r\nQ 39.0625 16.40625 39.0625 24.609375 \r\nQ 39.0625 32.8125 34.171875 35.9375 \r\nQ 29.296875 39.0625 23.234375 38.28125 \r\nQ 17.1875 37.5 14.453125 32.421875 \r\nQ 11.71875 27.34375 12.109375 21.671875 \r\nQ 12.5 16.015625 19.53125 8.59375 \r\nz\r\n\" id=\"SimHei-54\"/>\r\n       </defs>\r\n       <use xlink:href=\"#SimHei-45\"/>\r\n       <use x=\"50\" xlink:href=\"#SimHei-48\"/>\r\n       <use x=\"100\" xlink:href=\"#SimHei-46\"/>\r\n       <use x=\"150\" xlink:href=\"#SimHei-48\"/>\r\n       <use x=\"200\" xlink:href=\"#SimHei-48\"/>\r\n       <use x=\"250\" xlink:href=\"#SimHei-54\"/>\r\n      </g>\r\n     </g>\r\n    </g>\r\n    <g id=\"ytick_3\">\r\n     <g id=\"line2d_8\">\r\n      <g>\r\n       <use style=\"stroke:#000000;stroke-width:0.8;\" x=\"44.2\" xlink:href=\"#m47d998da45\" y=\"168.775958\"/>\r\n      </g>\r\n     </g>\r\n     <g id=\"text_8\">\r\n      <!-- -0.004 -->\r\n      <g transform=\"translate(7.2 172.213458)scale(0.1 -0.1)\">\r\n       <defs>\r\n        <path d=\"M 31.25 17.1875 \r\nL 1.171875 17.1875 \r\nL 1.171875 23.828125 \r\nL 32.8125 69.53125 \r\nL 38.671875 69.53125 \r\nL 38.671875 23.828125 \r\nL 48.046875 23.828125 \r\nL 48.046875 17.1875 \r\nL 38.671875 17.1875 \r\nL 38.671875 2.34375 \r\nL 31.25 2.34375 \r\nz\r\nM 31.25 23.828125 \r\nL 31.25 54.6875 \r\nL 9.375 23.828125 \r\nz\r\n\" id=\"SimHei-52\"/>\r\n       </defs>\r\n       <use xlink:href=\"#SimHei-45\"/>\r\n       <use x=\"50\" xlink:href=\"#SimHei-48\"/>\r\n       <use x=\"100\" xlink:href=\"#SimHei-46\"/>\r\n       <use x=\"150\" xlink:href=\"#SimHei-48\"/>\r\n       <use x=\"200\" xlink:href=\"#SimHei-48\"/>\r\n       <use x=\"250\" xlink:href=\"#SimHei-52\"/>\r\n      </g>\r\n     </g>\r\n    </g>\r\n    <g id=\"ytick_4\">\r\n     <g id=\"line2d_9\">\r\n      <g>\r\n       <use style=\"stroke:#000000;stroke-width:0.8;\" x=\"44.2\" xlink:href=\"#m47d998da45\" y=\"142.419549\"/>\r\n      </g>\r\n     </g>\r\n     <g id=\"text_9\">\r\n      <!-- -0.002 -->\r\n      <g transform=\"translate(7.2 145.857049)scale(0.1 -0.1)\">\r\n       <defs>\r\n        <path d=\"M 4.6875 3.90625 \r\nQ 5.078125 9.765625 10.15625 14.453125 \r\nQ 15.234375 19.140625 23.046875 29.09375 \r\nQ 30.859375 39.0625 33.203125 44.53125 \r\nQ 35.546875 50 34.953125 53.90625 \r\nQ 34.375 57.8125 31.25 60.34375 \r\nQ 28.125 62.890625 24.015625 62.5 \r\nQ 19.921875 62.109375 16.203125 59.375 \r\nQ 12.5 56.640625 10.546875 51.171875 \r\nL 3.125 52.34375 \r\nQ 6.25 61.328125 11.125 65.421875 \r\nQ 16.015625 69.53125 22.65625 69.921875 \r\nQ 26.5625 70.3125 29.6875 69.71875 \r\nQ 32.8125 69.140625 36.125 66.984375 \r\nQ 39.453125 64.84375 41.59375 60.546875 \r\nQ 43.75 56.25 43.15625 50.1875 \r\nQ 42.578125 44.140625 37.109375 35.734375 \r\nQ 31.640625 27.34375 16.015625 9.375 \r\nL 44.140625 9.375 \r\nL 44.140625 2.34375 \r\nL 4.6875 2.34375 \r\nz\r\n\" id=\"SimHei-50\"/>\r\n       </defs>\r\n       <use xlink:href=\"#SimHei-45\"/>\r\n       <use x=\"50\" xlink:href=\"#SimHei-48\"/>\r\n       <use x=\"100\" xlink:href=\"#SimHei-46\"/>\r\n       <use x=\"150\" xlink:href=\"#SimHei-48\"/>\r\n       <use x=\"200\" xlink:href=\"#SimHei-48\"/>\r\n       <use x=\"250\" xlink:href=\"#SimHei-50\"/>\r\n      </g>\r\n     </g>\r\n    </g>\r\n    <g id=\"ytick_5\">\r\n     <g id=\"line2d_10\">\r\n      <g>\r\n       <use style=\"stroke:#000000;stroke-width:0.8;\" x=\"44.2\" xlink:href=\"#m47d998da45\" y=\"116.063139\"/>\r\n      </g>\r\n     </g>\r\n     <g id=\"text_10\">\r\n      <!-- 0.000 -->\r\n      <g transform=\"translate(12.2 119.500639)scale(0.1 -0.1)\">\r\n       <use xlink:href=\"#SimHei-48\"/>\r\n       <use x=\"50\" xlink:href=\"#SimHei-46\"/>\r\n       <use x=\"100\" xlink:href=\"#SimHei-48\"/>\r\n       <use x=\"150\" xlink:href=\"#SimHei-48\"/>\r\n       <use x=\"200\" xlink:href=\"#SimHei-48\"/>\r\n      </g>\r\n     </g>\r\n    </g>\r\n    <g id=\"ytick_6\">\r\n     <g id=\"line2d_11\">\r\n      <g>\r\n       <use style=\"stroke:#000000;stroke-width:0.8;\" x=\"44.2\" xlink:href=\"#m47d998da45\" y=\"89.706729\"/>\r\n      </g>\r\n     </g>\r\n     <g id=\"text_11\">\r\n      <!-- 0.002 -->\r\n      <g transform=\"translate(12.2 93.144229)scale(0.1 -0.1)\">\r\n       <use xlink:href=\"#SimHei-48\"/>\r\n       <use x=\"50\" xlink:href=\"#SimHei-46\"/>\r\n       <use x=\"100\" xlink:href=\"#SimHei-48\"/>\r\n       <use x=\"150\" xlink:href=\"#SimHei-48\"/>\r\n       <use x=\"200\" xlink:href=\"#SimHei-50\"/>\r\n      </g>\r\n     </g>\r\n    </g>\r\n    <g id=\"ytick_7\">\r\n     <g id=\"line2d_12\">\r\n      <g>\r\n       <use style=\"stroke:#000000;stroke-width:0.8;\" x=\"44.2\" xlink:href=\"#m47d998da45\" y=\"63.350319\"/>\r\n      </g>\r\n     </g>\r\n     <g id=\"text_12\">\r\n      <!-- 0.004 -->\r\n      <g transform=\"translate(12.2 66.787819)scale(0.1 -0.1)\">\r\n       <use xlink:href=\"#SimHei-48\"/>\r\n       <use x=\"50\" xlink:href=\"#SimHei-46\"/>\r\n       <use x=\"100\" xlink:href=\"#SimHei-48\"/>\r\n       <use x=\"150\" xlink:href=\"#SimHei-48\"/>\r\n       <use x=\"200\" xlink:href=\"#SimHei-52\"/>\r\n      </g>\r\n     </g>\r\n    </g>\r\n    <g id=\"ytick_8\">\r\n     <g id=\"line2d_13\">\r\n      <g>\r\n       <use style=\"stroke:#000000;stroke-width:0.8;\" x=\"44.2\" xlink:href=\"#m47d998da45\" y=\"36.99391\"/>\r\n      </g>\r\n     </g>\r\n     <g id=\"text_13\">\r\n      <!-- 0.006 -->\r\n      <g transform=\"translate(12.2 40.43141)scale(0.1 -0.1)\">\r\n       <use xlink:href=\"#SimHei-48\"/>\r\n       <use x=\"50\" xlink:href=\"#SimHei-46\"/>\r\n       <use x=\"100\" xlink:href=\"#SimHei-48\"/>\r\n       <use x=\"150\" xlink:href=\"#SimHei-48\"/>\r\n       <use x=\"200\" xlink:href=\"#SimHei-54\"/>\r\n      </g>\r\n     </g>\r\n    </g>\r\n    <g id=\"ytick_9\">\r\n     <g id=\"line2d_14\">\r\n      <g>\r\n       <use style=\"stroke:#000000;stroke-width:0.8;\" x=\"44.2\" xlink:href=\"#m47d998da45\" y=\"10.6375\"/>\r\n      </g>\r\n     </g>\r\n     <g id=\"text_14\">\r\n      <!-- 0.008 -->\r\n      <g transform=\"translate(12.2 14.075)scale(0.1 -0.1)\">\r\n       <use xlink:href=\"#SimHei-48\"/>\r\n       <use x=\"50\" xlink:href=\"#SimHei-46\"/>\r\n       <use x=\"100\" xlink:href=\"#SimHei-48\"/>\r\n       <use x=\"150\" xlink:href=\"#SimHei-48\"/>\r\n       <use x=\"200\" xlink:href=\"#SimHei-56\"/>\r\n      </g>\r\n     </g>\r\n    </g>\r\n   </g>\r\n   <g id=\"line2d_15\">\r\n    <defs>\r\n     <path d=\"M 0 1.5 \r\nC 0.397805 1.5 0.77937 1.341951 1.06066 1.06066 \r\nC 1.341951 0.77937 1.5 0.397805 1.5 0 \r\nC 1.5 -0.397805 1.341951 -0.77937 1.06066 -1.06066 \r\nC 0.77937 -1.341951 0.397805 -1.5 0 -1.5 \r\nC -0.397805 -1.5 -0.77937 -1.341951 -1.06066 -1.06066 \r\nC -1.341951 -0.77937 -1.5 -0.397805 -1.5 0 \r\nC -1.5 0.397805 -1.341951 0.77937 -1.06066 1.06066 \r\nC -0.77937 1.341951 -0.397805 1.5 0 1.5 \r\nz\r\n\" id=\"m900c26dc92\" style=\"stroke:#ff0000;\"/>\r\n    </defs>\r\n    <g clip-path=\"url(#p2bbf2265eb)\">\r\n     <use style=\"fill:#ff0000;stroke:#ff0000;\" x=\"257.723715\" xlink:href=\"#m900c26dc92\" y=\"116.063139\"/>\r\n     <use style=\"fill:#ff0000;stroke:#ff0000;\" x=\"257.208528\" xlink:href=\"#m900c26dc92\" y=\"101.331985\"/>\r\n     <use style=\"fill:#ff0000;stroke:#ff0000;\" x=\"255.647425\" xlink:href=\"#m900c26dc92\" y=\"86.74266\"/>\r\n     <use style=\"fill:#ff0000;stroke:#ff0000;\" x=\"252.947333\" xlink:href=\"#m900c26dc92\" y=\"72.263056\"/>\r\n     <use style=\"fill:#ff0000;stroke:#ff0000;\" x=\"248.95777\" xlink:href=\"#m900c26dc92\" y=\"58.095224\"/>\r\n     <use style=\"fill:#ff0000;stroke:#ff0000;\" x=\"243.399658\" xlink:href=\"#m900c26dc92\" y=\"44.47186\"/>\r\n     <use style=\"fill:#ff0000;stroke:#ff0000;\" x=\"235.804468\" xlink:href=\"#m900c26dc92\" y=\"31.929292\"/>\r\n     <use style=\"fill:#ff0000;stroke:#ff0000;\" x=\"225.361923\" xlink:href=\"#m900c26dc92\" y=\"21.728573\"/>\r\n     <use style=\"fill:#ff0000;stroke:#ff0000;\" x=\"211.513747\" xlink:href=\"#m900c26dc92\" y=\"17.226775\"/>\r\n     <use style=\"fill:#ff0000;stroke:#ff0000;\" x=\"197.761536\" xlink:href=\"#m900c26dc92\" y=\"21.78\"/>\r\n     <use style=\"fill:#ff0000;stroke:#ff0000;\" x=\"187.337987\" xlink:href=\"#m900c26dc92\" y=\"32.00543\"/>\r\n     <use style=\"fill:#ff0000;stroke:#ff0000;\" x=\"179.761142\" xlink:href=\"#m900c26dc92\" y=\"44.551898\"/>\r\n     <use style=\"fill:#ff0000;stroke:#ff0000;\" x=\"174.21763\" xlink:href=\"#m900c26dc92\" y=\"58.168077\"/>\r\n     <use style=\"fill:#ff0000;stroke:#ff0000;\" x=\"170.238486\" xlink:href=\"#m900c26dc92\" y=\"72.324566\"/>\r\n     <use style=\"fill:#ff0000;stroke:#ff0000;\" x=\"167.545247\" xlink:href=\"#m900c26dc92\" y=\"86.793232\"/>\r\n     <use style=\"fill:#ff0000;stroke:#ff0000;\" x=\"165.98845\" xlink:href=\"#m900c26dc92\" y=\"101.374954\"/>\r\n     <use style=\"fill:#ff0000;stroke:#ff0000;\" x=\"165.476285\" xlink:href=\"#m900c26dc92\" y=\"116.103389\"/>\r\n     <use style=\"fill:#ff0000;stroke:#ff0000;\" x=\"165.991468\" xlink:href=\"#m900c26dc92\" y=\"130.794293\"/>\r\n     <use style=\"fill:#ff0000;stroke:#ff0000;\" x=\"167.552572\" xlink:href=\"#m900c26dc92\" y=\"145.383618\"/>\r\n     <use style=\"fill:#ff0000;stroke:#ff0000;\" x=\"170.252663\" xlink:href=\"#m900c26dc92\" y=\"159.863221\"/>\r\n     <use style=\"fill:#ff0000;stroke:#ff0000;\" x=\"174.242226\" xlink:href=\"#m900c26dc92\" y=\"174.031054\"/>\r\n     <use style=\"fill:#ff0000;stroke:#ff0000;\" x=\"179.800338\" xlink:href=\"#m900c26dc92\" y=\"187.654417\"/>\r\n     <use style=\"fill:#ff0000;stroke:#ff0000;\" x=\"187.395528\" xlink:href=\"#m900c26dc92\" y=\"200.196986\"/>\r\n     <use style=\"fill:#ff0000;stroke:#ff0000;\" x=\"197.838073\" xlink:href=\"#m900c26dc92\" y=\"210.397705\"/>\r\n     <use style=\"fill:#ff0000;stroke:#ff0000;\" x=\"211.686249\" xlink:href=\"#m900c26dc92\" y=\"214.899503\"/>\r\n     <use style=\"fill:#ff0000;stroke:#ff0000;\" x=\"225.43846\" xlink:href=\"#m900c26dc92\" y=\"210.346278\"/>\r\n     <use style=\"fill:#ff0000;stroke:#ff0000;\" x=\"235.862009\" xlink:href=\"#m900c26dc92\" y=\"200.120848\"/>\r\n     <use style=\"fill:#ff0000;stroke:#ff0000;\" x=\"243.438854\" xlink:href=\"#m900c26dc92\" y=\"187.57438\"/>\r\n     <use style=\"fill:#ff0000;stroke:#ff0000;\" x=\"248.982366\" xlink:href=\"#m900c26dc92\" y=\"173.9582\"/>\r\n     <use style=\"fill:#ff0000;stroke:#ff0000;\" x=\"252.961511\" xlink:href=\"#m900c26dc92\" y=\"159.801712\"/>\r\n     <use style=\"fill:#ff0000;stroke:#ff0000;\" x=\"255.654749\" xlink:href=\"#m900c26dc92\" y=\"145.333045\"/>\r\n     <use style=\"fill:#ff0000;stroke:#ff0000;\" x=\"257.211546\" xlink:href=\"#m900c26dc92\" y=\"130.751324\"/>\r\n    </g>\r\n   </g>\r\n   <g id=\"patch_3\">\r\n    <path d=\"M 44.2 224.783139 \r\nL 44.2 7.343139 \r\n\" style=\"fill:none;stroke:#000000;stroke-linecap:square;stroke-linejoin:miter;stroke-width:0.8;\"/>\r\n   </g>\r\n   <g id=\"patch_4\">\r\n    <path d=\"M 379 224.783139 \r\nL 379 7.343139 \r\n\" style=\"fill:none;stroke:#000000;stroke-linecap:square;stroke-linejoin:miter;stroke-width:0.8;\"/>\r\n   </g>\r\n   <g id=\"patch_5\">\r\n    <path d=\"M 44.2 224.783139 \r\nL 379 224.783139 \r\n\" style=\"fill:none;stroke:#000000;stroke-linecap:square;stroke-linejoin:miter;stroke-width:0.8;\"/>\r\n   </g>\r\n   <g id=\"patch_6\">\r\n    <path d=\"M 44.2 7.343139 \r\nL 379 7.343139 \r\n\" style=\"fill:none;stroke:#000000;stroke-linecap:square;stroke-linejoin:miter;stroke-width:0.8;\"/>\r\n   </g>\r\n  </g>\r\n </g>\r\n <defs>\r\n  <clipPath id=\"p2bbf2265eb\">\r\n   <rect height=\"217.44\" width=\"334.8\" x=\"44.2\" y=\"7.343139\"/>\r\n  </clipPath>\r\n </defs>\r\n</svg>\r\n",
      "image/png": "[encoded data removed]"
     },
     "metadata": {
      "needs_background": "light"
     }
    }
   ],
   "source": [
    "# Ellipse 椭圆对象。用于生成椭圆圆周上均匀分布的若干点\n",
    "# 支持生成 Ax^2+Bxy+Cy^2=D 的椭圆\n",
    "\n",
    "e = BaseUtils.Ellipse(A=1/(3.5*MM)**2,B=0,C=1/(7.5*MM)**2,D=1)\n",
    "\n",
    "# 生成椭圆圆周上均匀分布的 32 个点\n",
    "points = e.uniform_distribution_points_along_edge(32)\n",
    "Plot2.plot_p2s(points,'r.')\n",
    "Plot2.equal()\n",
    "# Plot2.show()"
   ]
  },
  {
   "source": [],
   "cell_type": "markdown",
   "metadata": {}
  },
  {
   "source": [
    "# Magnet 磁铁对象\n",
    "\n",
    "CCT 和 QS 都是磁铁，将其中和磁场相关的函数抽取出来，放入父类 Magnet 中\n",
    "\n",
    "Magnet **表示一个可以在全局坐标系任意一点产生磁场的对象**，它具有如下实用的函数\n",
    "\n",
    "- magnetic_field_at(p) 计算点 p 处的磁场，注意 p 是一个全局坐标系表示的点\n",
    "\n",
    "- magnetic_field_along(line2, p2_to_p3, step) 计算二维曲线 line2 上磁场分布，p2_to_p3 表示二维曲线上的二维点 P2 到三维点 P3 的转换策略（本质即一个函数），步长取 step\n",
    "\n",
    "- magnetic_field_bz_along(line2, p2_to_p3, step) 计算二曲线 line2 上磁场 Z 方向分量的分布，p2_to_p3 表示二维曲线上的二维点 P2 到三维点 P3 的转换策略（本质即一个函数），步长取 step。（前文已经提及，cctpy 中粒子一般运动在 XY 坐标系，所以二级场参数的磁场主分量在 Z 方向）\n",
    "\n",
    "- graident_field_along(line, good_field_area_width, step, point_number) 计算曲线 line 上磁场梯度分布，曲线上每一个点的梯度，采用过取该点一条垂直于曲线的线段，对这条线段上 point_number 个点的磁场 Bz 做一阶多项式拟合得到。good_field_area_width 表示线段长度。详见下图\n",
    "\n",
    "<img src=\"./img/A04曲线上梯度计算方法.jpg\"></img>\n",
    "\n",
    "- second_graident_field_along(line, good_field_area_width, step, point_number) 计算曲线 line 上磁场二极梯度分布，即六极场分布。参数意义和计算方法见上函数。\n",
    "\n",
    "- multipole_field_along(line, order, good_field_area_width, step, point_number) 计算曲线 line 上任意阶场的分布，其中 order 表示阶数。order=0 则只计算二级场，order=1 计算二级场和四极场，以此类推。计算方法也是直线段上多项式拟合。\n",
    "\n",
    "- integration_field(lien, step) 计算 line 上积分场。\n",
    "\n",
    "- slice_to_cosy_script(Bp.aperture_radius,line,good_field_area_width,min_step_length,tolerance) 将 line 上分布的磁场，转为 COSY 磁场切片。"
   ],
   "cell_type": "markdown",
   "metadata": {}
  },
  {
   "source": [
    "# ApertureObject 带有孔径的对象\n",
    "\n",
    "CCT、QS 磁铁、漂移段都是带有孔径的对象。粒子在运动过程中有可能会偏转过大，超出孔径，ApertureObject 的 is_out_of_aperture(p) 函数可以判断点 p 是否在孔径的外面。\n",
    "\n",
    "如下图所示，#粒子在孔径外部，@粒子在孔径内部。可以看出，只有当粒子轴向投影在元件内部时，才会进行判断，否则即时粒子距离轴线很远，也认为粒子没有超出孔径。这时因为粒子不在元件内时，很可能处于另一个大孔径元件中，这是会造成误判。\n",
    "\n",
    "<img src=\"./img/A08带孔径对象之粒子是否超出孔径.jpg\" width=80%></img>"
   ],
   "cell_type": "markdown",
   "metadata": {}
  },
  {
   "source": [
    "# LocalCoordinateSystem 局部坐标系（重要概念）\n",
    "\n",
    "局部坐标系。各种磁铁都放置在局部坐标系中，而粒子在全局坐标系中运动，为了求磁铁在粒子位置产生的磁场，需要引入局部坐标的概念和坐标变换。\n",
    "\n",
    "LocalCoordinateSystem 类中提供了如下函数\n",
    "\n",
    "- 方便的构造器\n",
    "- point_to_local_coordinate / point_to_global_coordinate 点的全局坐标 ←→ 局部坐标之间的转化\n",
    "- vector_to_local_coordinate / vector_to_global_coordinate 矢量的全局坐标 ←→ 局部坐标之间的转化（因为矢量具有平移不变性，所以和点的行为不同）"
   ],
   "cell_type": "markdown",
   "metadata": {}
  },
  {
   "cell_type": "code",
   "execution_count": 20,
   "metadata": {},
   "outputs": [
    {
     "output_type": "stream",
     "name": "stdout",
     "text": [
      "全局坐标系： ORIGIN=[0.0, 0.0, 0.0], xi=[1.0, 0.0, 0.0], yi=[0.0, 1.0, 0.0], zi=[0.0, 0.0, 1.0]\nORIGIN=[0.0, 0.0, 0.0], xi=[1.0, 0.0, 0.0], yi=[0.0, 1.0, 0.0], zi=[0.0, 0.0, 1.0]\nORIGIN=[0.0, 0.0, 0.0], xi=[1.0, 0.0, 0.0], yi=[0.0, 1.0, 0.0], zi=[0.0, 0.0, 1.0]\n"
     ]
    }
   ],
   "source": [
    "# 下面创造了一个全局坐标系，通过指定坐标轴的原点，和 x 轴和 z 轴的方向\n",
    "# y 轴方向不用指定，由 z@x 计算得到\n",
    "gcs = LocalCoordinateSystem(location=P3.origin(),x_direction=P3.x_direct(),z_direction=P3.z_direct())\n",
    "\n",
    "# 使用默认值，就是全局坐标系\n",
    "gcs_1 = LocalCoordinateSystem()\n",
    "\n",
    "# 同样也可以调用函数 global_coordinate_system 直接获得全局坐标系\n",
    "gcs_2 = LocalCoordinateSystem.global_coordinate_system()\n",
    "\n",
    "print(\"全局坐标系：\", gcs)\n",
    "print(gcs_1)\n",
    "print(gcs_2)"
   ]
  },
  {
   "source": [
    "## 坐标平移\n",
    "\n",
    "如下图所示，令坐标系 XYZ 是全局坐标系，系X'Y'Z'的原点在全局坐标系的坐标是(2,2,1)。\n",
    "\n",
    "则如果黑点在全局坐标系中坐标为 (2,3,3)，那么容易计算它在系X'Y'Z'中的坐标是 (2,3,3)-(2,2,1) = (0,1,2)\n",
    "\n",
    "<img src=\"./img/A05坐标轴平移.jpg\" width=40%></img>\n",
    "\n",
    "下面用代码展示这一过程"
   ],
   "cell_type": "markdown",
   "metadata": {}
  },
  {
   "cell_type": "code",
   "execution_count": 21,
   "metadata": {},
   "outputs": [
    {
     "output_type": "stream",
     "name": "stdout",
     "text": [
      "[2.0, 3.0, 3.0]\n[0.0, 1.0, 2.0]\nTrue\n"
     ]
    }
   ],
   "source": [
    "# X'Y'Z' 局部坐标系，因为相对于全局坐标系只有原点 location 不同，所以 x_direction 和 z_direction 使用默认值\n",
    "lcs = LocalCoordinateSystem(location=P3(2,2,1))\n",
    "\n",
    "# 定义全局坐标系中的点\n",
    "p_gcs = P3(2,3,3)\n",
    "\n",
    "# 转为局部坐标系\n",
    "p_lcs = lcs.point_to_local_coordinate(p_gcs)\n",
    "\n",
    "# 可以再次转回全局坐标\n",
    "p_gcs_2 = lcs.point_to_global_coordinate(p_lcs)\n",
    "\n",
    "print(p_gcs)\n",
    "print(p_lcs)\n",
    "print(p_gcs == p_gcs_2)\n"
   ]
  },
  {
   "source": [
    "## 坐标旋转\n",
    "\n",
    "如下图所示，XYZ 是全局坐标系，首先绕 Z 轴旋转 30 度（逆时针），得到局部坐标系 X'Y'Z'，再移动 (8,8,0)，得到局部坐标系 X''Y''Z''。\n",
    "\n",
    "注意：这里的移动矢量 (8,8,0) 坐标为全局坐标。\n",
    "\n",
    "<img src=\"./img/A06坐标轴旋转.jpg\"></img>\n",
    "\n"
   ],
   "cell_type": "markdown",
   "metadata": {}
  },
  {
   "cell_type": "code",
   "execution_count": 22,
   "metadata": {},
   "outputs": [
    {
     "output_type": "stream",
     "name": "stdout",
     "text": [
      "True\nTrue\nTrue\nTrue\n"
     ]
    }
   ],
   "source": [
    "lcs_1 = LocalCoordinateSystem(x_direction=P3(\n",
    "    math.cos(BaseUtils.angle_to_radian(30)),\n",
    "    math.sin(BaseUtils.angle_to_radian(30)),\n",
    "    0\n",
    "))\n",
    "\n",
    "lcs_2 = LocalCoordinateSystem(location=P3(8,8,0),\n",
    "    x_direction=P3(\n",
    "    math.cos(BaseUtils.angle_to_radian(30)),\n",
    "    math.sin(BaseUtils.angle_to_radian(30)),\n",
    "    0\n",
    "))\n",
    "\n",
    "p = P3(10,16,0)\n",
    "\n",
    "p1 = lcs_1.point_to_local_coordinate(p)\n",
    "p2 = lcs_2.point_to_local_coordinate(p)\n",
    "\n",
    "\n",
    "print(p1==P3(8+5*math.sqrt(3),-5+8*math.sqrt(3),0.0))\n",
    "print(p2==P3(4+math.sqrt(3),-1+4*math.sqrt(3),0.0))\n",
    "\n",
    "p1_gcs = lcs_1.point_to_global_coordinate(p1)\n",
    "p2_gcs = lcs_1.point_to_global_coordinate(p2)\n",
    "\n",
    "print(p1_gcs==p)\n",
    "print(p1_gcs==p)"
   ]
  },
  {
   "source": [
    "## 关于坐标轴其他需要补充的\n",
    "\n",
    "1. 坐标系不支持缩放，因为所有坐标系的单位矢量 xi yi zi 都会自动被归一化"
   ],
   "cell_type": "markdown",
   "metadata": {}
  },
  {
   "source": [
    "# 用于刻画设计轨道的类 Trajectory\n",
    "\n",
    "cctpy 中，束流一般运行于 XY 平面，磁铁也一般放置在 XY 平面中，因此 cctpy 中提供了设计 XY 平面轨道的类 Trajectory。\n",
    "\n",
    "类关系示意图如下，Trajectory 类表示设计轨道，一般而言设计轨道由直线段和圆弧组成，分别由 StraightLine2 和 ArcLine2 表示，这三个类都继承于抽象类 Line2，它代表二维中任意一条曲线段，汇总了和曲线相关的函数。\n",
    "\n",
    "<img src=\"./img/A07轨迹类UML.jpg\" width=80%></img>\n",
    "\n",
    "Trajectory 类中使用最多的函数是在设计轨迹的尾部添加一段直线 add_straight_line() 或圆弧 add_arc_line()。\n",
    "\n",
    "*可见参考轨道只能设计在 XY 平面，因为这样的限制一般不会对设计产生影响（因为绝大多数束线都在一个平面上）。而如果考虑三维轨迹，会对磁场分析带来复杂性。*\n",
    "\n",
    "**在 cctpy 中，设计参考轨道是束线设计的第一步，只有先确定参考轨道，才便于在轨道上放置各类磁铁**。下面结合一个实际的机架参考轨迹设计案例，了解 Trajectory 类的使用方法。\n",
    "\n"
   ],
   "cell_type": "markdown",
   "metadata": {}
  },
  {
   "cell_type": "code",
   "execution_count": 23,
   "metadata": {},
   "outputs": [
    {
     "output_type": "stream",
     "name": "stdout",
     "text": [
      "ISOC 位置 [8.162644337939188, 0.00028200192290395165]\n束线总长度 14.302001244130768\n"
     ]
    },
    {
     "output_type": "display_data",
     "data": {
      "text/plain": "<Figure size 432x288 with 1 Axes>",
      "image/svg+xml": "<?xml version=\"1.0\" encoding=\"utf-8\" standalone=\"no\"?>\r\n<!DOCTYPE svg PUBLIC \"-//W3C//DTD SVG 1.1//EN\"\r\n  \"http://www.w3.org/Graphics/SVG/1.1/DTD/svg11.dtd\">\r\n<!-- Created with matplotlib (https://matplotlib.org/) -->\r\n<svg height=\"248.218479pt\" version=\"1.1\" viewBox=\"0 0 361.2 248.218479\" width=\"361.2pt\" xmlns=\"http://www.w3.org/2000/svg\" xmlns:xlink=\"http://www.w3.org/1999/xlink\">\r\n <metadata>\r\n  <rdf:RDF xmlns:cc=\"http://creativecommons.org/ns#\" xmlns:dc=\"http://purl.org/dc/elements/1.1/\" xmlns:rdf=\"http://www.w3.org/1999/02/22-rdf-syntax-ns#\">\r\n   <cc:Work>\r\n    <dc:type rdf:resource=\"http://purl.org/dc/dcmitype/StillImage\"/>\r\n    <dc:date>2020-12-02T17:00:33.673456</dc:date>\r\n    <dc:format>image/svg+xml</dc:format>\r\n    <dc:creator>\r\n     <cc:Agent>\r\n      <dc:title>Matplotlib v3.3.3, https://matplotlib.org/</dc:title>\r\n     </cc:Agent>\r\n    </dc:creator>\r\n   </cc:Work>\r\n  </rdf:RDF>\r\n </metadata>\r\n <defs>\r\n  <style type=\"text/css\">*{stroke-linecap:butt;stroke-linejoin:round;}</style>\r\n </defs>\r\n <g id=\"figure_1\">\r\n  <g id=\"patch_1\">\r\n   <path d=\"M 0 248.218479 \r\nL 361.2 248.218479 \r\nL 361.2 0 \r\nL 0 0 \r\nz\r\n\" style=\"fill:none;\"/>\r\n  </g>\r\n  <g id=\"axes_1\">\r\n   <g id=\"patch_2\">\r\n    <path d=\"M 19.2 225.893479 \r\nL 354 225.893479 \r\nL 354 8.453479 \r\nL 19.2 8.453479 \r\nz\r\n\" style=\"fill:#ffffff;\"/>\r\n   </g>\r\n   <g id=\"matplotlib.axis_1\">\r\n    <g id=\"xtick_1\">\r\n     <g id=\"line2d_1\">\r\n      <defs>\r\n       <path d=\"M 0 0 \r\nL 0 3.5 \r\n\" id=\"mca5c2300bd\" style=\"stroke:#000000;stroke-width:0.8;\"/>\r\n      </defs>\r\n      <g>\r\n       <use style=\"stroke:#000000;stroke-width:0.8;\" x=\"34.418182\" xlink:href=\"#mca5c2300bd\" y=\"225.893479\"/>\r\n      </g>\r\n     </g>\r\n     <g id=\"text_1\">\r\n      <!-- 0 -->\r\n      <g transform=\"translate(31.918182 239.768479)scale(0.1 -0.1)\">\r\n       <defs>\r\n        <path d=\"M 3.125 29.296875 \r\nQ 3.90625 50 6.4375 56.046875 \r\nQ 8.984375 62.109375 13.671875 66.015625 \r\nQ 18.359375 69.921875 25.1875 69.921875 \r\nQ 32.03125 69.921875 37.109375 64.25 \r\nQ 42.1875 58.59375 43.75 50 \r\nQ 45.3125 41.40625 44.71875 30.265625 \r\nQ 44.140625 19.140625 40.8125 12.109375 \r\nQ 37.5 5.078125 30.859375 2.34375 \r\nQ 24.21875 -0.390625 17.578125 2.921875 \r\nQ 10.9375 6.25 8.203125 11.71875 \r\nQ 5.46875 17.1875 4.296875 23.234375 \r\nQ 3.125 29.296875 3.90625 50 \r\nz\r\nM 12.890625 52.734375 \r\nQ 10.546875 31.25 12.5 22.84375 \r\nQ 14.453125 14.453125 18.9375 10.9375 \r\nQ 23.4375 7.421875 28.125 9.5625 \r\nQ 32.8125 11.71875 34.953125 18.15625 \r\nQ 37.109375 24.609375 37.109375 32.21875 \r\nQ 37.109375 39.84375 36.515625 46.09375 \r\nQ 35.9375 52.34375 33 57.421875 \r\nQ 30.078125 62.5 25.1875 62.6875 \r\nQ 20.3125 62.890625 16.59375 57.8125 \r\nQ 12.890625 52.734375 10.546875 31.25 \r\nz\r\n\" id=\"SimHei-48\"/>\r\n       </defs>\r\n       <use xlink:href=\"#SimHei-48\"/>\r\n      </g>\r\n     </g>\r\n    </g>\r\n    <g id=\"xtick_2\">\r\n     <g id=\"line2d_2\">\r\n      <g>\r\n       <use style=\"stroke:#000000;stroke-width:0.8;\" x=\"71.705564\" xlink:href=\"#mca5c2300bd\" y=\"225.893479\"/>\r\n      </g>\r\n     </g>\r\n     <g id=\"text_2\">\r\n      <!-- 1 -->\r\n      <g transform=\"translate(69.205564 239.768479)scale(0.1 -0.1)\">\r\n       <defs>\r\n        <path d=\"M 21.875 56.25 \r\nQ 16.796875 51.171875 8.984375 46.484375 \r\nL 8.984375 53.90625 \r\nQ 18.75 60.546875 25 69.53125 \r\nL 29.6875 69.53125 \r\nL 29.6875 2.34375 \r\nL 21.875 2.34375 \r\nz\r\n\" id=\"SimHei-49\"/>\r\n       </defs>\r\n       <use xlink:href=\"#SimHei-49\"/>\r\n      </g>\r\n     </g>\r\n    </g>\r\n    <g id=\"xtick_3\">\r\n     <g id=\"line2d_3\">\r\n      <g>\r\n       <use style=\"stroke:#000000;stroke-width:0.8;\" x=\"108.992946\" xlink:href=\"#mca5c2300bd\" y=\"225.893479\"/>\r\n      </g>\r\n     </g>\r\n     <g id=\"text_3\">\r\n      <!-- 2 -->\r\n      <g transform=\"translate(106.492946 239.768479)scale(0.1 -0.1)\">\r\n       <defs>\r\n        <path d=\"M 4.6875 3.90625 \r\nQ 5.078125 9.765625 10.15625 14.453125 \r\nQ 15.234375 19.140625 23.046875 29.09375 \r\nQ 30.859375 39.0625 33.203125 44.53125 \r\nQ 35.546875 50 34.953125 53.90625 \r\nQ 34.375 57.8125 31.25 60.34375 \r\nQ 28.125 62.890625 24.015625 62.5 \r\nQ 19.921875 62.109375 16.203125 59.375 \r\nQ 12.5 56.640625 10.546875 51.171875 \r\nL 3.125 52.34375 \r\nQ 6.25 61.328125 11.125 65.421875 \r\nQ 16.015625 69.53125 22.65625 69.921875 \r\nQ 26.5625 70.3125 29.6875 69.71875 \r\nQ 32.8125 69.140625 36.125 66.984375 \r\nQ 39.453125 64.84375 41.59375 60.546875 \r\nQ 43.75 56.25 43.15625 50.1875 \r\nQ 42.578125 44.140625 37.109375 35.734375 \r\nQ 31.640625 27.34375 16.015625 9.375 \r\nL 44.140625 9.375 \r\nL 44.140625 2.34375 \r\nL 4.6875 2.34375 \r\nz\r\n\" id=\"SimHei-50\"/>\r\n       </defs>\r\n       <use xlink:href=\"#SimHei-50\"/>\r\n      </g>\r\n     </g>\r\n    </g>\r\n    <g id=\"xtick_4\">\r\n     <g id=\"line2d_4\">\r\n      <g>\r\n       <use style=\"stroke:#000000;stroke-width:0.8;\" x=\"146.280327\" xlink:href=\"#mca5c2300bd\" y=\"225.893479\"/>\r\n      </g>\r\n     </g>\r\n     <g id=\"text_4\">\r\n      <!-- 3 -->\r\n      <g transform=\"translate(143.780327 239.768479)scale(0.1 -0.1)\">\r\n       <defs>\r\n        <path d=\"M 3.90625 19.140625 \r\nL 10.9375 20.3125 \r\nQ 12.5 15.234375 16.015625 11.90625 \r\nQ 19.53125 8.59375 24.796875 8.78125 \r\nQ 30.078125 8.984375 33.203125 13.078125 \r\nQ 36.328125 17.1875 35.9375 22.453125 \r\nQ 35.546875 27.734375 31.828125 30.65625 \r\nQ 28.125 33.59375 19.921875 34.765625 \r\nL 19.921875 39.84375 \r\nQ 28.125 40.625 31.828125 44.140625 \r\nQ 35.546875 47.65625 35.15625 53.3125 \r\nQ 34.765625 58.984375 30.078125 61.515625 \r\nQ 25.390625 64.0625 20.109375 62.109375 \r\nQ 14.84375 60.15625 11.71875 51.171875 \r\nL 4.6875 52.34375 \r\nQ 7.03125 59.375 11.125 64.0625 \r\nQ 15.234375 68.75 22.265625 69.53125 \r\nQ 29.296875 70.3125 34.5625 67.765625 \r\nQ 39.84375 65.234375 41.984375 59.953125 \r\nQ 44.140625 54.6875 42.578125 48.4375 \r\nQ 41.015625 42.1875 33.59375 37.5 \r\nQ 39.0625 35.15625 41.984375 30.46875 \r\nQ 44.921875 25.78125 43.9375 18.15625 \r\nQ 42.96875 10.546875 37.109375 5.859375 \r\nQ 31.25 1.171875 23.828125 1.359375 \r\nQ 16.40625 1.5625 10.9375 6.046875 \r\nQ 5.46875 10.546875 3.90625 19.140625 \r\nz\r\n\" id=\"SimHei-51\"/>\r\n       </defs>\r\n       <use xlink:href=\"#SimHei-51\"/>\r\n      </g>\r\n     </g>\r\n    </g>\r\n    <g id=\"xtick_5\">\r\n     <g id=\"line2d_5\">\r\n      <g>\r\n       <use style=\"stroke:#000000;stroke-width:0.8;\" x=\"183.567709\" xlink:href=\"#mca5c2300bd\" y=\"225.893479\"/>\r\n      </g>\r\n     </g>\r\n     <g id=\"text_5\">\r\n      <!-- 4 -->\r\n      <g transform=\"translate(181.067709 239.768479)scale(0.1 -0.1)\">\r\n       <defs>\r\n        <path d=\"M 31.25 17.1875 \r\nL 1.171875 17.1875 \r\nL 1.171875 23.828125 \r\nL 32.8125 69.53125 \r\nL 38.671875 69.53125 \r\nL 38.671875 23.828125 \r\nL 48.046875 23.828125 \r\nL 48.046875 17.1875 \r\nL 38.671875 17.1875 \r\nL 38.671875 2.34375 \r\nL 31.25 2.34375 \r\nz\r\nM 31.25 23.828125 \r\nL 31.25 54.6875 \r\nL 9.375 23.828125 \r\nz\r\n\" id=\"SimHei-52\"/>\r\n       </defs>\r\n       <use xlink:href=\"#SimHei-52\"/>\r\n      </g>\r\n     </g>\r\n    </g>\r\n    <g id=\"xtick_6\">\r\n     <g id=\"line2d_6\">\r\n      <g>\r\n       <use style=\"stroke:#000000;stroke-width:0.8;\" x=\"220.855091\" xlink:href=\"#mca5c2300bd\" y=\"225.893479\"/>\r\n      </g>\r\n     </g>\r\n     <g id=\"text_6\">\r\n      <!-- 5 -->\r\n      <g transform=\"translate(218.355091 239.768479)scale(0.1 -0.1)\">\r\n       <defs>\r\n        <path d=\"M 8.59375 20.703125 \r\nQ 11.328125 10.15625 17.96875 8.984375 \r\nQ 24.609375 7.8125 28.703125 10.34375 \r\nQ 32.8125 12.890625 34.5625 16.984375 \r\nQ 36.328125 21.09375 36.125 26.171875 \r\nQ 35.9375 31.25 33.390625 34.765625 \r\nQ 30.859375 38.28125 26.953125 39.453125 \r\nQ 23.046875 40.625 18.15625 39.453125 \r\nQ 13.28125 38.28125 10.15625 33.984375 \r\nL 3.515625 34.765625 \r\nQ 4.296875 37.109375 10.9375 68.359375 \r\nL 41.796875 68.359375 \r\nL 41.796875 61.328125 \r\nL 16.796875 61.328125 \r\nQ 14.84375 50.78125 12.890625 44.53125 \r\nQ 18.75 47.265625 23.828125 47.0625 \r\nQ 28.90625 46.875 33.59375 44.71875 \r\nQ 38.28125 42.578125 40.421875 38.859375 \r\nQ 42.578125 35.15625 43.546875 31.4375 \r\nQ 44.53125 27.734375 44.328125 23.4375 \r\nQ 44.140625 19.140625 42.578125 14.640625 \r\nQ 41.015625 10.15625 37.890625 7.21875 \r\nQ 34.765625 4.296875 30.265625 2.53125 \r\nQ 25.78125 0.78125 19.921875 1.171875 \r\nQ 14.0625 1.5625 8.78125 5.46875 \r\nQ 3.515625 9.375 1.5625 18.75 \r\nz\r\n\" id=\"SimHei-53\"/>\r\n       </defs>\r\n       <use xlink:href=\"#SimHei-53\"/>\r\n      </g>\r\n     </g>\r\n    </g>\r\n    <g id=\"xtick_7\">\r\n     <g id=\"line2d_7\">\r\n      <g>\r\n       <use style=\"stroke:#000000;stroke-width:0.8;\" x=\"258.142473\" xlink:href=\"#mca5c2300bd\" y=\"225.893479\"/>\r\n      </g>\r\n     </g>\r\n     <g id=\"text_7\">\r\n      <!-- 6 -->\r\n      <g transform=\"translate(255.642473 239.768479)scale(0.1 -0.1)\">\r\n       <defs>\r\n        <path d=\"M 3.515625 19.53125 \r\nQ 4.296875 30.859375 6.046875 34.765625 \r\nQ 7.8125 38.671875 11.328125 44.53125 \r\nL 27.34375 69.53125 \r\nL 36.328125 69.53125 \r\nL 19.921875 43.75 \r\nQ 30.46875 46.484375 36.71875 42.96875 \r\nQ 42.96875 39.453125 45.109375 34.953125 \r\nQ 47.265625 30.46875 47.453125 25.1875 \r\nQ 47.65625 19.921875 45.890625 14.84375 \r\nQ 44.140625 9.765625 39.640625 5.65625 \r\nQ 35.15625 1.5625 27.140625 1.171875 \r\nQ 19.140625 0.78125 13.46875 4.09375 \r\nQ 7.8125 7.421875 5.65625 13.46875 \r\nQ 3.515625 19.53125 4.296875 30.859375 \r\nz\r\nM 12.5 16.015625 \r\nQ 19.53125 8.59375 25.390625 8.203125 \r\nQ 31.25 7.8125 35.15625 12.109375 \r\nQ 39.0625 16.40625 39.0625 24.609375 \r\nQ 39.0625 32.8125 34.171875 35.9375 \r\nQ 29.296875 39.0625 23.234375 38.28125 \r\nQ 17.1875 37.5 14.453125 32.421875 \r\nQ 11.71875 27.34375 12.109375 21.671875 \r\nQ 12.5 16.015625 19.53125 8.59375 \r\nz\r\n\" id=\"SimHei-54\"/>\r\n       </defs>\r\n       <use xlink:href=\"#SimHei-54\"/>\r\n      </g>\r\n     </g>\r\n    </g>\r\n    <g id=\"xtick_8\">\r\n     <g id=\"line2d_8\">\r\n      <g>\r\n       <use style=\"stroke:#000000;stroke-width:0.8;\" x=\"295.429855\" xlink:href=\"#mca5c2300bd\" y=\"225.893479\"/>\r\n      </g>\r\n     </g>\r\n     <g id=\"text_8\">\r\n      <!-- 7 -->\r\n      <g transform=\"translate(292.929855 239.768479)scale(0.1 -0.1)\">\r\n       <defs>\r\n        <path d=\"M 13.28125 2.34375 \r\nQ 20.3125 32.03125 37.890625 61.328125 \r\nL 4.296875 61.328125 \r\nL 4.296875 68.359375 \r\nL 46.09375 68.359375 \r\nL 46.09375 61.71875 \r\nQ 27.734375 32.03125 21.875 2.34375 \r\nL 13.28125 2.34375 \r\nz\r\n\" id=\"SimHei-55\"/>\r\n       </defs>\r\n       <use xlink:href=\"#SimHei-55\"/>\r\n      </g>\r\n     </g>\r\n    </g>\r\n    <g id=\"xtick_9\">\r\n     <g id=\"line2d_9\">\r\n      <g>\r\n       <use style=\"stroke:#000000;stroke-width:0.8;\" x=\"332.717237\" xlink:href=\"#mca5c2300bd\" y=\"225.893479\"/>\r\n      </g>\r\n     </g>\r\n     <g id=\"text_9\">\r\n      <!-- 8 -->\r\n      <g transform=\"translate(330.217237 239.768479)scale(0.1 -0.1)\">\r\n       <defs>\r\n        <path d=\"M 2.734375 16.796875 \r\nQ 2.734375 26.171875 5.078125 30.65625 \r\nQ 7.421875 35.15625 12.890625 37.890625 \r\nQ 8.203125 40.625 6.640625 43.9375 \r\nQ 5.078125 47.265625 4.875 51.5625 \r\nQ 4.6875 55.859375 6.046875 58.984375 \r\nQ 7.421875 62.109375 10.15625 64.84375 \r\nQ 12.890625 67.578125 16.203125 68.546875 \r\nQ 19.53125 69.53125 23.4375 69.53125 \r\nQ 27.34375 69.53125 30.46875 68.75 \r\nQ 33.59375 67.96875 37.109375 65.421875 \r\nQ 40.625 62.890625 42.1875 58.203125 \r\nQ 43.75 53.515625 41.984375 47.265625 \r\nQ 40.234375 41.015625 32.8125 37.5 \r\nQ 39.453125 35.546875 42.1875 31.4375 \r\nQ 44.921875 27.34375 44.921875 21.484375 \r\nQ 44.921875 15.625 43.15625 12.109375 \r\nQ 41.40625 8.59375 39.25 6.25 \r\nQ 37.109375 3.90625 33.390625 2.53125 \r\nQ 29.6875 1.171875 24.015625 1.171875 \r\nQ 18.359375 1.171875 14.25 2.53125 \r\nQ 10.15625 3.90625 7.421875 6.640625 \r\nQ 4.6875 9.375 3.703125 13.078125 \r\nQ 2.734375 16.796875 2.734375 26.171875 \r\nz\r\nM 10.9375 26.5625 \r\nQ 10.546875 17.1875 12.296875 13.671875 \r\nQ 14.0625 10.15625 18.75 9.171875 \r\nQ 23.4375 8.203125 28.515625 9.375 \r\nQ 33.59375 10.546875 35.546875 14.84375 \r\nQ 37.5 19.140625 36.90625 23.4375 \r\nQ 36.328125 27.734375 32.03125 30.65625 \r\nQ 27.734375 33.59375 22.65625 33.203125 \r\nQ 17.578125 32.8125 14.25 29.6875 \r\nQ 10.9375 26.5625 10.546875 17.1875 \r\nz\r\nM 12.109375 56.25 \r\nQ 12.109375 48.4375 14.84375 44.921875 \r\nQ 17.578125 41.40625 23.4375 41.40625 \r\nQ 29.296875 41.40625 32.21875 44.921875 \r\nQ 35.15625 48.4375 34.953125 53.3125 \r\nQ 34.765625 58.203125 31.4375 60.546875 \r\nQ 28.125 62.890625 22.453125 62.5 \r\nQ 16.796875 62.109375 14.453125 59.171875 \r\nQ 12.109375 56.25 12.109375 48.4375 \r\nz\r\n\" id=\"SimHei-56\"/>\r\n       </defs>\r\n       <use xlink:href=\"#SimHei-56\"/>\r\n      </g>\r\n     </g>\r\n    </g>\r\n   </g>\r\n   <g id=\"matplotlib.axis_2\">\r\n    <g id=\"ytick_1\">\r\n     <g id=\"line2d_10\">\r\n      <defs>\r\n       <path d=\"M 0 0 \r\nL -3.5 0 \r\n\" id=\"m4c74e663d3\" style=\"stroke:#000000;stroke-width:0.8;\"/>\r\n      </defs>\r\n      <g>\r\n       <use style=\"stroke:#000000;stroke-width:0.8;\" x=\"19.2\" xlink:href=\"#m4c74e663d3\" y=\"197.074409\"/>\r\n      </g>\r\n     </g>\r\n     <g id=\"text_10\">\r\n      <!-- 0 -->\r\n      <g transform=\"translate(7.2 200.511909)scale(0.1 -0.1)\">\r\n       <use xlink:href=\"#SimHei-48\"/>\r\n      </g>\r\n     </g>\r\n    </g>\r\n    <g id=\"ytick_2\">\r\n     <g id=\"line2d_11\">\r\n      <g>\r\n       <use style=\"stroke:#000000;stroke-width:0.8;\" x=\"19.2\" xlink:href=\"#m4c74e663d3\" y=\"159.787027\"/>\r\n      </g>\r\n     </g>\r\n     <g id=\"text_11\">\r\n      <!-- 1 -->\r\n      <g transform=\"translate(7.2 163.224527)scale(0.1 -0.1)\">\r\n       <use xlink:href=\"#SimHei-49\"/>\r\n      </g>\r\n     </g>\r\n    </g>\r\n    <g id=\"ytick_3\">\r\n     <g id=\"line2d_12\">\r\n      <g>\r\n       <use style=\"stroke:#000000;stroke-width:0.8;\" x=\"19.2\" xlink:href=\"#m4c74e663d3\" y=\"122.499646\"/>\r\n      </g>\r\n     </g>\r\n     <g id=\"text_12\">\r\n      <!-- 2 -->\r\n      <g transform=\"translate(7.2 125.937146)scale(0.1 -0.1)\">\r\n       <use xlink:href=\"#SimHei-50\"/>\r\n      </g>\r\n     </g>\r\n    </g>\r\n    <g id=\"ytick_4\">\r\n     <g id=\"line2d_13\">\r\n      <g>\r\n       <use style=\"stroke:#000000;stroke-width:0.8;\" x=\"19.2\" xlink:href=\"#m4c74e663d3\" y=\"85.212264\"/>\r\n      </g>\r\n     </g>\r\n     <g id=\"text_13\">\r\n      <!-- 3 -->\r\n      <g transform=\"translate(7.2 88.649764)scale(0.1 -0.1)\">\r\n       <use xlink:href=\"#SimHei-51\"/>\r\n      </g>\r\n     </g>\r\n    </g>\r\n    <g id=\"ytick_5\">\r\n     <g id=\"line2d_14\">\r\n      <g>\r\n       <use style=\"stroke:#000000;stroke-width:0.8;\" x=\"19.2\" xlink:href=\"#m4c74e663d3\" y=\"47.924882\"/>\r\n      </g>\r\n     </g>\r\n     <g id=\"text_14\">\r\n      <!-- 4 -->\r\n      <g transform=\"translate(7.2 51.362382)scale(0.1 -0.1)\">\r\n       <use xlink:href=\"#SimHei-52\"/>\r\n      </g>\r\n     </g>\r\n    </g>\r\n    <g id=\"ytick_6\">\r\n     <g id=\"line2d_15\">\r\n      <g>\r\n       <use style=\"stroke:#000000;stroke-width:0.8;\" x=\"19.2\" xlink:href=\"#m4c74e663d3\" y=\"10.6375\"/>\r\n      </g>\r\n     </g>\r\n     <g id=\"text_15\">\r\n      <!-- 5 -->\r\n      <g transform=\"translate(7.2 14.075)scale(0.1 -0.1)\">\r\n       <use xlink:href=\"#SimHei-53\"/>\r\n      </g>\r\n     </g>\r\n    </g>\r\n   </g>\r\n   <g id=\"line2d_16\">\r\n    <path clip-path=\"url(#p71c37290f9)\" d=\"M 34.418182 197.074409 \r\nL 152.466834 196.965616 \r\nL 154.942068 196.633502 \r\nL 157.377537 196.080718 \r\nL 159.753611 195.311721 \r\nL 162.051136 194.332709 \r\nL 164.251591 193.151575 \r\nL 166.33724 191.777838 \r\nL 168.29127 190.222573 \r\nL 170.09793 188.498316 \r\nL 171.742657 186.618966 \r\nL 173.212193 184.599673 \r\nL 181.255018 172.216544 \r\nL 262.089379 47.941398 \r\nL 263.715646 46.046051 \r\nL 265.505355 44.304206 \r\nL 267.444079 42.729903 \r\nL 269.516191 41.335832 \r\nL 271.704989 40.133231 \r\nL 273.992828 39.131794 \r\nL 276.361266 38.339594 \r\nL 278.791213 37.763015 \r\nL 281.26308 37.406706 \r\nL 283.756942 37.273539 \r\nL 298.14987 37.272548 \r\nL 312.017652 37.381288 \r\nL 314.53118 37.708601 \r\nL 317.00699 38.252038 \r\nL 319.426535 39.007528 \r\nL 321.771687 39.969411 \r\nL 324.02488 41.13048 \r\nL 326.169232 42.482039 \r\nL 328.188681 44.013961 \r\nL 330.068097 45.714771 \r\nL 331.793401 47.571727 \r\nL 333.351668 49.570918 \r\nL 334.731224 51.697367 \r\nL 335.921734 53.935143 \r\nL 336.91428 56.267484 \r\nL 337.701426 58.676915 \r\nL 338.277276 61.145388 \r\nL 338.637515 63.654409 \r\nL 338.779444 66.185183 \r\nL 338.781818 75.544306 \r\nL 338.781818 197.063894 \r\nL 338.781818 197.063894 \r\n\" style=\"fill:none;stroke:#ff0000;stroke-linecap:square;stroke-width:1.5;\"/>\r\n   </g>\r\n   <g id=\"patch_3\">\r\n    <path d=\"M 19.2 225.893479 \r\nL 19.2 8.453479 \r\n\" style=\"fill:none;stroke:#000000;stroke-linecap:square;stroke-linejoin:miter;stroke-width:0.8;\"/>\r\n   </g>\r\n   <g id=\"patch_4\">\r\n    <path d=\"M 354 225.893479 \r\nL 354 8.453479 \r\n\" style=\"fill:none;stroke:#000000;stroke-linecap:square;stroke-linejoin:miter;stroke-width:0.8;\"/>\r\n   </g>\r\n   <g id=\"patch_5\">\r\n    <path d=\"M 19.2 225.893479 \r\nL 354 225.893479 \r\n\" style=\"fill:none;stroke:#000000;stroke-linecap:square;stroke-linejoin:miter;stroke-width:0.8;\"/>\r\n   </g>\r\n   <g id=\"patch_6\">\r\n    <path d=\"M 19.2 8.453479 \r\nL 354 8.453479 \r\n\" style=\"fill:none;stroke:#000000;stroke-linecap:square;stroke-linejoin:miter;stroke-width:0.8;\"/>\r\n   </g>\r\n  </g>\r\n </g>\r\n <defs>\r\n  <clipPath id=\"p71c37290f9\">\r\n   <rect height=\"217.44\" width=\"334.8\" x=\"19.2\" y=\"8.453479\"/>\r\n  </clipPath>\r\n </defs>\r\n</svg>\r\n",
      "image/png": "[encoded data removed]"
     },
     "metadata": {
      "needs_background": "light"
     }
    }
   ],
   "source": [
    "# 设计一段机架\n",
    "t = ( # 使用括号，方便书写链式语法\n",
    "    Trajectory\n",
    "        # 设计轨道的起点，一般就设为原点\n",
    "        .set_start_point(start_point=P2.origin())\n",
    "        # 添加第一条直线段，需要给出直线的方向和长度\n",
    "        .first_line2(direct=P2.x_direct(), length=3.1)\n",
    "        # 添加一段圆弧，半径0.746，逆时针，偏转角度57度\n",
    "        .add_arc_line(radius=0.746, clockwise=False, angle_deg=57)\n",
    "        # 添加一条直线段，只需要给出长度 4.3，因为必须和之前的轨迹相切\n",
    "        .add_strait_line(length=4.3)\n",
    "        .add_arc_line(radius=0.746, clockwise=True, angle_deg=57)\n",
    "        .add_strait_line(length=0.684)\n",
    "        .add_arc_line(radius=0.7854, clockwise=True, angle_deg=90)\n",
    "        .add_strait_line(length=3.5)\n",
    ")\n",
    "\n",
    "# 绘图\n",
    "Plot2.plot_line2(t)\n",
    "Plot2.equal()\n",
    "# Plot2.show()\n",
    "\n",
    "# 查看 ISOC 位置\n",
    "end = t.point_at_end()\n",
    "print('ISOC 位置',end)\n",
    "\n",
    "# 查看束线总长度\n",
    "total_length = t.get_length()\n",
    "print('束线总长度',total_length)"
   ]
  },
  {
   "source": [
    "# Protons 用于质子的相关计算\n",
    "\n"
   ],
   "cell_type": "markdown",
   "metadata": {}
  },
  {
   "source": [
    "# RunningParticle 表示全局坐标系中运动的一个粒子"
   ],
   "cell_type": "markdown",
   "metadata": {}
  },
  {
   "source": [
    "# ParticleFactory 粒子工厂，用于方便的生成粒子"
   ],
   "cell_type": "markdown",
   "metadata": {}
  },
  {
   "source": [
    "# ParticleRunner 粒子运动指挥所"
   ],
   "cell_type": "markdown",
   "metadata": {}
  },
  {
   "source": [
    "# PhaseSpaceParticle 像空间中的粒子"
   ],
   "cell_type": "markdown",
   "metadata": {}
  },
  {
   "source": [
    "# CCT 磁铁"
   ],
   "cell_type": "markdown",
   "metadata": {}
  },
  {
   "source": [
    "# QS 磁铁\n",
    "\n",
    "QS 磁铁是一种可以产生四极场（quadrupole）和六极场（sextupole）的多功能组合磁铁，有利于束线设计的紧凑性。当六极场设为 0 时，可以当作普通的四极磁铁使用，同理当四极场为 0 时，可以当作普通的六极磁铁。\n",
    "\n",
    "注意：在 cctpy 中，QS 磁铁采用硬边模型计算磁场，不涉及边缘场。\n",
    "\n",
    "定义一个 QS 磁铁，需要如下参数：\n",
    "- 磁铁所在局部坐标系\n",
    "- 磁铁长度 length\n",
    "- 梯度大小 gradient\n",
    "- 二阶梯度（六极场梯度）大小 second_gradient\n",
    "- 半孔径 aperture_radius\n",
    "\n",
    "\n",
    "<div style=\"border-style:solid;\">注意：陈庚指出纯六极场的梯度为 2By/(r<sup>2</sup>)，这里的系数 2 一直被疏忽了。考虑 y=0 的点，则多极场磁场分布为 B = a<sub>0</sub> + a<sub>1</sub>x + a<sub>2</sub>x<sup>2</sup> + .. + a<sub>n</sub>x<sup>n</sup>，恒明显第 2(i+1) 极场梯度为 (∂<sup>i</sup>B/∂x<sup>i</sup>)<sub>x=0</sub>=(i!)a<sub>i</sub>。也就是说梯度是∂<sup>i</sup>B/∂x<sup>i</sup>，而不是B/x<sup>i</sup>。cctpy 中按照此定义</div>"
   ],
   "cell_type": "markdown",
   "metadata": {}
  },
  {
   "source": [
    "## QS 磁铁的局部坐标系\n",
    "\n",
    "下面代码首先定义了一条束线（起点为原点，y 方向长度 1m），然后将 QS 磁铁放置在束线 0.4m 的位置。QS 磁铁具体参数见代码中注释。\n",
    "\n",
    "<div><small>本文档使用 jupyter notebook 编写，不支持 matplotlib 三维绘图，所以用三引号注释了代码中的绘图部分，将代码复制到单独的 python 文件中运行，即可查看绘图效果。本文中也将绘图结果放置在了下方</small></div>\n"
   ],
   "cell_type": "markdown",
   "metadata": {}
  },
  {
   "source": [
    "# 定义设计轨道，从原点出发，y 方向 1 米的直线轨道\n",
    "trajectory = (Trajectory\n",
    "    .set_start_point(P2.origin())\n",
    "    .first_line2(direct=P2.y_direct(), length=1 * M)\n",
    ")\n",
    "\n",
    "# 放置 QS 磁铁，位于先前定义的 trajectory 上，位置为 0.4m\n",
    "# QS 磁铁长度 0.27m，四极场梯度 20T/m，六极场梯度 0，半孔径 60mm\n",
    "qs = QS.create_qs_along(\n",
    "    trajectory,\n",
    "    s=0.4 * M,\n",
    "    length=0.27 * M,\n",
    "    gradient=20,\n",
    "    second_gradient=0,\n",
    "    aperture_radius=60 * MM,\n",
    ")\n",
    "\n",
    "\"\"\"\n",
    "Plot3.plot_line2(trajectory, describe=\"y--\") # 绘制设计轨道，黄色虚线\n",
    "Plot3.plot_qs(qs, describe=\"b-\") # 绘制 QS 磁体，蓝线\n",
    "Plot3.plot_local_coordinate_system(qs.local_coordinate_system,axis_lengths=[0.1,0.1,0.3],describe='k-') # 绘制 QS 磁铁所处的局部坐标系，黑线\n",
    "Plot3.set_box(P3(-0.2,0,-0.2), P3(0.2,1,0.2)) # 设置三维绘图视界范围\n",
    "Plot3.off_axis() # 不绘制坐标轴\n",
    "Plot3.remove_background_color() # 去除背景颜色\n",
    "Plot3.show() # 展示图片\n",
    "\"\"\"\n",
    "pass"
   ],
   "cell_type": "code",
   "metadata": {},
   "execution_count": 30,
   "outputs": []
  },
  {
   "source": [
    "<img src='./img/A09QS磁铁.jpg'></img>\n",
    "\n",
    "如上图所示，黄色虚线是设计轨道，蓝色圆柱表示 QS 磁铁，重点关注 QS 磁铁的局部坐标系，**它附着在 QS 磁铁上，原点即 QS 磁铁入口中心，Z 轴即 QS 磁铁轴线方向，X 轴为处于水平面上，Y 轴为垂线方向**\n",
    "\n",
    "可以尝试修改 QS 磁铁的局部坐标系，再绘制图象观察。\n",
    "\n",
    "\n",
    "\n"
   ],
   "cell_type": "markdown",
   "metadata": {}
  },
  {
   "cell_type": "code",
   "execution_count": 31,
   "metadata": {},
   "outputs": [],
   "source": [
    "qs.local_coordinate_system.location -= qs.local_coordinate_system.XI * 30 * MM"
   ]
  },
  {
   "source": [
    "这行代码将 QS 的局部坐标系原点，以局部坐标的 X 负方向移动 30mm，下图反映了这一变化，可见 QS 磁铁轴线脱离了设计轨道（黄色虚线）\n",
    "\n",
    "<img src='./img/A09QS磁铁MOVE.jpg'></img>\n",
    "\n",
    "查看此时，轨道上二极场和四极场分布："
   ],
   "cell_type": "markdown",
   "metadata": {}
  },
  {
   "cell_type": "code",
   "execution_count": null,
   "metadata": {},
   "outputs": [],
   "source": [
    "B2 = qs.magnetic_field_bz_along(trajectory)\n",
    "B4 = qs.graident_field_along(trajectory)\n",
    "\n",
    "Plot2.plot_p2s(B2)\n",
    "Plot2.plot_p2s(B4)\n",
    "# Plot2.show()"
   ]
  },
  {
   "source": [
    "# 方便绘图的 Plot2 Plot3"
   ],
   "cell_type": "markdown",
   "metadata": {}
  }
 ]
}