{
 "cells": [
  {
   "cell_type": "markdown",
   "metadata": {},
   "source": [
    "# CCTPY 核心概念\n",
    "\n",
    "## CCTPY 是一个基于单线模型进行 CCT 磁场计算、束线建模、粒子跟踪的程序\n",
    "\n",
    "## 坐标\n",
    "\n",
    "**为了便于磁场建模、粒子跟踪、束流分析，CCTPY 中引入了全剧坐标系和局部坐标系的概念**\n",
    "\n",
    "粒子 / 束流运动在全局坐标系中，一般在 XZ 平面内运行，如下图所示\n",
    "\n",
    "<img src=\"./img/A01坐标_束流在XZ平面运行_三维.jpg\" width=40%></img>\n",
    "\n",
    "旋转一下示意图，只看 XZ 平面，如下图所示，可见一般而言磁铁也都放置在 XZ 平面。\n",
    "\n",
    "<img src=\"./img/A02坐标_束流在XZ平面运行_二维加上磁铁.jpg\" width=40%></img>\n",
    "\n",
    "为了便于磁铁建模，每个磁铁附上了一个局部坐标系，目的是消除磁铁移动时的开销，局部坐标系如下图所示（图中三个绿色坐标系）\n",
    "\n",
    "（因为 CCT 磁铁一般由上万个离散的点组成，如果移动 CCT 就要移动这么多的点，开销很大，但如果仅仅移动局部坐标系，则开销很小）\n",
    "\n",
    "这样一样，为了计算磁铁对粒子产生的磁场，需要进行坐标变换，将粒子的坐标（全局坐标）转为该磁铁的局部坐标，转换完成后，即可计算磁场，而磁场本身也是矢量，所以需要转换回去（局部坐标系下的磁场转为全局坐标系）\n",
    "\n",
    "<img src=\"./img/A03坐标_局部坐标系示意图.jpg\" width=40%></img>\n",
    "\n",
    "具体每种磁铁的局部坐标设置方法，详见各自介绍\n",
    "\n",
    "## CCTPY 的使用\n",
    "\n",
    "为了便于代码分发，所有 CCTPY 代码都写在了一个文件 cctpy.py 中，使用 from cctpy import * 可以如导入全部类"
   ]
  },
  {
   "cell_type": "code",
   "execution_count": 2,
   "metadata": {},
   "outputs": [
    {
     "name": "stdout",
     "output_type": "stream",
     "text": [
      "299792458.0\n"
     ]
    }
   ],
   "source": [
    "from cctpy import *\n",
    "print(LIGHT_SPEED)"
   ]
  },
  {
   "cell_type": "markdown",
   "metadata": {},
   "source": [
    "# 常量\n",
    "\n",
    "CCTPY 中内置了一些常量，共有如下 9 个"
   ]
  },
  {
   "cell_type": "code",
   "execution_count": 15,
   "metadata": {},
   "outputs": [
    {
     "name": "stdout",
     "output_type": "stream",
     "text": [
      "1米1.0\n",
      "1毫米0.001M\n",
      "光速299792458.0\n",
      "1弧度1.0\n",
      "1毫弧度0.001RAD\n",
      "1焦耳1.0\n",
      "1电子伏特1.6021766208e-19J\n",
      "1兆电子伏特1.6021766208000001e-13J\n",
      "1MeV/c5.3442857792e-22J\n"
     ]
    }
   ],
   "source": [
    "print(f\"1米{M}\")\n",
    "print(f\"1毫米{MM}M\")\n",
    "print(f\"光速{LIGHT_SPEED}\")\n",
    "print(f\"1弧度{RAD}\")\n",
    "print(f\"1毫弧度{MRAD}RAD\")\n",
    "print(f\"1焦耳{J}\")\n",
    "print(f\"1电子伏特{eV}J\")\n",
    "print(f\"1兆电子伏特{MeV}J\")\n",
    "print(f\"1MeV/c{MeV_PER_C}J\")"
   ]
  },
  {
   "cell_type": "markdown",
   "metadata": {},
   "source": [
    "# 点和矢量\n",
    "\n",
    "点和矢量是 CCTPY 中最基本的概念，粒子的位置是一个点、粒子速度是一个矢量、CCT 磁铁路径由上万个点组成、磁场也是一个矢量\n",
    "\n",
    "CCTPY 中严格区分 二维点/二维矢量 和 三维点/三维矢量，他们分别由类 P2 和类 P3 表示\n",
    "\n",
    "## P2\n",
    "\n",
    "P2 既可以表示二维坐标系中的点 (x, y)，也可以表示二维向量 (x, y)。它包含一下方便的运算操作\n"
   ]
  },
  {
   "cell_type": "code",
   "execution_count": 7,
   "metadata": {},
   "outputs": [
    {
     "name": "stdout",
     "output_type": "stream",
     "text": [
      "P2:x(0.0)y(0.0) P2:x(0.0)y(0.0) P2:x(0.0)y(0.0)\n"
     ]
    }
   ],
   "source": [
    "# 创建一个 (0,0)点/矢量\n",
    "p1 = P2()\n",
    "p2 = P2.origin()\n",
    "p3 = P2.zeros()\n",
    "\n",
    "print(p1,p2,p3)"
   ]
  },
  {
   "cell_type": "code",
   "execution_count": 8,
   "metadata": {},
   "outputs": [
    {
     "name": "stdout",
     "output_type": "stream",
     "text": [
      "P2:x(3.14)y(0.0) P2:x(4.13)y(0.0)\n",
      "P2:x(0.0)y(6.28) P2:x(0.0)y(2.68)\n"
     ]
    }
   ],
   "source": [
    "# 创建一个 x 轴上的点，或者说和 x 轴平行的矢量\n",
    "x1 = P2(x=3.14)\n",
    "x2 = P2.x_direct(4.13)\n",
    "print(x1,x2)\n",
    "\n",
    "# 创建一个 y 轴上的点，或者说和 y 轴平行的矢量\n",
    "y1 = P2(y=6.28)\n",
    "y2 = P2.y_direct(2.68)\n",
    "print(y1,y2)"
   ]
  },
  {
   "cell_type": "code",
   "execution_count": 9,
   "metadata": {},
   "outputs": [
    {
     "name": "stdout",
     "output_type": "stream",
     "text": [
      "P2:x(2.0)y(3.0) P2:x(0.1)y(0.2)\n"
     ]
    }
   ],
   "source": [
    "# 创建任意一个点，或矢量\n",
    "p1 = P2(2,3)\n",
    "p2 = P2(0.1,0.2)\n",
    "print(p1,p2)"
   ]
  },
  {
   "cell_type": "markdown",
   "metadata": {},
   "source": [
    "## P3"
   ]
  }
 ],
 "metadata": {
  "kernelspec": {
   "display_name": "Python 3",
   "language": "python",
   "name": "python3"
  },
  "language_info": {
   "codemirror_mode": {
    "name": "ipython",
    "version": 3
   },
   "file_extension": ".py",
   "mimetype": "text/x-python",
   "name": "python",
   "nbconvert_exporter": "python",
   "pygments_lexer": "ipython3",
   "version": "3.8.0"
  }
 },
 "nbformat": 4,
 "nbformat_minor": 2
}
